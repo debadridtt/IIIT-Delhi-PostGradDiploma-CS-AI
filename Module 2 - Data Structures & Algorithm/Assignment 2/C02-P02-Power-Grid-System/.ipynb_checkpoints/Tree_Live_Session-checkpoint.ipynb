{
 "cells": [
  {
   "cell_type": "markdown",
   "metadata": {
    "id": "UtbqvhJH3Nq3"
   },
   "source": [
    "|                                     |                                      |\n",
    "| ---                                 | ---                                  |\n",
    "| <img src=\"http://drive.google.com/uc?export=view&id=1JzM1Jig5KAOCvU4tIf2t66B3gd1uy1rG\" width=200px> |<img src=\"http://drive.google.com/uc?export=view&id=1kMibD1EUis_6bwFtFIOgvUg22zEdROns\" width=200px>|\n",
    "\n",
    "Proprietary content. © Great Learning. All Rights Reserved. Unauthorized use or distribution prohibited."
   ]
  },
  {
   "cell_type": "markdown",
   "metadata": {
    "id": "t4tbNld83Nq7"
   },
   "source": [
    "# <font color='blue'> Table Of Contents </font>\n",
    "\n",
    "## <font color='blue'> Trees </font>\n",
    "\n",
    "## <font color='blue'> Binary Search trees </font>\n",
    "\n",
    "## <font color='blue'> Searching in BST </font>\n",
    "\n",
    "## <font color='blue'> Deletion in BST </font>\n",
    "\n",
    "## <font color='blue'> Traversal Exercise in BST </font>\n",
    "\n",
    "## <font color='blue'> Creation of BST using Pre/Post/Inorder </font>\n",
    "\n",
    "## <font color='blue'> Source Code \n",
    "\n",
    "* Searching\n",
    "* Deletion </font>\n"
   ]
  },
  {
   "cell_type": "markdown",
   "metadata": {
    "id": "YX90ee293Nq8"
   },
   "source": [
    "# <font color='blue'> Trees </font>\n",
    "\n",
    "A tree consists of a set of nodes and a set of edges that connect pairs of nodes. A tree has the following properties:\n",
    "\n",
    "- One node of the tree is designated as the root node.\n",
    "\n",
    "- Every node n, except the root node, is connected by an edge from exactly one other node p, where p is the parent of n.\n",
    "\n",
    "- A unique path traverses from the root to each node.\n",
    "\n",
    "- If each node in the tree has a maximum of two children, we say that the tree is a binary tree.\n",
    "\n",
    "\n",
    "# <font color='blue'> Binary Search Trees </font>\n",
    "\n",
    "A binary search tree relies on the property that keys that are less than the parent are found in the left subtree, and keys that are greater than the parent are found in the right subtree.\n",
    "\n",
    "\n",
    "Now that you know what a binary search tree is, we will look at how a binary search tree is constructed. The search tree in above figure represents the nodes that exist after we have inserted the following keys in the order shown: ***70,31,93,94,14,23,73***. \n",
    "\n",
    "- Since 70 was the first key inserted into the tree, it is the root. \n",
    "- Next, 31 is less than 70, so it becomes the left child of 70. \n",
    "- Next, 93 is greater than 70, so it becomes the right child of 70. \n",
    "- Now we have two levels of the tree filled, so the next key is going to be the left or right child of either 31 or 93. \n",
    "- Since 94 is greater than 70 and 93, it becomes the right child of 93. \n",
    "- Similarly 14 is less than 70 and 31, so it becomes the left child of 31.\n",
    "- 23 is also less than 31, so it must be in the left subtree of 31. However, it is greater than 14, so it becomes the right child of 14.\n",
    "\n",
    "#IMAGE\n"
   ]
  },
  {
   "cell_type": "markdown",
   "metadata": {
    "id": "W3IglX3Vt7Ky"
   },
   "source": [
    "## <font color='blue'> **Binary Search Tree Implementation** </font>\n",
    "\n",
    "## <font color='blue'> **Node Class** </font>\n",
    "\n",
    "The Node class will contain the basic structure and data that any of the node will hold in the designed tree. \n",
    "\n"
   ]
  },
  {
   "cell_type": "code",
   "execution_count": null,
   "metadata": {
    "id": "HfXqSeFCt4jV"
   },
   "outputs": [],
   "source": [
    "class Node:\n",
    "    def __init__(self, data):\n",
    "        self.data = data\n",
    "        self.right = None\n",
    "        self.left = None\n",
    "        self.parent = None\n",
    "\n"
   ]
  },
  {
   "cell_type": "markdown",
   "metadata": {
    "id": "A3GPvMbkuWSk"
   },
   "source": [
    "### <font color='blue'> **BST class** </font>\n",
    "\n"
   ]
  },
  {
   "cell_type": "code",
   "execution_count": null,
   "metadata": {
    "id": "TgN5saOwumLV"
   },
   "outputs": [],
   "source": [
    "class BST:\n",
    "    # Intitializing the Tree structure \n",
    "    def __init__(self):\n",
    "        self.root = None\n"
   ]
  },
  {
   "cell_type": "markdown",
   "metadata": {
    "id": "Eg64L_sDuwuX"
   },
   "source": [
    "Now that we have the BST shell and the Node it is time to write the insert method that will allow us to build our binary search tree. The insert method is a method of the BST class. This method will check to see if the tree already has a root. If there is not a root then put will create a new Node and install it as the root of the tree. If a root node is already in place then put calls the private, recursive, to search the tree according to the following algorithm:\n",
    "\n",
    "- Starting at the root of the tree, search the binary tree comparing the new key to the key in the current node. If the new key is less than the current node, search the left subtree. If the new key is greater than the current node, search the right subtree.\n",
    "\n",
    "- When there is no left (or right) child to search, we have found the position in the tree where the new node should be installed.\n",
    "\n",
    "- To add a node to the tree, create a new Node object and insert the object at the point discovered in the previous step."
   ]
  },
  {
   "cell_type": "code",
   "execution_count": null,
   "metadata": {
    "id": "8XL6PfHJu7B4"
   },
   "outputs": [],
   "source": [
    "    def insert(self, n):\n",
    "            y = None\n",
    "            temp = self.root\n",
    "            # Running the while loop to find the correct position for given node\n",
    "            while temp != None:\n",
    "                y = temp\n",
    "                # Comparing values tod ecide if traversal should be done in left or right side\n",
    "                if n.data < temp.data:\n",
    "                    temp = temp.left\n",
    "                else:\n",
    "                    temp = temp.right\n",
    "\n",
    "            n.parent = y\n",
    "            # If there is no node in the tree\n",
    "            if y == None: \n",
    "                self.root = n\n",
    "            elif n.data < y.data:\n",
    "                y.left = n\n",
    "            else:\n",
    "                y.right = n\n"
   ]
  },
  {
   "cell_type": "markdown",
   "metadata": {
    "id": "_9L4-NDSu59J"
   },
   "source": [
    "Once the tree is constructed, the next task is to implement the retrieval of a value for a given key. The get method is even easier than the put method because it simply searches the tree recursively until it gets to a non-matching leaf node or finds a matching key. When a matching key is found, the value stored in the payload of the node is returned."
   ]
  },
  {
   "cell_type": "code",
   "execution_count": null,
   "metadata": {
    "id": "E5Pa2JQCvKPJ"
   },
   "outputs": [],
   "source": [
    "    def search(self, value):\n",
    "    \n",
    "        temp = self.root\n",
    "        # Running the while loop to find the correct position for given node\n",
    "        while temp != None:\n",
    "\n",
    "            # Comparing values tod ecide if traversal should be done in left or right side\n",
    "            if value < temp.data:\n",
    "                temp = temp.left\n",
    "            elif value > temp.data:\n",
    "                temp = temp.right\n",
    "            else:\n",
    "                print(\"Item is found in the Tree\")\n",
    "                return\n",
    "        else:\n",
    "            print(\"Item not available in the tree\")\n",
    "            return"
   ]
  },
  {
   "cell_type": "markdown",
   "metadata": {
    "id": "MAFWyMEDvTFc"
   },
   "source": [
    "Finally, we turn our attention to the most challenging method in the binary search tree, the deletion of a key. The first task is to find the node to delete by searching the tree. If the tree has more than one node then we search to find the Node that needs to be removed. If the tree only has a single node, that means we are removing the root of the tree, but we still must check to make sure the key of the root matches the key that is to be deleted. In either case if the key is not found the del operator raises an error."
   ]
  },
  {
   "cell_type": "code",
   "execution_count": null,
   "metadata": {
    "id": "JUB4q1IXvUTK"
   },
   "outputs": [],
   "source": [
    "    # Method to find the minimum value in the tree\n",
    "    def minimum(self, x):\n",
    "        # Running while loop and going left side of the tree\n",
    "        # Left side of subtree should contain element with lowest values\n",
    "        while x.left != None:\n",
    "            x = x.left\n",
    "        return x\n",
    "    \n",
    "    def delete_helper(self, p, q):\n",
    "        if p.parent == None:\n",
    "            self.root = q\n",
    "        elif p == p.parent.left:\n",
    "            p.parent.left = q\n",
    "        else:\n",
    "            p.parent.right = q\n",
    "\n",
    "        if q != None:\n",
    "            q.parent = p.parent\n",
    "            \n",
    "    # Code to perform deletion over the BST\n",
    "    def delete(self, z):\n",
    "        if z.left == None:\n",
    "            self.delete_helper(z, z.right)\n",
    "\n",
    "        elif z.right == None:\n",
    "            self.delete_helper(z, z.left)\n",
    "        \n",
    "        # Lets find the minimum in the right subtree (y). \n",
    "        # Now, we have to put this minimum node (y) in the place of z.\n",
    "        else:\n",
    "            y = self.minimum(z.right) #minimum element in right subtree\n",
    "            #transplant the right of y to y and then \n",
    "            #take the right subtree of z and make it the right subtree of y.\n",
    "\n",
    "            if y.parent != z:\n",
    "                self.delete_helper(y, y.right)\n",
    "                y.right = z.right\n",
    "            y.right.parent = y\n",
    "\n",
    "            self.delete_helper(z, y)\n",
    "            y.left = z.left\n",
    "            y.left.parent = y"
   ]
  },
  {
   "cell_type": "code",
   "execution_count": null,
   "metadata": {
    "id": "GzckHOUROst1"
   },
   "outputs": [],
   "source": [
    "    def inorder(self, n):\n",
    "            if n != None:\n",
    "                self.inorder(n.left)\n",
    "                print(n.data)\n",
    "                self.inorder(n.right)\n",
    "\n",
    "        def preorder(self, n):\n",
    "            if n != None:\n",
    "                print(n.data)\n",
    "                self.preorder(n.left)\n",
    "                self.preorder(n.right)\n",
    "\n",
    "        def postorder(self, n):\n",
    "            if n != None:\n",
    "                self.postorder(n.left)\n",
    "                self.postorder(n.right)\n",
    "                print(n.data)"
   ]
  },
  {
   "cell_type": "markdown",
   "metadata": {
    "id": "_nLmKT6KOst1"
   },
   "source": [
    "# <font color='blue'> Traversal exercise </font>"
   ]
  },
  {
   "cell_type": "markdown",
   "metadata": {
    "id": "l5K2wgEZOst1"
   },
   "source": [
    "There are three types of traversals are possible in Binary trees. These traversal are known as: \n",
    "\n",
    "- Inorder \n",
    "- Preorder\n",
    "- Postorder\n",
    "\n",
    "**inorder**\n",
    "- In an inorder traversal, we recursively do an inorder traversal on the left subtree, visit the root node, and finally do a recursive inorder traversal of the right subtree.\n",
    "\n",
    "**preorder**\n",
    "\n",
    "- In a preorder traversal, we visit the root node first, then recursively do a preorder traversal of the left subtree, followed by a recursive preorder traversal of the right subtree.\n",
    "\n",
    "**postorder**\n",
    "- In a postorder traversal, we recursively do a postorder traversal of the left subtree and the right subtree followed by a visit to the root node."
   ]
  },
  {
   "cell_type": "code",
   "execution_count": null,
   "metadata": {
    "id": "jAsqb-i-Ost2"
   },
   "outputs": [],
   "source": [
    "\n",
    "def inorder(tree):\n",
    "    if tree:\n",
    "        inorder(tree.get_left_child())\n",
    "        print(tree.get_root_val())\n",
    "        inorder(tree.get_right_child())\n",
    "\n",
    "\n",
    "def preorder(tree):\n",
    "    if tree:\n",
    "        print(tree.get_root_val())\n",
    "        preorder(tree.get_left_child())\n",
    "        preorder(tree.get_right_child())\n",
    "        \n",
    "\n",
    "        \n",
    "def postorder(tree):\n",
    "    if tree:\n",
    "        postorder(tree.get_left_child())\n",
    "        postorder(tree.get_right_child())\n",
    "        print(tree.get_root_val())"
   ]
  },
  {
   "cell_type": "markdown",
   "metadata": {
    "id": "3NBz_dJ7Ost2"
   },
   "source": [
    "Lets have a look at the examples and calculate the inorder, preorder and postorder of binary tree.  \n",
    "\n",
    "\n",
    "1. <img src=\"http://drive.google.com/uc?export=view&id=18dJ4_AiQ1Y2Zus5pLI-9fPUQU0Plh-Kv\" width=200px>\n",
    "\n",
    "- Inorder- \n",
    "- Postorder-\n",
    "- Preorder-\n",
    "\n",
    "2. <img src=\"http://drive.google.com/uc?export=view&id=19-pg5bESKywipU95zHFRoCyWnuThz10K\" width=400px>\n",
    "\n",
    "- Inorder- \n",
    "- Postorder-\n",
    "- Preorder-\n",
    "\n",
    "3. <img src=\"http://drive.google.com/uc?export=view&id=1b48aFInd7vm8T2CRydQtXwilz8Sy1SWT\" width=400px>\n",
    "\n",
    "- Inorder- \n",
    "- Postorder-\n",
    "- Preorder-\n",
    "\n",
    "4. <img src=\"http://drive.google.com/uc?export=view&id=1n4AgKODRFhsCaPEC6nvSgXFOIM0WCW84\" width=400px>\n",
    "\n",
    "- Inorder- \n",
    "- Postorder-\n",
    "- Preorder-"
   ]
  },
  {
   "cell_type": "markdown",
   "metadata": {
    "id": "tdUI3kJkOst2"
   },
   "source": [
    "### <font color='blue'> Level Order Traversal </font>\n",
    "\n",
    "We will be using Queue Data structure to implement level order traversal. \n",
    "\n",
    "In Level order traversals where Trees can also be traversed in level order, where we visit every node on a level before going to a lower level. This search is referred to as level order traversal as the search tree is broadened as much as possible on each depth before going to the next depth.\n",
    "\n",
    "We will be using Queue data structure and its usage to implement this traversal. \n"
   ]
  },
  {
   "cell_type": "code",
   "execution_count": null,
   "metadata": {
    "id": "eAu6VNUpOst2"
   },
   "outputs": [],
   "source": [
    "class Queue:\n",
    "    def __init__(self):\n",
    "        self.items = []\n",
    "\n",
    "    def isEmpty(self):\n",
    "        return self.items == []\n",
    "\n",
    "    def enqueue(self,item):\n",
    "        self.items.insert(0, item)\n",
    "\n",
    "    def dequeue(self):\n",
    "        return self.items.pop()\n",
    "    "
   ]
  },
  {
   "cell_type": "code",
   "execution_count": null,
   "metadata": {
    "id": "fRMHhQTqOst3"
   },
   "outputs": [],
   "source": [
    "    \n",
    "    def levelorder(self, root):\n",
    "            if root is None:\n",
    "                return\n",
    "            else:\n",
    "                q = Queue()\n",
    "                q.enqueue(root)\n",
    "\n",
    "                while(not q.isEmpty()):\n",
    "                    root = q.dequeue()\n",
    "                    print(root.data)\n",
    "\n",
    "                    if(root.left is not None):\n",
    "                        q.enqueue(root.left)\n",
    "\n",
    "                    if(root.right is not None):\n",
    "                        q.enqueue(root.right)"
   ]
  },
  {
   "cell_type": "markdown",
   "metadata": {
    "id": "iYB98Rg_Ost3"
   },
   "source": [
    "# <font color='blue'> Creation of Binary Tree using Preorder/Postorder/Inorder </font>\n",
    "\n",
    "We can create the Binary Tree using Inorder and with either using preorder or postorder. In oder to understan dhow construction can happen for the Binary tree, lets have a look at the example.\n",
    "\n",
    "\n",
    "- Inorder Traversal : { 40, 20, 11, 72, 51, 83, 32, 68 }\n",
    "\n",
    "- Preorder Traversal: { 11, 20, 40, 32, 51, 72, 83, 68 }\n",
    "\n",
    "Lets have a look at the output as the following tree.\n",
    "\n",
    "<img src=\"http://drive.google.com/uc?export=view&id=1Bbv3Bbet-H3wCNxYSys6LBPZ_WAERWRp\" width=400px>\n",
    "\n"
   ]
  },
  {
   "cell_type": "markdown",
   "metadata": {
    "id": "IyJ5b3ROOst3"
   },
   "source": [
    "The idea is to start with the root node, which would be the first item in the preorder sequence, and find the boundary of its left and right subtree in the inorder sequence. \n",
    "\n",
    "To find the boundary, search for the index of the root node in the inorder sequence. All keys before the root node in the inorder sequence become part of the left subtree, and all keys after the root node become part of the right subtree. \n",
    "\n",
    "Repeat this recursively for all nodes in the tree and construct the tree in the process.\n",
    "\n",
    "The root will be the first element in the preorder sequence, i.e., 11. Next, locate the index of the root node in the inorder sequence. Since 11 is the root node, all nodes before 11 in the inorder sequence must be included in the left subtree, i.e., {40, 20} and all the nodes after 11 must be included in the right subtree, i.e., {72, 51, 83, 32, 68}. Now the problem is reduced to building the left and right subtrees and linking them to the root node. The step should be implemented recirsively for each node. \n",
    "\n",
    "<img src=\"http://drive.google.com/uc?export=view&id=18AzLHRbvCWBjXhv9JaBtbc_xVwTHrEgI\" width=400px>\n"
   ]
  },
  {
   "cell_type": "markdown",
   "metadata": {
    "id": "tIjobt2NOst4"
   },
   "source": [
    "# <font color='blue'> Source Code </font>"
   ]
  },
  {
   "cell_type": "code",
   "execution_count": null,
   "metadata": {
    "id": "4XM_92D5Ost4",
    "outputId": "58bcc471-5d70-415d-ad4a-5df50c275cec"
   },
   "outputs": [
    {
     "name": "stdout",
     "output_type": "stream",
     "text": [
      "Item not available in the tree\n",
      "Item is found in the Tree\n",
      "In Order\n",
      "23\n",
      "70\n",
      "80\n",
      "87\n",
      "90\n",
      "95\n",
      "100\n",
      "110\n",
      "113\n",
      "120\n",
      "127\n",
      "130\n",
      "140\n",
      "Preorder\n",
      "100\n",
      "90\n",
      "80\n",
      "70\n",
      "23\n",
      "87\n",
      "95\n",
      "110\n",
      "120\n",
      "113\n",
      "130\n",
      "127\n",
      "140\n",
      "Postorder\n",
      "23\n",
      "70\n",
      "87\n",
      "80\n",
      "95\n",
      "90\n",
      "113\n",
      "127\n",
      "140\n",
      "130\n",
      "120\n",
      "110\n",
      "100\n",
      "Level Order\n",
      "100\n",
      "90\n",
      "110\n",
      "80\n",
      "95\n",
      "120\n",
      "70\n",
      "87\n",
      "113\n",
      "130\n",
      "23\n",
      "127\n",
      "140\n"
     ]
    }
   ],
   "source": [
    "class Node:\n",
    "    def __init__(self, data):\n",
    "        self.data = data\n",
    "        self.right = None\n",
    "        self.left = None\n",
    "        self.parent = None\n",
    "\n",
    "class Queue:\n",
    "    def __init__(self):\n",
    "        self.items = []\n",
    "\n",
    "    def isEmpty(self):\n",
    "        return self.items == []\n",
    "\n",
    "    def enqueue(self,item):\n",
    "        self.items.insert(0, item)\n",
    "\n",
    "    def dequeue(self):\n",
    "        return self.items.pop()\n",
    "\n",
    "class BST:\n",
    "    # Intitializing the Tree structure \n",
    "    def __init__(self):\n",
    "        self.root = None\n",
    "        \n",
    "    # Method to find the minimum value in the tree\n",
    "    def minimum(self, x):\n",
    "        # Running while loop and going left side of the tree\n",
    "        # Left side of subtree should contain element with lowest values\n",
    "        while x.left != None:\n",
    "            x = x.left\n",
    "        return x\n",
    "\n",
    "    def insert(self, n):\n",
    "        y = None\n",
    "        temp = self.root\n",
    "        # Running the while loop to find the correct position for given node\n",
    "        while temp != None:\n",
    "            y = temp\n",
    "            # Comparing values tod ecide if traversal should be done in left or right side\n",
    "            if n.data < temp.data:\n",
    "                temp = temp.left\n",
    "            else:\n",
    "                temp = temp.right\n",
    "\n",
    "        n.parent = y\n",
    "        # If there is no node in the tree\n",
    "        if y == None: \n",
    "            self.root = n\n",
    "        elif n.data < y.data:\n",
    "            y.left = n\n",
    "        else:\n",
    "            y.right = n\n",
    "\n",
    "    def search(self, value):\n",
    "    \n",
    "        temp = self.root\n",
    "        # Running the while loop to find the correct position for given node\n",
    "        while temp != None:\n",
    "\n",
    "            # Comparing values tod ecide if traversal should be done in left or right side\n",
    "            if value < temp.data:\n",
    "                temp = temp.left\n",
    "            elif value > temp.data:\n",
    "                temp = temp.right\n",
    "            else:\n",
    "                print(\"Item is found in the Tree\")\n",
    "                return\n",
    "        else:\n",
    "            print(\"Item not available in the tree\")\n",
    "            return\n",
    "\n",
    "    def inorder(self, n):\n",
    "        if n != None:\n",
    "            self.inorder(n.left)\n",
    "            print(n.data)\n",
    "            self.inorder(n.right)\n",
    "    \n",
    "    def preorder(self, n):\n",
    "        if n != None:\n",
    "            print(n.data)\n",
    "            self.preorder(n.left)\n",
    "            self.preorder(n.right)\n",
    "\n",
    "    def postorder(self, n):\n",
    "        if n != None:\n",
    "            self.postorder(n.left)\n",
    "            self.postorder(n.right)\n",
    "            print(n.data)\n",
    "\n",
    "    def delete_helper(self, p, q):\n",
    "        if p.parent == None:\n",
    "            self.root = q\n",
    "        elif p == p.parent.left:\n",
    "            p.parent.left = q\n",
    "        else:\n",
    "            p.parent.right = q\n",
    "\n",
    "        if q != None:\n",
    "            q.parent = p.parent\n",
    "            \n",
    "    # Code to perform deletion over the BST\n",
    "    def delete(self, z):\n",
    "        if z.left == None:\n",
    "            self.delete_helper(z, z.right)\n",
    "\n",
    "        elif z.right == None:\n",
    "            self.delete_helper(z, z.left)\n",
    "        \n",
    "        # Lets find the minimum in the right subtree (y). \n",
    "        # Now, we have to put this minimum node (y) in the place of z.\n",
    "        else:\n",
    "            y = self.minimum(z.right) #minimum element in right subtree\n",
    "            #transplant the right of y to y and then \n",
    "            #take the right subtree of z and make it the right subtree of y.\n",
    "\n",
    "            if y.parent != z:\n",
    "                self.delete_helper(y, y.right)\n",
    "                y.right = z.right\n",
    "            y.right.parent = y\n",
    "\n",
    "            self.delete_helper(z, y)\n",
    "            y.left = z.left\n",
    "            y.left.parent = y\n",
    "\n",
    "\n",
    "    def levelorder(self, root):\n",
    "        if root is None:\n",
    "            return\n",
    "        else:\n",
    "            q = Queue()\n",
    "            q.enqueue(root)\n",
    "\n",
    "            while(not q.isEmpty()):\n",
    "                root = q.dequeue()\n",
    "                print(root.data)\n",
    "\n",
    "                if(root.left is not None):\n",
    "                    q.enqueue(root.left)\n",
    "\n",
    "                if(root.right is not None):\n",
    "                    q.enqueue(root.right)\n",
    "\n",
    "\n",
    "if __name__ == '__main__':\n",
    "\n",
    "    t = BST()\n",
    "\n",
    "    a = Node(100)\n",
    "    b = Node(90)\n",
    "    c = Node(110)\n",
    "    d = Node(120)\n",
    "    e = Node(80)\n",
    "    f = Node(95)\n",
    "    g = Node(70)\n",
    "    h = Node(87)\n",
    "    i = Node(113)\n",
    "    j = Node(130)\n",
    "    k = Node(23)\n",
    "    l = Node(127)\n",
    "    m = Node(140)\n",
    "\n",
    "    t.insert(a)\n",
    "    t.insert(b)\n",
    "    t.insert(c)\n",
    "    t.insert(d)\n",
    "    t.insert(e)\n",
    "    t.insert(f)\n",
    "    t.insert(g)\n",
    "    t.insert(h)\n",
    "    t.insert(i)\n",
    "    t.insert(j)\n",
    "    t.insert(k)\n",
    "    t.insert(l)\n",
    "    t.insert(m)\n",
    "    \n",
    "    t.search(10)\n",
    "    t.search(140)\n",
    "    \n",
    "    print(\"In Order\")\n",
    "    t.inorder(t.root)\n",
    "    print(\"Preorder\")\n",
    "    t.preorder(t.root)\n",
    "    print(\"Postorder\")\n",
    "    t.postorder(t.root)\n",
    "    print(\"Level Order\")\n",
    "    t.levelorder(t.root)"
   ]
  },
  {
   "cell_type": "code",
   "execution_count": null,
   "metadata": {
    "id": "TPF-seVoOst5"
   },
   "outputs": [],
   "source": []
  }
 ],
 "metadata": {
  "colab": {
   "collapsed_sections": [],
   "name": "Tree_Live_Session.ipynb",
   "provenance": []
  },
  "kernelspec": {
   "display_name": "Python 3",
   "language": "python",
   "name": "python3"
  },
  "language_info": {
   "codemirror_mode": {
    "name": "ipython",
    "version": 3
   },
   "file_extension": ".py",
   "mimetype": "text/x-python",
   "name": "python",
   "nbconvert_exporter": "python",
   "pygments_lexer": "ipython3",
   "version": "3.7.6"
  }
 },
 "nbformat": 4,
 "nbformat_minor": 1
}
