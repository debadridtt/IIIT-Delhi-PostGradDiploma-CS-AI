{
 "cells": [
  {
   "cell_type": "markdown",
   "metadata": {},
   "source": [
    "<img src=\"http://drive.google.com/uc?export=view&id=1JzM1Jig5KAOCvU4tIf2t66B3gd1uy1rG\" width=500px>"
   ]
  },
  {
   "cell_type": "markdown",
   "metadata": {},
   "source": [
    "# <font color='blue'> Table Of Contents </font>\n",
    "\n",
    "## <font color='blue'> Graphs </font>\n",
    "\n",
    "<font color='blue'>\n",
    "    \n",
    "* Introduction\n",
    "* Friends network example\n",
    "* Operations\n",
    "    * Create\n",
    "    * Insert\n",
    "    * Search / Traverse\n",
    "    * Find networking parameters\n",
    "        * 1st level friends\n",
    "        * 2nd level friends\n",
    "        * Potential Friends suggestions\n",
    "        * Person with max number of tweets\n",
    "* Use case\n",
    "    * Directed Acyclic Graphs\n",
    "\n",
    "</font>"
   ]
  },
  {
   "cell_type": "markdown",
   "metadata": {},
   "source": [
    "### <font color='blue'> Introduction </font>\n",
    "\n",
    "Lets look at the definition of graph data structure and how it can be used to implement and mimic the social networking where people can follow or connect with each other. \n",
    "\n",
    "This simulation is one of the way to store and organize the data in social networking applications. By saving your data in graph data structure the further application can be extended by utilizing it into the decision making and recommendation systems based on the various other parameters such as last searched item, tweet sentiments, type of followers etc. \n",
    "\n",
    "Here is a type of social networking graph that shows who is connected with whom. \n",
    "\n",
    "<img src=\"http://drive.google.com/uc?export=view&id=1xRvVFAfB7_mnYHrwmn0k9kRn9AN8DwFx\" width=500px>\n"
   ]
  },
  {
   "cell_type": "markdown",
   "metadata": {},
   "source": [
    "### <font color='blue'> Friends network example </font>\n",
    "\n",
    "In this example we will be implementing the following properties of the social networking application. We will be doing certain operation on these data structure. Lets have a look at the implementation done.\n",
    "\n",
    "To do this operation we will be using adjacency list, where we will be utilizing linked list data structure to maintain the signed up user and their connection/follower lists. \n",
    "\n",
    "Because we are maintaining the user information using linked list, we can store other data points as well based on the requirement. \n",
    "\n",
    "Please understand that we are mimicking the behavior and full fledged implementation of social networking is not added. This limitation include follower deletion, tweet deletion, tweet updation etc. \n",
    "\n",
    "Lets look at the structure and what information we are saving corresponding to each user. \n",
    "\n",
    "Each person will have information such as\n",
    "\n",
    "- Name\n",
    "\n",
    "- User Name\n",
    "\n",
    "- Number of followers\n",
    "\n",
    "- Number of following\n",
    "\n",
    "- Total uploads/tweets\n",
    "\n",
    "**Operations**\n",
    "\n",
    "For any person identify the people \n",
    "\n",
    "- Neighbors of the person\n",
    "\n",
    "- 2nd level contact of the person\n",
    "\n",
    "- 3rd level contact of the person\n",
    "\n",
    "- A person with the highest tweet/uploads\n",
    "\n",
    "- Identify if a person can be a potential follower or may have an interest in another person, this we can check if there is a path between two-person profiles. \n",
    "\n"
   ]
  },
  {
   "cell_type": "markdown",
   "metadata": {},
   "source": [
    "### <font color='blue'>Operations </font>"
   ]
  },
  {
   "cell_type": "markdown",
   "metadata": {},
   "source": [
    "#### <font color='blue'> Create </font>\n",
    "We create the User class which stores all the required information."
   ]
  },
  {
   "cell_type": "code",
   "execution_count": 1,
   "metadata": {},
   "outputs": [],
   "source": [
    "class UserNode:\n",
    "    def __init__(self,given_name, login_name,):\n",
    "        self.given_name = given_name\n",
    "        self.login_name = login_name\n",
    "        self.next = None\n",
    "    \n",
    "    def __str__(self):\n",
    "        return \"(\" + self.given_name + \",\" + self.login_name +\")\""
   ]
  },
  {
   "cell_type": "code",
   "execution_count": 2,
   "metadata": {},
   "outputs": [],
   "source": [
    "class AdjacencyList:\n",
    "    def __init__(self):\n",
    "        self.head = UserNode(\"dummy\", \"0000\") #dummy node to indicate empty list"
   ]
  },
  {
   "cell_type": "markdown",
   "metadata": {},
   "source": [
    "#### <font color='blue'> Insert </font>\n",
    "The steps involved is simple\n",
    "1. Create a new node\n",
    "1. Update the next pointer to the existing head of linked list\n",
    "1. Update the head of linked list to the newly created node\n",
    "\n",
    "In the process we develop the Adjacency list which is a standard approach of representing a graph."
   ]
  },
  {
   "cell_type": "code",
   "execution_count": 3,
   "metadata": {},
   "outputs": [],
   "source": [
    "class AdjacencyList:\n",
    "    def __init__(self):\n",
    "        self.head = UserNode(\"dummy\", \"0000\") #dummy node to indicate empty list\n",
    "            \n",
    "    def insert(self,given_name, login_name):\n",
    "        temp = UserNode(given_name, login_name)\n",
    "        temp.next = self.head\n",
    "        self.head = temp"
   ]
  },
  {
   "cell_type": "markdown",
   "metadata": {},
   "source": [
    "#### <font color='blue'> Search / Traverse </font>\n",
    "Traversing / Searching is similar to a linear search. The steps involved are\n",
    "1. Start from the head of the list\n",
    "1. Check if the key matches the content in the node, if yes then return that node\n",
    "1. Otherwise proceed to next node using the reference stored in next field\n",
    "\n",
    "This stops when we have reached the end of the linked list"
   ]
  },
  {
   "cell_type": "code",
   "execution_count": 4,
   "metadata": {},
   "outputs": [],
   "source": [
    "def search(self,name=None,code=None):\n",
    "    curr = self.head\n",
    "    while curr!=None:\n",
    "        if curr.name == name or curr.code == code : return curr\n",
    "        curr = curr.next\n",
    "    return curr"
   ]
  },
  {
   "cell_type": "code",
   "execution_count": 5,
   "metadata": {},
   "outputs": [],
   "source": [
    "class AdjacencyList:\n",
    "    def __init__(self):\n",
    "        self.head = UserNode(\"dummy\", \"0000\") #dummy node to indicate empty list\n",
    "    \n",
    "    def insert(self,given_name, login_name):\n",
    "        temp = UserNode(given_name, login_name)\n",
    "        temp.next = self.head\n",
    "        self.head = temp\n",
    "    \n",
    "    def search(self,name=None,code=None):\n",
    "        curr = self.head\n",
    "        while curr!=None:\n",
    "            if curr.name == name or curr.code == code : return curr\n",
    "            curr = curr.next\n",
    "        return curr\n",
    "\n",
    "    def show(self):\n",
    "        curr = self.head\n",
    "        while curr != None:\n",
    "            print(curr)\n",
    "            curr = curr.next\n",
    "            \n",
    "    def neighbours(self):\n",
    "        curr = self.head\n",
    "        res = set()\n",
    "        while curr != None:\n",
    "            res.add(curr.given_name)\n",
    "            curr = curr.next\n",
    "        return res\n",
    "\n",
    "    \n",
    "    def __del__(self): #clear the entire inner list if the usernode friends list is dropped\n",
    "        curr = self.head\n",
    "        while curr !=None :\n",
    "            temp = curr\n",
    "            curr = curr.next\n",
    "            del(temp)"
   ]
  },
  {
   "cell_type": "markdown",
   "metadata": {},
   "source": [
    "With the Adjacency list being ready, we need to now create a list for each user which stores the information of all his/her friends. This would be the Friendship graph that we are aiming to create. This by itself can be a linked list by itself.\n",
    "A similar approach as mentioned previously is taken."
   ]
  },
  {
   "cell_type": "code",
   "execution_count": 9,
   "metadata": {},
   "outputs": [],
   "source": [
    "class FriendsNode:\n",
    "    def __init__(self, login_name, given_name, followers, following, tweet):\n",
    "        self.login_name = login_name\n",
    "        self.given_name = given_name\n",
    "        self.followers_count = followers\n",
    "        self.following_count = following\n",
    "        self.tweet_count = tweet\n",
    "        self.next = None\n",
    "    \n",
    "    def __str__(self):\n",
    "        return \"[\" + \",\".join((self.given_name,self.login_name,str(self.followers_count),str(self.following_count),str(self.tweet_count))) + \"]\"\n",
    "    \n",
    "\n",
    "class FriendsNetwork:\n",
    "    def __init__(self):\n",
    "        self.head = FriendsNode(\"dummy\",\"0000\",-1,-1,0) #dummy node to indicate empty list\n",
    "    \n",
    "    def insert(self,given_name,login_name,followers, following, msgs_count):\n",
    "        temp = FriendsNode(login_name,given_name,followers, following, msgs_count)\n",
    "        temp.next = self.head\n",
    "        self.head = temp\n",
    "    \n",
    "    def search(self,login_name=None,given_name=None):\n",
    "        curr = self.head\n",
    "        while curr!=None:\n",
    "            if curr.login_name==login_name or curr.given_name==given_name: return curr\n",
    "            curr = curr.next\n",
    "        return curr\n",
    "\n",
    "    def show(self):\n",
    "        curr = self.head\n",
    "        while curr != None:\n",
    "            print(curr)\n",
    "            curr = curr.next"
   ]
  },
  {
   "cell_type": "markdown",
   "metadata": {},
   "source": [
    "#### <font color='blue'> Demo </font>"
   ]
  },
  {
   "cell_type": "code",
   "execution_count": 10,
   "metadata": {},
   "outputs": [
    {
     "name": "stdout",
     "output_type": "stream",
     "text": [
      "[0000,dummy,-1,-1,0]\n",
      "(dummy,0000)\n",
      "[ananya pandey,1003,13,22,33]\n",
      "[santa singh,1004,3,22,33]\n",
      "[banta singh,1004,22,55,44]\n",
      "[hermoine,1002,11,12,55]\n",
      "[harry potter,1001,10,30,88]\n",
      "[0000,dummy,-1,-1,0]\n",
      "search returned: [hermoine,1002,11,12,55]\n",
      "Neighbours of some of the users:\n",
      "Neighbours of Santa Singh\n",
      "(banta singh,1003)\n",
      "(siddarth shukla,1010)\n",
      "(dummy,0000)\n",
      "Neighbours of Banta Singh\n",
      "(banta singh,1004)\n",
      "(harry potter,1001)\n",
      "(dummy,0000)\n",
      "Neighbours of Hermione\n",
      "(santa singh,1006)\n",
      "(harry potter,1001)\n",
      "(dummy,0000)\n",
      "Neighbours of Harry Potter\n",
      "(ananya pandey,1003)\n",
      "(deepika padukone,1005)\n",
      "(dummy,0000)\n"
     ]
    }
   ],
   "source": [
    "x = FriendsNetwork()\n",
    "x.show() #will show dummy node indicating empty list\n",
    "x.insert(\"harry potter\",\"1001\",10,30,88)\n",
    "x.head.friends = AdjacencyList()\n",
    "x.head.friends.show() #will show dummy node indicating empty list\n",
    "x.head.friends.insert(\"hermoine\", \"1002\",)\n",
    "x.head.friends.insert(\"banta singh\", \"1004\")\n",
    "x.head.friends.insert(\"santa singh\", \"1006\")\n",
    "\n",
    "x.insert(\"hermoine\",\"1002\",11,12,55)\n",
    "x.head.friends = AdjacencyList()\n",
    "x.head.friends.insert(\"deepika padukone\", \"1005\")\n",
    "x.head.friends.insert(\"ananya pandey\", \"1003\")\n",
    "\n",
    "\n",
    "x.insert(\"banta singh\",\"1004\",22,55,44)\n",
    "x.head.friends = AdjacencyList()\n",
    "x.head.friends.insert(\"harry potter\",\"1001\")\n",
    "x.head.friends.insert(\"santa singh\",\"1006\")\n",
    "\n",
    "x.insert(\"santa singh\",\"1004\",3,22,33)\n",
    "x.head.friends = AdjacencyList()\n",
    "x.head.friends.insert(\"harry potter\",\"1001\")\n",
    "x.head.friends.insert(\"banta singh\",\"1004\")\n",
    "\n",
    "x.insert(\"ananya pandey\",\"1003\",13,22,33)\n",
    "x.head.friends = AdjacencyList()\n",
    "x.head.friends.insert(\"siddarth shukla\",\"1010\")\n",
    "x.head.friends.insert(\"banta singh\",\"1003\")\n",
    "\n",
    "x.show() #shows the list of users\n",
    "\n",
    "ret = x.search(login_name=\"1002\")\n",
    "print(\"search returned:\",ret)\n",
    "\n",
    "print(\"Neighbours of some of the users:\")\n",
    "print(\"Neighbours of Santa Singh\"); x.head.friends.show() #santa singh\n",
    "print(\"Neighbours of Banta Singh\"); x.head.next.friends.show() #banta singh\n",
    "print(\"Neighbours of Hermione\"); x.head.next.next.friends.show() #hermione\n",
    "print(\"Neighbours of Harry Potter\"); x.head.next.next.next.friends.show() #harry potter\n"
   ]
  },
  {
   "cell_type": "code",
   "execution_count": 11,
   "metadata": {},
   "outputs": [],
   "source": [
    "def find_2nd_level_friends(given_name):\n",
    "    res = set()\n",
    "    ret = x.search(given_name=given_name)\n",
    "    curr = ret.friends.head\n",
    "    while curr.next != None :\n",
    "        temp = x.search(given_name=curr.given_name)\n",
    "        if temp : \n",
    "            curr_temp = temp.friends.head \n",
    "            while curr_temp != None :\n",
    "               res.add(curr_temp.given_name)\n",
    "               curr_temp = curr_temp.next \n",
    "        curr = curr.next\n",
    "    return res - {\"dummy\"}\n",
    "    "
   ]
  },
  {
   "cell_type": "code",
   "execution_count": 12,
   "metadata": {},
   "outputs": [
    {
     "data": {
      "text/plain": [
       "{'ananya pandey',\n",
       " 'banta singh',\n",
       " 'deepika padukone',\n",
       " 'harry potter',\n",
       " 'santa singh'}"
      ]
     },
     "execution_count": 12,
     "metadata": {},
     "output_type": "execute_result"
    }
   ],
   "source": [
    "find_2nd_level_friends(\"harry potter\")"
   ]
  },
  {
   "cell_type": "code",
   "execution_count": 13,
   "metadata": {},
   "outputs": [],
   "source": [
    "def find_3rd_level_friends(given_name):\n",
    "    res = set()\n",
    "    ret = x.search(given_name=given_name)\n",
    "    curr = ret.friends.head\n",
    "    while curr.next != None :\n",
    "        temp = find_2nd_level_friends(curr.given_name)\n",
    "        res = res.union(temp)\n",
    "        curr = curr.next\n",
    "    return res - {\"dummy\"}"
   ]
  },
  {
   "cell_type": "code",
   "execution_count": 14,
   "metadata": {},
   "outputs": [
    {
     "data": {
      "text/plain": [
       "{'banta singh', 'harry potter', 'hermoine', 'santa singh', 'siddarth shukla'}"
      ]
     },
     "execution_count": 14,
     "metadata": {},
     "output_type": "execute_result"
    }
   ],
   "source": [
    "find_3rd_level_friends(\"harry potter\")"
   ]
  },
  {
   "cell_type": "code",
   "execution_count": 15,
   "metadata": {},
   "outputs": [],
   "source": [
    "def potential_follower(given_name): #Present only the Third level contacts \n",
    "    return find_3rd_level_friends(given_name) - find_2nd_level_friends(given_name) - x.search(given_name=given_name).friends.neighbours()"
   ]
  },
  {
   "cell_type": "code",
   "execution_count": 16,
   "metadata": {},
   "outputs": [
    {
     "data": {
      "text/plain": [
       "{'siddarth shukla'}"
      ]
     },
     "execution_count": 16,
     "metadata": {},
     "output_type": "execute_result"
    }
   ],
   "source": [
    "potential_follower(\"harry potter\")"
   ]
  },
  {
   "cell_type": "code",
   "execution_count": 17,
   "metadata": {},
   "outputs": [],
   "source": [
    "def person_max_tweets(llist):\n",
    "    curr = llist.head\n",
    "    maxval = 0\n",
    "    maxnode = None\n",
    "    while curr != None:\n",
    "        if curr.tweet_count > maxval :\n",
    "            maxval = curr.tweet_count\n",
    "            maxnode = curr\n",
    "        curr = curr.next\n",
    "    return maxnode\n"
   ]
  },
  {
   "cell_type": "code",
   "execution_count": 18,
   "metadata": {},
   "outputs": [
    {
     "name": "stdout",
     "output_type": "stream",
     "text": [
      "[harry potter,1001,10,30,88]\n"
     ]
    }
   ],
   "source": [
    "node = person_max_tweets(x)\n",
    "print(node)"
   ]
  },
  {
   "cell_type": "markdown",
   "metadata": {},
   "source": [
    "# <font color='blue'> Directed Acyclic Graphs </font>"
   ]
  },
  {
   "cell_type": "markdown",
   "metadata": {},
   "source": [
    "In modern computing solutions, the concept of a DAG or Directed Acyclic Graph is central. While the term DAG has become quite the buzz word: understanding what they are, how they are used in computing, and how/where they show up in data science and machine learning is not just buzz. In short, a DAG describes a sequence of execution steps in the complex non-recurring computation.\n",
    "\n",
    "How often do you come across the need to create a DAG in machine learning?\n",
    "Every. Single. Day.\n",
    "\n",
    "Machine learning can be constructively defined to be “the art of building DAGs to treat and transform data using a sequence of advanced mathematical transforms to generate a repeatable formulation that solves a problem for new data.” In Data Science and Machine Learning, a pipeline or workflow is nothing but a DAG. Note that this is not the only place where DAGs are found in Data Science/Machine Learning.\n",
    "\n",
    "The point is, as you build your ML code, you need to orchestrate your workflow. There really is little reason to do this manually. Unfortunately, not everyone is aware of the tools out there. A first step is to understand what you are building — a DAG — and help you down that path. \n",
    "\n",
    "A graph is cyclic if it contains one or more cycles, where a cycle is defined as a path between vertices along edges that allows you to return to a vertex along with a unique set of edges. A graph is acyclic when it contains no cycles. Therefore, a directed acyclic graph or DAG is a directed graph with no cycles. \n",
    "\n",
    "Now, you may be saying… “We loop back all the time in machine learning; the model training step is fraught with it when you are optimizing, recurrent neural networks loop back on themselves, and so on!” — You are correct. A DAG is not a universal descriptor of a pipeline when you zoom in, but it is a descriptor at the high level of execution; it describes the steps being taken — aka the pipeline.\n",
    "\n",
    "\n",
    "<img src=\"http://drive.google.com/uc?export=view&id=1kyM5DtgEwxO4KKz0yja3R_PWbpBWRheL\" width=500px>\n"
   ]
  },
  {
   "cell_type": "code",
   "execution_count": null,
   "metadata": {},
   "outputs": [],
   "source": []
  }
 ],
 "metadata": {
  "kernelspec": {
   "display_name": "Python 3",
   "language": "python",
   "name": "python3"
  },
  "language_info": {
   "codemirror_mode": {
    "name": "ipython",
    "version": 3
   },
   "file_extension": ".py",
   "mimetype": "text/x-python",
   "name": "python",
   "nbconvert_exporter": "python",
   "pygments_lexer": "ipython3",
   "version": "3.7.6"
  }
 },
 "nbformat": 4,
 "nbformat_minor": 5
}
