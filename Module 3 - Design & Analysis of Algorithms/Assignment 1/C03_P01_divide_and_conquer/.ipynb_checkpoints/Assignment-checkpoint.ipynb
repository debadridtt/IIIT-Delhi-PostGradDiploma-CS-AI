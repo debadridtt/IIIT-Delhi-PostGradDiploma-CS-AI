{
 "cells": [
  {
   "cell_type": "code",
   "execution_count": 23,
   "metadata": {},
   "outputs": [
    {
     "data": {
      "text/plain": [
       "['.ipynb_checkpoints',\n",
       " 'app_data1.csv',\n",
       " 'app_data2.csv',\n",
       " 'app_data3.csv',\n",
       " 'app_data4.csv',\n",
       " 'Assignment.ipynb',\n",
       " 'C03_P01_divide_and_conquer.py',\n",
       " 'sample_output']"
      ]
     },
     "execution_count": 23,
     "metadata": {},
     "output_type": "execute_result"
    }
   ],
   "source": [
    "import os\n",
    "os.listdir()"
   ]
  },
  {
   "cell_type": "code",
   "execution_count": 34,
   "metadata": {},
   "outputs": [],
   "source": [
    "import csv\n",
    "\n",
    "class System:\n",
    "    def __init__(self):\n",
    "        self.sensors_list = list()\n",
    "        self.sensor_mapping_list = list()\n",
    "        self.master_node_list = list()\n",
    "        \n",
    "    def config_system(self, file):\n",
    "        data_file = open(file, 'r')\n",
    "        reader = csv.DictReader(data_file)\n",
    "        for row in reader:\n",
    "            node_id = row['Node ID']\n",
    "            type = row['Type']\n",
    "            master_node_id = row['Master Node ID']\n",
    "            \n",
    "            if type == 'Master':\n",
    "                self.master_node_list.append(int(master_node_id))\n",
    "            elif type == \"Sensor\":\n",
    "                self.sensors_list.append(int(node_id))\n",
    "                self.sensor_mapping_list.append(int(master_node_id))\n",
    "                \n",
    "        \n",
    "    def SensorAssignedCount(self, mapping_list, l, r, OverloadSensor):\n",
    "        count = 0\n",
    "        for i in range(l, r+1):\n",
    "            if (mapping_list[i] == OverloadSensor): \n",
    "                count +=  1\n",
    "        return count\n",
    "    \n",
    "    def OverloadNodeHelper(self,l, r):\n",
    "        for i in set(self.sensor_mapping_list):\n",
    "            n_sensors = self.sensor_mapping_list.count(i)\n",
    "            if (n_sensors >= len(self.sensors_list)-1//2):\n",
    "                return i\n",
    "    \n",
    "    def partialOverload(self, l, r):\n",
    "        for i in set(self.sensor_mapping_list):\n",
    "            n_sensors = self.sensor_mapping_list.count(i)\n",
    "            if (n_sensors >= len(self.sensors_list)//3) & (n_sensors < len(self.sensors_list)-1//2):\n",
    "                return i\n",
    "        \n",
    "    def getOverloadedNode(self):\n",
    "        return self.OverloadNodeHelper(0, len(self.sensor_mapping_list)-1)\n",
    "    \n",
    "    def getPotentialOverloadNode(self):\n",
    "        return self.partialOverload(0, len(self.sensor_mapping_list)-1)"
   ]
  },
  {
   "cell_type": "code",
   "execution_count": 35,
   "metadata": {
    "scrolled": true
   },
   "outputs": [
    {
     "name": "stdout",
     "output_type": "stream",
     "text": [
      "Overloded Master Node :  1001\n",
      "Partially Overloaded Master Node :  1001\n",
      "Overloded Master Node :  1001\n",
      "Partially Overloaded Master Node :  1001\n",
      "Overloded Master Node :  -1\n",
      "Partially Overloaded Master Node :  -1\n",
      "Overloded Master Node :  1001\n",
      "Partially Overloaded Master Node :  1001\n"
     ]
    }
   ],
   "source": [
    "if __name__ == \"__main__\":\n",
    "    test_system1 = System()\n",
    "    \n",
    "    test_system1.config_system('app_data1.csv')\n",
    "    \n",
    "    print(\"Overloded Master Node : \", test_system1.getOverloadedNode())\n",
    "    \n",
    "    print(\"Partially Overloaded Master Node : \", test_system1.getPotentialOverloadNode())\n",
    "\n",
    "    test_system2 = System()\n",
    "    \n",
    "    test_system2.config_system('app_data2.csv')\n",
    "    \n",
    "    print(\"Overloded Master Node : \", test_system2.getOverloadedNode())\n",
    "    \n",
    "    print(\"Partially Overloaded Master Node : \", test_system2.getPotentialOverloadNode())\n",
    "\n",
    "    test_system3 = System()\n",
    "\n",
    "    test_system3.config_system('app_data3.csv')\n",
    "    \n",
    "    print(\"Overloded Master Node : \", test_system3.getOverloadedNode())\n",
    "    \n",
    "    print(\"Partially Overloaded Master Node : \", test_system3.getPotentialOverloadNode())\n",
    "\n",
    "    test_system4 = System()\n",
    "\n",
    "    test_system4.config_system('app_data4.csv')\n",
    "    \n",
    "    print(\"Overloded Master Node : \", test_system4.getOverloadedNode())\n",
    "    \n",
    "    print(\"Partially Overloaded Master Node : \", test_system4.getPotentialOverloadNode())\n"
   ]
  },
  {
   "cell_type": "code",
   "execution_count": null,
   "metadata": {},
   "outputs": [],
   "source": []
  }
 ],
 "metadata": {
  "kernelspec": {
   "display_name": "Python 3",
   "language": "python",
   "name": "python3"
  },
  "language_info": {
   "codemirror_mode": {
    "name": "ipython",
    "version": 3
   },
   "file_extension": ".py",
   "mimetype": "text/x-python",
   "name": "python",
   "nbconvert_exporter": "python",
   "pygments_lexer": "ipython3",
   "version": "3.7.6"
  }
 },
 "nbformat": 4,
 "nbformat_minor": 4
}
