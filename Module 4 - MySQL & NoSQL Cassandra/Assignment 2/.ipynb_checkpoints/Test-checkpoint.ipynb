{
 "cells": [
  {
   "cell_type": "code",
   "execution_count": 2,
   "metadata": {},
   "outputs": [],
   "source": [
    "from cassandra.cluster import Cluster"
   ]
  },
  {
   "cell_type": "code",
   "execution_count": 3,
   "metadata": {},
   "outputs": [
    {
     "name": "stdout",
     "output_type": "stream",
     "text": [
      "4.0.0.6816\n"
     ]
    }
   ],
   "source": [
    "from cassandra.cluster import Cluster\n",
    "from cassandra.auth import PlainTextAuthProvider\n",
    "\n",
    "CLIENT_ID = 'lCQOWzxTZSbjSixFTbjKSgPK'\n",
    "ASTRA_SECRET = 'hY8pqDZP4nKZ8-Ej9qTi4MWOusSJRHma1rvnXrqY_w9yl4DHJttXMf4HryX-Hg6Fex8TlM0f0W86,qO.h_+Nz6T.YNj+UbFsXGs6gl9sdFzlg-DPS5hqwOhrYUZfMJZA'\n",
    "\n",
    "\n",
    "cloud_config= {\n",
    "         'secure_connect_bundle': 'secure-connect-e-commerce-db.zip'\n",
    "}\n",
    "auth_provider = PlainTextAuthProvider(CLIENT_ID, ASTRA_SECRET)\n",
    "cluster = Cluster(cloud=cloud_config, auth_provider=auth_provider)\n",
    "session = cluster.connect()\n",
    "\n",
    "row = session.execute(\"select release_version from system.local\").one()\n",
    "if row:\n",
    "      print(row[0])\n",
    "else:\n",
    "      print(\"An error occurred.\")"
   ]
  },
  {
   "cell_type": "code",
   "execution_count": 17,
   "metadata": {},
   "outputs": [
    {
     "name": "stdout",
     "output_type": "stream",
     "text": [
      "insert into customer (cust_id, first_name, last_name, registered_on) values (1, Sachin, Shah, 1667847598000)\n",
      "insert into customer (cust_id, first_name, last_name, registered_on) values (2, Rahul, Sharma, 1667847598000)\n",
      "insert into customer (cust_id, first_name, last_name, registered_on) values (3, Ishan, Sharma, 1667847598000)\n",
      "insert into customer (cust_id, first_name, last_name, registered_on) values (4, Ajit, Roy, 1667847598000)\n",
      "insert into customer (cust_id, first_name, last_name, registered_on) values (5, Hitesh, Sagar, 1667847598000)\n",
      "insert into customer (cust_id, first_name, last_name, registered_on) values (6, Vinay, Pandit, 1667847598000)\n",
      "insert into customer (cust_id, first_name, last_name, registered_on) values (7, Akshar, Sagar, 1667847598000)\n",
      "insert into customer (cust_id, first_name, last_name, registered_on) values (8, Rani, Disoza, 1667847598000)\n",
      "insert into customer (cust_id, first_name, last_name, registered_on) values (9, Pandit, Shah, 1667847598000)\n",
      "insert into customer (cust_id, first_name, last_name, registered_on) values (10, Shalin, Patel, 1667847598000)\n"
     ]
    }
   ],
   "source": [
    "import csv\n",
    "from datetime import datetime\n",
    "\n",
    "with open(\"config/customers.csv\", \"r\") as file:\n",
    "    customer_data_insert_query = '''insert into customer (cust_id, first_name, last_name, registered_on) values ({0}, {1}, {2}, {3})'''\n",
    "    csvreader = csv.reader(file)\n",
    "    header = next(csvreader)\n",
    "    for row in csvreader:\n",
    "        print(customer_data_insert_query.format(\\\n",
    "            str(row[0]), \\\n",
    "            str(row[1]), \\\n",
    "            row[2],\\\n",
    "            int(float(datetime.now().strftime(\"%s.%f\"))) * 1000))"
   ]
  },
  {
   "cell_type": "code",
   "execution_count": 8,
   "metadata": {},
   "outputs": [
    {
     "data": {
      "text/plain": [
       "1667846933000"
      ]
     },
     "execution_count": 8,
     "metadata": {},
     "output_type": "execute_result"
    }
   ],
   "source": [
    "int(float(datetime.now().strftime(\"%s.%f\"))) * 1000"
   ]
  },
  {
   "cell_type": "code",
   "execution_count": null,
   "metadata": {},
   "outputs": [],
   "source": []
  }
 ],
 "metadata": {
  "kernelspec": {
   "display_name": "Python 3",
   "language": "python",
   "name": "python3"
  },
  "language_info": {
   "codemirror_mode": {
    "name": "ipython",
    "version": 3
   },
   "file_extension": ".py",
   "mimetype": "text/x-python",
   "name": "python",
   "nbconvert_exporter": "python",
   "pygments_lexer": "ipython3",
   "version": "3.7.6"
  }
 },
 "nbformat": 4,
 "nbformat_minor": 4
}
