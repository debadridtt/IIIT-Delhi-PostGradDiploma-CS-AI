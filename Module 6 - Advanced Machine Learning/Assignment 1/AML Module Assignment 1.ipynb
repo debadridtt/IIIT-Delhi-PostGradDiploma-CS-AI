{
 "cells": [
  {
   "cell_type": "markdown",
   "metadata": {},
   "source": [
    "### 1. Import required libraries and read the data"
   ]
  },
  {
   "cell_type": "code",
   "execution_count": 55,
   "metadata": {},
   "outputs": [],
   "source": [
    "import pandas as pd\n",
    "import numpy as np\n",
    "import warnings\n",
    "warnings.filterwarnings('ignore')"
   ]
  },
  {
   "cell_type": "code",
   "execution_count": 56,
   "metadata": {},
   "outputs": [
    {
     "data": {
      "text/html": [
       "<div>\n",
       "<style scoped>\n",
       "    .dataframe tbody tr th:only-of-type {\n",
       "        vertical-align: middle;\n",
       "    }\n",
       "\n",
       "    .dataframe tbody tr th {\n",
       "        vertical-align: top;\n",
       "    }\n",
       "\n",
       "    .dataframe thead th {\n",
       "        text-align: right;\n",
       "    }\n",
       "</style>\n",
       "<table border=\"1\" class=\"dataframe\">\n",
       "  <thead>\n",
       "    <tr style=\"text-align: right;\">\n",
       "      <th></th>\n",
       "      <th>App</th>\n",
       "      <th>Category</th>\n",
       "      <th>Rating</th>\n",
       "      <th>Reviews</th>\n",
       "      <th>Size</th>\n",
       "      <th>Installs</th>\n",
       "      <th>Type</th>\n",
       "      <th>Price</th>\n",
       "      <th>Content Rating</th>\n",
       "      <th>Genres</th>\n",
       "      <th>Last Updated</th>\n",
       "      <th>Current Ver</th>\n",
       "      <th>Android Ver</th>\n",
       "    </tr>\n",
       "  </thead>\n",
       "  <tbody>\n",
       "    <tr>\n",
       "      <th>0</th>\n",
       "      <td>Photo Editor &amp; Candy Camera &amp; Grid &amp; ScrapBook</td>\n",
       "      <td>ART_AND_DESIGN</td>\n",
       "      <td>4.1</td>\n",
       "      <td>159</td>\n",
       "      <td>19M</td>\n",
       "      <td>10,000+</td>\n",
       "      <td>Free</td>\n",
       "      <td>0</td>\n",
       "      <td>Everyone</td>\n",
       "      <td>Art &amp; Design</td>\n",
       "      <td>January 7, 2018</td>\n",
       "      <td>1.0.0</td>\n",
       "      <td>4.0.3 and up</td>\n",
       "    </tr>\n",
       "    <tr>\n",
       "      <th>1</th>\n",
       "      <td>Coloring book moana</td>\n",
       "      <td>ART_AND_DESIGN</td>\n",
       "      <td>3.9</td>\n",
       "      <td>967</td>\n",
       "      <td>14M</td>\n",
       "      <td>500,000+</td>\n",
       "      <td>Free</td>\n",
       "      <td>0</td>\n",
       "      <td>Everyone</td>\n",
       "      <td>Art &amp; Design;Pretend Play</td>\n",
       "      <td>January 15, 2018</td>\n",
       "      <td>2.0.0</td>\n",
       "      <td>4.0.3 and up</td>\n",
       "    </tr>\n",
       "  </tbody>\n",
       "</table>\n",
       "</div>"
      ],
      "text/plain": [
       "                                              App        Category  Rating  \\\n",
       "0  Photo Editor & Candy Camera & Grid & ScrapBook  ART_AND_DESIGN     4.1   \n",
       "1                             Coloring book moana  ART_AND_DESIGN     3.9   \n",
       "\n",
       "  Reviews Size  Installs  Type Price Content Rating  \\\n",
       "0     159  19M   10,000+  Free     0       Everyone   \n",
       "1     967  14M  500,000+  Free     0       Everyone   \n",
       "\n",
       "                      Genres      Last Updated Current Ver   Android Ver  \n",
       "0               Art & Design   January 7, 2018       1.0.0  4.0.3 and up  \n",
       "1  Art & Design;Pretend Play  January 15, 2018       2.0.0  4.0.3 and up  "
      ]
     },
     "execution_count": 56,
     "metadata": {},
     "output_type": "execute_result"
    }
   ],
   "source": [
    "df = pd.read_csv('Apps_data+(1).csv')\n",
    "df.head(2)"
   ]
  },
  {
   "cell_type": "code",
   "execution_count": 57,
   "metadata": {},
   "outputs": [
    {
     "name": "stdout",
     "output_type": "stream",
     "text": [
      "<class 'pandas.core.frame.DataFrame'>\n",
      "RangeIndex: 10841 entries, 0 to 10840\n",
      "Data columns (total 13 columns):\n",
      " #   Column          Non-Null Count  Dtype  \n",
      "---  ------          --------------  -----  \n",
      " 0   App             10841 non-null  object \n",
      " 1   Category        10841 non-null  object \n",
      " 2   Rating          9367 non-null   float64\n",
      " 3   Reviews         10841 non-null  object \n",
      " 4   Size            10841 non-null  object \n",
      " 5   Installs        10841 non-null  object \n",
      " 6   Type            10840 non-null  object \n",
      " 7   Price           10841 non-null  object \n",
      " 8   Content Rating  10840 non-null  object \n",
      " 9   Genres          10841 non-null  object \n",
      " 10  Last Updated    10841 non-null  object \n",
      " 11  Current Ver     10833 non-null  object \n",
      " 12  Android Ver     10838 non-null  object \n",
      "dtypes: float64(1), object(12)\n",
      "memory usage: 1.1+ MB\n"
     ]
    }
   ],
   "source": [
    "df.info()"
   ]
  },
  {
   "cell_type": "code",
   "execution_count": 58,
   "metadata": {},
   "outputs": [
    {
     "data": {
      "text/plain": [
       "(10841, 13)"
      ]
     },
     "execution_count": 58,
     "metadata": {},
     "output_type": "execute_result"
    }
   ],
   "source": [
    "df.shape"
   ]
  },
  {
   "cell_type": "markdown",
   "metadata": {},
   "source": [
    "### 2. Data cleansing and Exploratory data analysis"
   ]
  },
  {
   "cell_type": "code",
   "execution_count": 59,
   "metadata": {},
   "outputs": [
    {
     "data": {
      "text/html": [
       "<div>\n",
       "<style scoped>\n",
       "    .dataframe tbody tr th:only-of-type {\n",
       "        vertical-align: middle;\n",
       "    }\n",
       "\n",
       "    .dataframe tbody tr th {\n",
       "        vertical-align: top;\n",
       "    }\n",
       "\n",
       "    .dataframe thead th {\n",
       "        text-align: right;\n",
       "    }\n",
       "</style>\n",
       "<table border=\"1\" class=\"dataframe\">\n",
       "  <thead>\n",
       "    <tr style=\"text-align: right;\">\n",
       "      <th></th>\n",
       "      <th>App</th>\n",
       "      <th>Category</th>\n",
       "      <th>Reviews</th>\n",
       "      <th>Size</th>\n",
       "      <th>Installs</th>\n",
       "      <th>Type</th>\n",
       "      <th>Price</th>\n",
       "      <th>Content Rating</th>\n",
       "      <th>Genres</th>\n",
       "      <th>Last Updated</th>\n",
       "      <th>Current Ver</th>\n",
       "      <th>Android Ver</th>\n",
       "    </tr>\n",
       "  </thead>\n",
       "  <tbody>\n",
       "    <tr>\n",
       "      <th>count</th>\n",
       "      <td>10841</td>\n",
       "      <td>10841</td>\n",
       "      <td>10841</td>\n",
       "      <td>10841</td>\n",
       "      <td>10841</td>\n",
       "      <td>10840</td>\n",
       "      <td>10841</td>\n",
       "      <td>10840</td>\n",
       "      <td>10841</td>\n",
       "      <td>10841</td>\n",
       "      <td>10833</td>\n",
       "      <td>10838</td>\n",
       "    </tr>\n",
       "    <tr>\n",
       "      <th>unique</th>\n",
       "      <td>9660</td>\n",
       "      <td>34</td>\n",
       "      <td>6002</td>\n",
       "      <td>462</td>\n",
       "      <td>22</td>\n",
       "      <td>3</td>\n",
       "      <td>93</td>\n",
       "      <td>6</td>\n",
       "      <td>120</td>\n",
       "      <td>1378</td>\n",
       "      <td>2832</td>\n",
       "      <td>33</td>\n",
       "    </tr>\n",
       "    <tr>\n",
       "      <th>top</th>\n",
       "      <td>ROBLOX</td>\n",
       "      <td>FAMILY</td>\n",
       "      <td>0</td>\n",
       "      <td>Varies with device</td>\n",
       "      <td>1,000,000+</td>\n",
       "      <td>Free</td>\n",
       "      <td>0</td>\n",
       "      <td>Everyone</td>\n",
       "      <td>Tools</td>\n",
       "      <td>August 3, 2018</td>\n",
       "      <td>Varies with device</td>\n",
       "      <td>4.1 and up</td>\n",
       "    </tr>\n",
       "    <tr>\n",
       "      <th>freq</th>\n",
       "      <td>9</td>\n",
       "      <td>1972</td>\n",
       "      <td>596</td>\n",
       "      <td>1695</td>\n",
       "      <td>1579</td>\n",
       "      <td>10039</td>\n",
       "      <td>10040</td>\n",
       "      <td>8714</td>\n",
       "      <td>842</td>\n",
       "      <td>326</td>\n",
       "      <td>1459</td>\n",
       "      <td>2451</td>\n",
       "    </tr>\n",
       "  </tbody>\n",
       "</table>\n",
       "</div>"
      ],
      "text/plain": [
       "           App Category Reviews                Size    Installs   Type  Price  \\\n",
       "count    10841    10841   10841               10841       10841  10840  10841   \n",
       "unique    9660       34    6002                 462          22      3     93   \n",
       "top     ROBLOX   FAMILY       0  Varies with device  1,000,000+   Free      0   \n",
       "freq         9     1972     596                1695        1579  10039  10040   \n",
       "\n",
       "       Content Rating Genres    Last Updated         Current Ver Android Ver  \n",
       "count           10840  10841           10841               10833       10838  \n",
       "unique              6    120            1378                2832          33  \n",
       "top          Everyone  Tools  August 3, 2018  Varies with device  4.1 and up  \n",
       "freq             8714    842             326                1459        2451  "
      ]
     },
     "execution_count": 59,
     "metadata": {},
     "output_type": "execute_result"
    }
   ],
   "source": [
    "# Summary stats of data\n",
    "\n",
    "df.describe(include='O')"
   ]
  },
  {
   "cell_type": "code",
   "execution_count": 60,
   "metadata": {},
   "outputs": [
    {
     "data": {
      "text/html": [
       "<div>\n",
       "<style scoped>\n",
       "    .dataframe tbody tr th:only-of-type {\n",
       "        vertical-align: middle;\n",
       "    }\n",
       "\n",
       "    .dataframe tbody tr th {\n",
       "        vertical-align: top;\n",
       "    }\n",
       "\n",
       "    .dataframe thead th {\n",
       "        text-align: right;\n",
       "    }\n",
       "</style>\n",
       "<table border=\"1\" class=\"dataframe\">\n",
       "  <thead>\n",
       "    <tr style=\"text-align: right;\">\n",
       "      <th></th>\n",
       "      <th>Rating</th>\n",
       "    </tr>\n",
       "  </thead>\n",
       "  <tbody>\n",
       "    <tr>\n",
       "      <th>count</th>\n",
       "      <td>9367.000000</td>\n",
       "    </tr>\n",
       "    <tr>\n",
       "      <th>mean</th>\n",
       "      <td>4.193338</td>\n",
       "    </tr>\n",
       "    <tr>\n",
       "      <th>std</th>\n",
       "      <td>0.537431</td>\n",
       "    </tr>\n",
       "    <tr>\n",
       "      <th>min</th>\n",
       "      <td>1.000000</td>\n",
       "    </tr>\n",
       "    <tr>\n",
       "      <th>25%</th>\n",
       "      <td>4.000000</td>\n",
       "    </tr>\n",
       "    <tr>\n",
       "      <th>50%</th>\n",
       "      <td>4.300000</td>\n",
       "    </tr>\n",
       "    <tr>\n",
       "      <th>75%</th>\n",
       "      <td>4.500000</td>\n",
       "    </tr>\n",
       "    <tr>\n",
       "      <th>max</th>\n",
       "      <td>19.000000</td>\n",
       "    </tr>\n",
       "  </tbody>\n",
       "</table>\n",
       "</div>"
      ],
      "text/plain": [
       "            Rating\n",
       "count  9367.000000\n",
       "mean      4.193338\n",
       "std       0.537431\n",
       "min       1.000000\n",
       "25%       4.000000\n",
       "50%       4.300000\n",
       "75%       4.500000\n",
       "max      19.000000"
      ]
     },
     "execution_count": 60,
     "metadata": {},
     "output_type": "execute_result"
    }
   ],
   "source": [
    "df.describe()"
   ]
  },
  {
   "cell_type": "code",
   "execution_count": 61,
   "metadata": {},
   "outputs": [
    {
     "data": {
      "text/plain": [
       "App                object\n",
       "Category           object\n",
       "Rating            float64\n",
       "Reviews            object\n",
       "Size               object\n",
       "Installs           object\n",
       "Type               object\n",
       "Price              object\n",
       "Content Rating     object\n",
       "Genres             object\n",
       "Last Updated       object\n",
       "Current Ver        object\n",
       "Android Ver        object\n",
       "dtype: object"
      ]
     },
     "execution_count": 61,
     "metadata": {},
     "output_type": "execute_result"
    }
   ],
   "source": [
    "df.dtypes"
   ]
  },
  {
   "cell_type": "code",
   "execution_count": 62,
   "metadata": {},
   "outputs": [
    {
     "data": {
      "text/plain": [
       "((10841, 13), (10358, 13))"
      ]
     },
     "execution_count": 62,
     "metadata": {},
     "output_type": "execute_result"
    }
   ],
   "source": [
    "df.shape, df.drop_duplicates().shape # check duplicate records"
   ]
  },
  {
   "cell_type": "code",
   "execution_count": 63,
   "metadata": {},
   "outputs": [],
   "source": [
    "df = df.drop_duplicates()\n",
    "df.reset_index(drop=True, inplace=True)"
   ]
  },
  {
   "cell_type": "code",
   "execution_count": 64,
   "metadata": {
    "scrolled": true
   },
   "outputs": [
    {
     "data": {
      "text/plain": [
       "array(['ART_AND_DESIGN', 'AUTO_AND_VEHICLES', 'BEAUTY',\n",
       "       'BOOKS_AND_REFERENCE', 'BUSINESS', 'COMICS', 'COMMUNICATION',\n",
       "       'DATING', 'EDUCATION', 'ENTERTAINMENT', 'EVENTS', 'FINANCE',\n",
       "       'FOOD_AND_DRINK', 'HEALTH_AND_FITNESS', 'HOUSE_AND_HOME',\n",
       "       'LIBRARIES_AND_DEMO', 'LIFESTYLE', 'GAME', 'FAMILY', 'MEDICAL',\n",
       "       'SOCIAL', 'SHOPPING', 'PHOTOGRAPHY', 'SPORTS', 'TRAVEL_AND_LOCAL',\n",
       "       'TOOLS', 'PERSONALIZATION', 'PRODUCTIVITY', 'PARENTING', 'WEATHER',\n",
       "       'VIDEO_PLAYERS', 'NEWS_AND_MAGAZINES', 'MAPS_AND_NAVIGATION',\n",
       "       '1.9'], dtype=object)"
      ]
     },
     "execution_count": 64,
     "metadata": {},
     "output_type": "execute_result"
    }
   ],
   "source": [
    "df['Category'].unique() # check unique cateogories"
   ]
  },
  {
   "cell_type": "code",
   "execution_count": 65,
   "metadata": {},
   "outputs": [],
   "source": [
    "df = df[df['Category'] != '1.9'] # drop invalid category\n",
    "df.reset_index(drop=True, inplace=True)"
   ]
  },
  {
   "cell_type": "code",
   "execution_count": 66,
   "metadata": {},
   "outputs": [
    {
     "data": {
      "text/plain": [
       "App                  0\n",
       "Category             0\n",
       "Rating            1465\n",
       "Reviews              0\n",
       "Size                 0\n",
       "Installs             0\n",
       "Type                 1\n",
       "Price                0\n",
       "Content Rating       0\n",
       "Genres               0\n",
       "Last Updated         0\n",
       "Current Ver          8\n",
       "Android Ver          2\n",
       "dtype: int64"
      ]
     },
     "execution_count": 66,
     "metadata": {},
     "output_type": "execute_result"
    }
   ],
   "source": [
    "df.isnull().sum()"
   ]
  },
  {
   "cell_type": "code",
   "execution_count": 67,
   "metadata": {},
   "outputs": [],
   "source": [
    "df = df.dropna(subset=['Rating'])\n",
    "df.reset_index(drop=True, inplace=True)"
   ]
  },
  {
   "cell_type": "code",
   "execution_count": 68,
   "metadata": {},
   "outputs": [],
   "source": [
    "df['Rating_category'] = np.where(df['Rating'] > 3.5, 'High', 'Low')"
   ]
  },
  {
   "cell_type": "code",
   "execution_count": 69,
   "metadata": {},
   "outputs": [
    {
     "data": {
      "text/plain": [
       "High    8012\n",
       "Low      880\n",
       "Name: Rating_category, dtype: int64"
      ]
     },
     "execution_count": 69,
     "metadata": {},
     "output_type": "execute_result"
    }
   ],
   "source": [
    "df['Rating_category'].value_counts() # checking Rating category distribution"
   ]
  },
  {
   "cell_type": "code",
   "execution_count": 70,
   "metadata": {},
   "outputs": [],
   "source": [
    "df['Reviews'] = df['Reviews'].astype(float) # changing datatype of reviews"
   ]
  },
  {
   "cell_type": "code",
   "execution_count": 71,
   "metadata": {},
   "outputs": [
    {
     "data": {
      "text/html": [
       "<div>\n",
       "<style scoped>\n",
       "    .dataframe tbody tr th:only-of-type {\n",
       "        vertical-align: middle;\n",
       "    }\n",
       "\n",
       "    .dataframe tbody tr th {\n",
       "        vertical-align: top;\n",
       "    }\n",
       "\n",
       "    .dataframe thead th {\n",
       "        text-align: right;\n",
       "    }\n",
       "</style>\n",
       "<table border=\"1\" class=\"dataframe\">\n",
       "  <thead>\n",
       "    <tr style=\"text-align: right;\">\n",
       "      <th></th>\n",
       "      <th>Rating</th>\n",
       "      <th>Reviews</th>\n",
       "    </tr>\n",
       "  </thead>\n",
       "  <tbody>\n",
       "    <tr>\n",
       "      <th>count</th>\n",
       "      <td>8892.000000</td>\n",
       "      <td>8.892000e+03</td>\n",
       "    </tr>\n",
       "    <tr>\n",
       "      <th>mean</th>\n",
       "      <td>4.187877</td>\n",
       "      <td>4.727764e+05</td>\n",
       "    </tr>\n",
       "    <tr>\n",
       "      <th>std</th>\n",
       "      <td>0.522377</td>\n",
       "      <td>2.905052e+06</td>\n",
       "    </tr>\n",
       "    <tr>\n",
       "      <th>min</th>\n",
       "      <td>1.000000</td>\n",
       "      <td>1.000000e+00</td>\n",
       "    </tr>\n",
       "    <tr>\n",
       "      <th>25%</th>\n",
       "      <td>4.000000</td>\n",
       "      <td>1.640000e+02</td>\n",
       "    </tr>\n",
       "    <tr>\n",
       "      <th>50%</th>\n",
       "      <td>4.300000</td>\n",
       "      <td>4.714500e+03</td>\n",
       "    </tr>\n",
       "    <tr>\n",
       "      <th>75%</th>\n",
       "      <td>4.500000</td>\n",
       "      <td>7.126675e+04</td>\n",
       "    </tr>\n",
       "    <tr>\n",
       "      <th>max</th>\n",
       "      <td>5.000000</td>\n",
       "      <td>7.815831e+07</td>\n",
       "    </tr>\n",
       "  </tbody>\n",
       "</table>\n",
       "</div>"
      ],
      "text/plain": [
       "            Rating       Reviews\n",
       "count  8892.000000  8.892000e+03\n",
       "mean      4.187877  4.727764e+05\n",
       "std       0.522377  2.905052e+06\n",
       "min       1.000000  1.000000e+00\n",
       "25%       4.000000  1.640000e+02\n",
       "50%       4.300000  4.714500e+03\n",
       "75%       4.500000  7.126675e+04\n",
       "max       5.000000  7.815831e+07"
      ]
     },
     "execution_count": 71,
     "metadata": {},
     "output_type": "execute_result"
    }
   ],
   "source": [
    "df.describe()"
   ]
  },
  {
   "cell_type": "code",
   "execution_count": 72,
   "metadata": {},
   "outputs": [],
   "source": [
    "# remove anomalies in Rating, based on z-score\n",
    "\n",
    "from scipy.stats import zscore\n",
    "\n",
    "df['zscore_Reviews'] = zscore(df['Reviews'])\n",
    "df = df[(df['zscore_Reviews'] > -3) & (df['zscore_Reviews'] < 3)] # central limit theorem, removing extreme ends\n",
    "df.reset_index(drop=True, inplace=True)\n",
    "df.drop('zscore_Reviews', axis=1, inplace=True)"
   ]
  },
  {
   "cell_type": "code",
   "execution_count": 73,
   "metadata": {},
   "outputs": [],
   "source": [
    "# Creating new column Size_val which will have values in scales of 1000\n",
    "# replacing M with three 0s and removing k and converting datatype to float\n",
    "# keeping size val in scale of 1000; 2M will be converted to 2000 and 500k will be converted to only 500\n",
    "\n",
    "df['Size_val'] = df['Size'].apply(lambda x: x.split('M')[0].split('k')[0])\n",
    "df['Size_val'] = np.where(df['Size'] == 'Varies with device', -1, df['Size_val']) # replacing Varies with device\n",
    "df['Size_val'] = df['Size_val'].astype(float)\n",
    "df['Size_val'] = np.where(df['Size'].str.contains('M'), df['Size_val']*1000, df['Size_val'])\n",
    "\n",
    "# replacing Size with Size_val and removing Size_val\n",
    "\n",
    "df['Size'] = df['Size_val']\n",
    "df.drop('Size_val', axis=1, inplace=True)"
   ]
  },
  {
   "cell_type": "code",
   "execution_count": 74,
   "metadata": {},
   "outputs": [
    {
     "data": {
      "text/plain": [
       "1,000,000+        1486\n",
       "10,000,000+       1132\n",
       "100,000+          1110\n",
       "10,000+            989\n",
       "1,000+             698\n",
       "5,000,000+         683\n",
       "500,000+           516\n",
       "50,000+            462\n",
       "5,000+             426\n",
       "100,000,000+       332\n",
       "100+               303\n",
       "50,000,000+        272\n",
       "500+               199\n",
       "10+                 69\n",
       "50+                 56\n",
       "500,000,000+        33\n",
       "1,000,000,000+      22\n",
       "5+                   9\n",
       "1+                   3\n",
       "Name: Installs, dtype: int64"
      ]
     },
     "execution_count": 74,
     "metadata": {},
     "output_type": "execute_result"
    }
   ],
   "source": [
    "df['Installs'].value_counts()"
   ]
  },
  {
   "cell_type": "code",
   "execution_count": 75,
   "metadata": {},
   "outputs": [],
   "source": [
    "# removing unwanted characters and converting data type of column Installs\n",
    "\n",
    "df['Installs'] = df['Installs'].apply(lambda x: x.replace(',', '').replace('+', '')) \n",
    "df['Installs'] = df['Installs'].str.strip()\n",
    "df['Installs'] = df['Installs'].astype(float)"
   ]
  },
  {
   "cell_type": "code",
   "execution_count": 76,
   "metadata": {},
   "outputs": [
    {
     "data": {
      "text/plain": [
       "array(['0', '$4.99', '$3.99', '$6.99', '$7.99', '$5.99', '$2.99', '$3.49',\n",
       "       '$1.99', '$9.99', '$7.49', '$0.99', '$9.00', '$5.49', '$10.00',\n",
       "       '$24.99', '$11.99', '$79.99', '$16.99', '$14.99', '$29.99',\n",
       "       '$12.99', '$2.49', '$10.99', '$1.50', '$19.99', '$15.99', '$33.99',\n",
       "       '$39.99', '$3.95', '$4.49', '$1.70', '$8.99', '$1.49', '$3.88',\n",
       "       '$399.99', '$17.99', '$400.00', '$3.02', '$1.76', '$4.84', '$4.77',\n",
       "       '$1.61', '$2.50', '$1.59', '$6.49', '$1.29', '$299.99', '$379.99',\n",
       "       '$37.99', '$18.99', '$389.99', '$8.49', '$1.75', '$14.00', '$2.00',\n",
       "       '$3.08', '$2.59', '$19.40', '$3.90', '$4.59', '$15.46', '$3.04',\n",
       "       '$13.99', '$4.29', '$3.28', '$4.60', '$1.00', '$2.95', '$2.90',\n",
       "       '$1.97', '$2.56', '$1.20'], dtype=object)"
      ]
     },
     "execution_count": 76,
     "metadata": {},
     "output_type": "execute_result"
    }
   ],
   "source": [
    "df['Price'].unique()"
   ]
  },
  {
   "cell_type": "code",
   "execution_count": 77,
   "metadata": {},
   "outputs": [],
   "source": [
    "# removing unwanted characters and converting data type of column Price\n",
    "\n",
    "df['Price'] = df['Price'].apply(lambda x: x.replace('$', '')) "
   ]
  },
  {
   "cell_type": "markdown",
   "metadata": {},
   "source": [
    "### 3. Data Preparation for model building"
   ]
  },
  {
   "cell_type": "code",
   "execution_count": 78,
   "metadata": {},
   "outputs": [
    {
     "data": {
      "text/html": [
       "<div>\n",
       "<style scoped>\n",
       "    .dataframe tbody tr th:only-of-type {\n",
       "        vertical-align: middle;\n",
       "    }\n",
       "\n",
       "    .dataframe tbody tr th {\n",
       "        vertical-align: top;\n",
       "    }\n",
       "\n",
       "    .dataframe thead th {\n",
       "        text-align: right;\n",
       "    }\n",
       "</style>\n",
       "<table border=\"1\" class=\"dataframe\">\n",
       "  <thead>\n",
       "    <tr style=\"text-align: right;\">\n",
       "      <th></th>\n",
       "      <th>App</th>\n",
       "      <th>Category</th>\n",
       "      <th>Rating</th>\n",
       "      <th>Reviews</th>\n",
       "      <th>Size</th>\n",
       "      <th>Installs</th>\n",
       "      <th>Type</th>\n",
       "      <th>Price</th>\n",
       "      <th>Content Rating</th>\n",
       "      <th>Genres</th>\n",
       "      <th>Last Updated</th>\n",
       "      <th>Current Ver</th>\n",
       "      <th>Android Ver</th>\n",
       "      <th>Rating_category</th>\n",
       "    </tr>\n",
       "  </thead>\n",
       "  <tbody>\n",
       "    <tr>\n",
       "      <th>0</th>\n",
       "      <td>Photo Editor &amp; Candy Camera &amp; Grid &amp; ScrapBook</td>\n",
       "      <td>ART_AND_DESIGN</td>\n",
       "      <td>4.1</td>\n",
       "      <td>159.0</td>\n",
       "      <td>19000.0</td>\n",
       "      <td>10000.0</td>\n",
       "      <td>Free</td>\n",
       "      <td>0</td>\n",
       "      <td>Everyone</td>\n",
       "      <td>Art &amp; Design</td>\n",
       "      <td>January 7, 2018</td>\n",
       "      <td>1.0.0</td>\n",
       "      <td>4.0.3 and up</td>\n",
       "      <td>High</td>\n",
       "    </tr>\n",
       "    <tr>\n",
       "      <th>1</th>\n",
       "      <td>Coloring book moana</td>\n",
       "      <td>ART_AND_DESIGN</td>\n",
       "      <td>3.9</td>\n",
       "      <td>967.0</td>\n",
       "      <td>14000.0</td>\n",
       "      <td>500000.0</td>\n",
       "      <td>Free</td>\n",
       "      <td>0</td>\n",
       "      <td>Everyone</td>\n",
       "      <td>Art &amp; Design;Pretend Play</td>\n",
       "      <td>January 15, 2018</td>\n",
       "      <td>2.0.0</td>\n",
       "      <td>4.0.3 and up</td>\n",
       "      <td>High</td>\n",
       "    </tr>\n",
       "  </tbody>\n",
       "</table>\n",
       "</div>"
      ],
      "text/plain": [
       "                                              App        Category  Rating  \\\n",
       "0  Photo Editor & Candy Camera & Grid & ScrapBook  ART_AND_DESIGN     4.1   \n",
       "1                             Coloring book moana  ART_AND_DESIGN     3.9   \n",
       "\n",
       "   Reviews     Size  Installs  Type Price Content Rating  \\\n",
       "0    159.0  19000.0   10000.0  Free     0       Everyone   \n",
       "1    967.0  14000.0  500000.0  Free     0       Everyone   \n",
       "\n",
       "                      Genres      Last Updated Current Ver   Android Ver  \\\n",
       "0               Art & Design   January 7, 2018       1.0.0  4.0.3 and up   \n",
       "1  Art & Design;Pretend Play  January 15, 2018       2.0.0  4.0.3 and up   \n",
       "\n",
       "  Rating_category  \n",
       "0            High  \n",
       "1            High  "
      ]
     },
     "execution_count": 78,
     "metadata": {},
     "output_type": "execute_result"
    }
   ],
   "source": [
    "df.head(2)"
   ]
  },
  {
   "cell_type": "code",
   "execution_count": 79,
   "metadata": {},
   "outputs": [
    {
     "data": {
      "text/plain": [
       "(App                8161\n",
       " Category             33\n",
       " Rating               39\n",
       " Reviews            5900\n",
       " Size                413\n",
       " Installs             19\n",
       " Type                  2\n",
       " Price                73\n",
       " Content Rating        6\n",
       " Genres              115\n",
       " Last Updated       1300\n",
       " Current Ver        2625\n",
       " Android Ver          31\n",
       " Rating_category       2\n",
       " dtype: int64,\n",
       " App                 object\n",
       " Category            object\n",
       " Rating             float64\n",
       " Reviews            float64\n",
       " Size               float64\n",
       " Installs           float64\n",
       " Type                object\n",
       " Price               object\n",
       " Content Rating      object\n",
       " Genres              object\n",
       " Last Updated        object\n",
       " Current Ver         object\n",
       " Android Ver         object\n",
       " Rating_category     object\n",
       " dtype: object)"
      ]
     },
     "execution_count": 79,
     "metadata": {},
     "output_type": "execute_result"
    }
   ],
   "source": [
    "df.nunique(), df.dtypes"
   ]
  },
  {
   "cell_type": "code",
   "execution_count": 80,
   "metadata": {},
   "outputs": [],
   "source": [
    "# dropping unnecessary column\n",
    "\n",
    "df.drop(['Rating', 'Last Updated'], axis=1, inplace=True)"
   ]
  },
  {
   "cell_type": "code",
   "execution_count": 81,
   "metadata": {},
   "outputs": [],
   "source": [
    "# replacing target variable with 1 and 0\n",
    "\n",
    "map_dict = {'High':1, 'Low':0}\n",
    "\n",
    "df['Rating_category'] = df['Rating_category'].map(map_dict) "
   ]
  },
  {
   "cell_type": "code",
   "execution_count": 82,
   "metadata": {},
   "outputs": [
    {
     "data": {
      "text/plain": [
       "1    7920\n",
       "0     880\n",
       "Name: Rating_category, dtype: int64"
      ]
     },
     "execution_count": 82,
     "metadata": {},
     "output_type": "execute_result"
    }
   ],
   "source": [
    "df['Rating_category'].value_counts()"
   ]
  },
  {
   "cell_type": "code",
   "execution_count": 83,
   "metadata": {},
   "outputs": [
    {
     "data": {
      "text/plain": [
       "App                 object\n",
       "Category            object\n",
       "Reviews            float64\n",
       "Size               float64\n",
       "Installs           float64\n",
       "Type                object\n",
       "Price               object\n",
       "Content Rating      object\n",
       "Genres              object\n",
       "Current Ver         object\n",
       "Android Ver         object\n",
       "Rating_category      int64\n",
       "dtype: object"
      ]
     },
     "execution_count": 83,
     "metadata": {},
     "output_type": "execute_result"
    }
   ],
   "source": [
    "df.dtypes"
   ]
  },
  {
   "cell_type": "code",
   "execution_count": 84,
   "metadata": {},
   "outputs": [
    {
     "data": {
      "text/plain": [
       "App                8161\n",
       "Category             33\n",
       "Reviews            5900\n",
       "Size                413\n",
       "Installs             19\n",
       "Type                  2\n",
       "Price                73\n",
       "Content Rating        6\n",
       "Genres              115\n",
       "Current Ver        2625\n",
       "Android Ver          31\n",
       "Rating_category       2\n",
       "dtype: int64"
      ]
     },
     "execution_count": 84,
     "metadata": {},
     "output_type": "execute_result"
    }
   ],
   "source": [
    "df.nunique()"
   ]
  },
  {
   "cell_type": "code",
   "execution_count": 85,
   "metadata": {},
   "outputs": [],
   "source": [
    "# Encoding categorical variables\n",
    "\n",
    "from sklearn.preprocessing import LabelEncoder\n",
    "\n",
    "label_encoders = {} # to revert back if needed\n",
    "\n",
    "for i in df.columns:\n",
    "    if(df[i].dtype == \"O\"):\n",
    "        le = LabelEncoder()\n",
    "        df[i] = le.fit_transform(df[i])\n",
    "        label_encoders[i] = le"
   ]
  },
  {
   "cell_type": "code",
   "execution_count": 86,
   "metadata": {
    "scrolled": true
   },
   "outputs": [
    {
     "data": {
      "text/plain": [
       "App                  int64\n",
       "Category             int64\n",
       "Reviews            float64\n",
       "Size               float64\n",
       "Installs           float64\n",
       "Type                 int64\n",
       "Price                int64\n",
       "Content Rating       int64\n",
       "Genres               int64\n",
       "Current Ver          int64\n",
       "Android Ver          int64\n",
       "Rating_category      int64\n",
       "dtype: object"
      ]
     },
     "execution_count": 86,
     "metadata": {},
     "output_type": "execute_result"
    }
   ],
   "source": [
    "df.dtypes"
   ]
  },
  {
   "cell_type": "code",
   "execution_count": 87,
   "metadata": {},
   "outputs": [
    {
     "data": {
      "text/html": [
       "<div>\n",
       "<style scoped>\n",
       "    .dataframe tbody tr th:only-of-type {\n",
       "        vertical-align: middle;\n",
       "    }\n",
       "\n",
       "    .dataframe tbody tr th {\n",
       "        vertical-align: top;\n",
       "    }\n",
       "\n",
       "    .dataframe thead th {\n",
       "        text-align: right;\n",
       "    }\n",
       "</style>\n",
       "<table border=\"1\" class=\"dataframe\">\n",
       "  <thead>\n",
       "    <tr style=\"text-align: right;\">\n",
       "      <th></th>\n",
       "      <th>App</th>\n",
       "      <th>Category</th>\n",
       "      <th>Reviews</th>\n",
       "      <th>Size</th>\n",
       "      <th>Installs</th>\n",
       "      <th>Type</th>\n",
       "      <th>Price</th>\n",
       "      <th>Content Rating</th>\n",
       "      <th>Genres</th>\n",
       "      <th>Current Ver</th>\n",
       "      <th>Android Ver</th>\n",
       "      <th>Rating_category</th>\n",
       "    </tr>\n",
       "  </thead>\n",
       "  <tbody>\n",
       "    <tr>\n",
       "      <th>0</th>\n",
       "      <td>5787</td>\n",
       "      <td>0</td>\n",
       "      <td>159.0</td>\n",
       "      <td>19000.0</td>\n",
       "      <td>10000.0</td>\n",
       "      <td>0</td>\n",
       "      <td>0</td>\n",
       "      <td>1</td>\n",
       "      <td>9</td>\n",
       "      <td>106</td>\n",
       "      <td>14</td>\n",
       "      <td>1</td>\n",
       "    </tr>\n",
       "    <tr>\n",
       "      <th>1</th>\n",
       "      <td>2126</td>\n",
       "      <td>0</td>\n",
       "      <td>967.0</td>\n",
       "      <td>14000.0</td>\n",
       "      <td>500000.0</td>\n",
       "      <td>0</td>\n",
       "      <td>0</td>\n",
       "      <td>1</td>\n",
       "      <td>11</td>\n",
       "      <td>944</td>\n",
       "      <td>14</td>\n",
       "      <td>1</td>\n",
       "    </tr>\n",
       "    <tr>\n",
       "      <th>2</th>\n",
       "      <td>7296</td>\n",
       "      <td>0</td>\n",
       "      <td>87510.0</td>\n",
       "      <td>8700.0</td>\n",
       "      <td>5000000.0</td>\n",
       "      <td>0</td>\n",
       "      <td>0</td>\n",
       "      <td>1</td>\n",
       "      <td>9</td>\n",
       "      <td>422</td>\n",
       "      <td>14</td>\n",
       "      <td>1</td>\n",
       "    </tr>\n",
       "    <tr>\n",
       "      <th>3</th>\n",
       "      <td>6551</td>\n",
       "      <td>0</td>\n",
       "      <td>215644.0</td>\n",
       "      <td>25000.0</td>\n",
       "      <td>50000000.0</td>\n",
       "      <td>0</td>\n",
       "      <td>0</td>\n",
       "      <td>4</td>\n",
       "      <td>9</td>\n",
       "      <td>2569</td>\n",
       "      <td>17</td>\n",
       "      <td>1</td>\n",
       "    </tr>\n",
       "    <tr>\n",
       "      <th>4</th>\n",
       "      <td>5843</td>\n",
       "      <td>0</td>\n",
       "      <td>967.0</td>\n",
       "      <td>2800.0</td>\n",
       "      <td>100000.0</td>\n",
       "      <td>0</td>\n",
       "      <td>0</td>\n",
       "      <td>1</td>\n",
       "      <td>10</td>\n",
       "      <td>249</td>\n",
       "      <td>19</td>\n",
       "      <td>1</td>\n",
       "    </tr>\n",
       "  </tbody>\n",
       "</table>\n",
       "</div>"
      ],
      "text/plain": [
       "    App  Category   Reviews     Size    Installs  Type  Price  Content Rating  \\\n",
       "0  5787         0     159.0  19000.0     10000.0     0      0               1   \n",
       "1  2126         0     967.0  14000.0    500000.0     0      0               1   \n",
       "2  7296         0   87510.0   8700.0   5000000.0     0      0               1   \n",
       "3  6551         0  215644.0  25000.0  50000000.0     0      0               4   \n",
       "4  5843         0     967.0   2800.0    100000.0     0      0               1   \n",
       "\n",
       "   Genres  Current Ver  Android Ver  Rating_category  \n",
       "0       9          106           14                1  \n",
       "1      11          944           14                1  \n",
       "2       9          422           14                1  \n",
       "3       9         2569           17                1  \n",
       "4      10          249           19                1  "
      ]
     },
     "execution_count": 87,
     "metadata": {},
     "output_type": "execute_result"
    }
   ],
   "source": [
    "df.head()"
   ]
  },
  {
   "cell_type": "code",
   "execution_count": 88,
   "metadata": {},
   "outputs": [],
   "source": [
    "# Splitting the entire data into train and test\n",
    "\n",
    "X = df.drop('Rating_category', axis=1)\n",
    "y = df[['Rating_category']]\n",
    "\n",
    "from sklearn.model_selection import train_test_split\n",
    "\n",
    "X_train, X_test, y_train, y_test = train_test_split(X, y, test_size=0.3, stratify=y) # stratified sampling"
   ]
  },
  {
   "cell_type": "code",
   "execution_count": 89,
   "metadata": {},
   "outputs": [],
   "source": [
    "# Scaling only continuous variables\n",
    "\n",
    "from sklearn.preprocessing import MinMaxScaler\n",
    "\n",
    "mmx1 = MinMaxScaler()\n",
    "X_train['Reviews'] = mmx1.fit_transform(X_train[['Reviews']])\n",
    "X_test['Reviews'] = mmx1.transform(X_test[['Reviews']])\n",
    "\n",
    "mmx2 = MinMaxScaler()\n",
    "X_train['Size'] = mmx2.fit_transform(X_train[['Size']])\n",
    "X_test['Size'] = mmx2.transform(X_test[['Size']])\n",
    "\n",
    "mmx3 = MinMaxScaler()\n",
    "X_train['Installs'] = mmx3.fit_transform(X_train[['Installs']])\n",
    "X_test['Installs'] = mmx3.transform(X_test[['Installs']])"
   ]
  },
  {
   "cell_type": "code",
   "execution_count": 90,
   "metadata": {},
   "outputs": [
    {
     "data": {
      "text/html": [
       "<div>\n",
       "<style scoped>\n",
       "    .dataframe tbody tr th:only-of-type {\n",
       "        vertical-align: middle;\n",
       "    }\n",
       "\n",
       "    .dataframe tbody tr th {\n",
       "        vertical-align: top;\n",
       "    }\n",
       "\n",
       "    .dataframe thead th {\n",
       "        text-align: right;\n",
       "    }\n",
       "</style>\n",
       "<table border=\"1\" class=\"dataframe\">\n",
       "  <thead>\n",
       "    <tr style=\"text-align: right;\">\n",
       "      <th></th>\n",
       "      <th>App</th>\n",
       "      <th>Category</th>\n",
       "      <th>Reviews</th>\n",
       "      <th>Size</th>\n",
       "      <th>Installs</th>\n",
       "      <th>Type</th>\n",
       "      <th>Price</th>\n",
       "      <th>Content Rating</th>\n",
       "      <th>Genres</th>\n",
       "      <th>Current Ver</th>\n",
       "      <th>Android Ver</th>\n",
       "    </tr>\n",
       "  </thead>\n",
       "  <tbody>\n",
       "    <tr>\n",
       "      <th>5341</th>\n",
       "      <td>55</td>\n",
       "      <td>11</td>\n",
       "      <td>0.000710</td>\n",
       "      <td>0.300007</td>\n",
       "      <td>0.001</td>\n",
       "      <td>0</td>\n",
       "      <td>0</td>\n",
       "      <td>1</td>\n",
       "      <td>50</td>\n",
       "      <td>264</td>\n",
       "      <td>23</td>\n",
       "    </tr>\n",
       "    <tr>\n",
       "      <th>303</th>\n",
       "      <td>1449</td>\n",
       "      <td>6</td>\n",
       "      <td>0.021622</td>\n",
       "      <td>0.066009</td>\n",
       "      <td>0.010</td>\n",
       "      <td>0</td>\n",
       "      <td>0</td>\n",
       "      <td>1</td>\n",
       "      <td>34</td>\n",
       "      <td>1410</td>\n",
       "      <td>13</td>\n",
       "    </tr>\n",
       "    <tr>\n",
       "      <th>4313</th>\n",
       "      <td>293</td>\n",
       "      <td>24</td>\n",
       "      <td>0.008941</td>\n",
       "      <td>0.000000</td>\n",
       "      <td>0.100</td>\n",
       "      <td>0</td>\n",
       "      <td>0</td>\n",
       "      <td>1</td>\n",
       "      <td>79</td>\n",
       "      <td>2569</td>\n",
       "      <td>30</td>\n",
       "    </tr>\n",
       "  </tbody>\n",
       "</table>\n",
       "</div>"
      ],
      "text/plain": [
       "       App  Category   Reviews      Size  Installs  Type  Price  \\\n",
       "5341    55        11  0.000710  0.300007     0.001     0      0   \n",
       "303   1449         6  0.021622  0.066009     0.010     0      0   \n",
       "4313   293        24  0.008941  0.000000     0.100     0      0   \n",
       "\n",
       "      Content Rating  Genres  Current Ver  Android Ver  \n",
       "5341               1      50          264           23  \n",
       "303                1      34         1410           13  \n",
       "4313               1      79         2569           30  "
      ]
     },
     "execution_count": 90,
     "metadata": {},
     "output_type": "execute_result"
    }
   ],
   "source": [
    "X_train.head(3)"
   ]
  },
  {
   "cell_type": "code",
   "execution_count": 91,
   "metadata": {},
   "outputs": [
    {
     "data": {
      "text/html": [
       "<div>\n",
       "<style scoped>\n",
       "    .dataframe tbody tr th:only-of-type {\n",
       "        vertical-align: middle;\n",
       "    }\n",
       "\n",
       "    .dataframe tbody tr th {\n",
       "        vertical-align: top;\n",
       "    }\n",
       "\n",
       "    .dataframe thead th {\n",
       "        text-align: right;\n",
       "    }\n",
       "</style>\n",
       "<table border=\"1\" class=\"dataframe\">\n",
       "  <thead>\n",
       "    <tr style=\"text-align: right;\">\n",
       "      <th></th>\n",
       "      <th>App</th>\n",
       "      <th>Category</th>\n",
       "      <th>Reviews</th>\n",
       "      <th>Size</th>\n",
       "      <th>Installs</th>\n",
       "      <th>Type</th>\n",
       "      <th>Price</th>\n",
       "      <th>Content Rating</th>\n",
       "      <th>Genres</th>\n",
       "      <th>Current Ver</th>\n",
       "      <th>Android Ver</th>\n",
       "    </tr>\n",
       "  </thead>\n",
       "  <tbody>\n",
       "    <tr>\n",
       "      <th>7940</th>\n",
       "      <td>2962</td>\n",
       "      <td>6</td>\n",
       "      <td>3.361779e-07</td>\n",
       "      <td>0.008930</td>\n",
       "      <td>9.900000e-08</td>\n",
       "      <td>0</td>\n",
       "      <td>0</td>\n",
       "      <td>1</td>\n",
       "      <td>34</td>\n",
       "      <td>92</td>\n",
       "      <td>14</td>\n",
       "    </tr>\n",
       "    <tr>\n",
       "      <th>8608</th>\n",
       "      <td>3623</td>\n",
       "      <td>11</td>\n",
       "      <td>9.637100e-06</td>\n",
       "      <td>0.300007</td>\n",
       "      <td>9.999000e-06</td>\n",
       "      <td>0</td>\n",
       "      <td>0</td>\n",
       "      <td>1</td>\n",
       "      <td>37</td>\n",
       "      <td>2207</td>\n",
       "      <td>19</td>\n",
       "    </tr>\n",
       "    <tr>\n",
       "      <th>926</th>\n",
       "      <td>5431</td>\n",
       "      <td>12</td>\n",
       "      <td>1.792052e-03</td>\n",
       "      <td>0.450005</td>\n",
       "      <td>9.999990e-04</td>\n",
       "      <td>0</td>\n",
       "      <td>0</td>\n",
       "      <td>1</td>\n",
       "      <td>58</td>\n",
       "      <td>1812</td>\n",
       "      <td>19</td>\n",
       "    </tr>\n",
       "  </tbody>\n",
       "</table>\n",
       "</div>"
      ],
      "text/plain": [
       "       App  Category       Reviews      Size      Installs  Type  Price  \\\n",
       "7940  2962         6  3.361779e-07  0.008930  9.900000e-08     0      0   \n",
       "8608  3623        11  9.637100e-06  0.300007  9.999000e-06     0      0   \n",
       "926   5431        12  1.792052e-03  0.450005  9.999990e-04     0      0   \n",
       "\n",
       "      Content Rating  Genres  Current Ver  Android Ver  \n",
       "7940               1      34           92           14  \n",
       "8608               1      37         2207           19  \n",
       "926                1      58         1812           19  "
      ]
     },
     "execution_count": 91,
     "metadata": {},
     "output_type": "execute_result"
    }
   ],
   "source": [
    "X_test.head(3)"
   ]
  },
  {
   "cell_type": "code",
   "execution_count": 92,
   "metadata": {},
   "outputs": [
    {
     "data": {
      "text/html": [
       "<div>\n",
       "<style scoped>\n",
       "    .dataframe tbody tr th:only-of-type {\n",
       "        vertical-align: middle;\n",
       "    }\n",
       "\n",
       "    .dataframe tbody tr th {\n",
       "        vertical-align: top;\n",
       "    }\n",
       "\n",
       "    .dataframe thead th {\n",
       "        text-align: right;\n",
       "    }\n",
       "</style>\n",
       "<table border=\"1\" class=\"dataframe\">\n",
       "  <thead>\n",
       "    <tr style=\"text-align: right;\">\n",
       "      <th></th>\n",
       "      <th>App</th>\n",
       "      <th>Category</th>\n",
       "      <th>Reviews</th>\n",
       "      <th>Size</th>\n",
       "      <th>Installs</th>\n",
       "      <th>Type</th>\n",
       "      <th>Price</th>\n",
       "      <th>Content Rating</th>\n",
       "      <th>Genres</th>\n",
       "      <th>Current Ver</th>\n",
       "      <th>Android Ver</th>\n",
       "      <th>Rating_category</th>\n",
       "    </tr>\n",
       "  </thead>\n",
       "  <tbody>\n",
       "    <tr>\n",
       "      <th>App</th>\n",
       "      <td>1.000000</td>\n",
       "      <td>0.016349</td>\n",
       "      <td>0.054137</td>\n",
       "      <td>0.045679</td>\n",
       "      <td>0.029254</td>\n",
       "      <td>0.014726</td>\n",
       "      <td>0.008717</td>\n",
       "      <td>0.037756</td>\n",
       "      <td>0.024764</td>\n",
       "      <td>0.068111</td>\n",
       "      <td>0.089756</td>\n",
       "      <td>0.041972</td>\n",
       "    </tr>\n",
       "    <tr>\n",
       "      <th>Category</th>\n",
       "      <td>0.016349</td>\n",
       "      <td>1.000000</td>\n",
       "      <td>0.018697</td>\n",
       "      <td>-0.150548</td>\n",
       "      <td>0.043652</td>\n",
       "      <td>0.021007</td>\n",
       "      <td>0.006204</td>\n",
       "      <td>-0.111219</td>\n",
       "      <td>0.772687</td>\n",
       "      <td>0.115773</td>\n",
       "      <td>0.098330</td>\n",
       "      <td>-0.021654</td>\n",
       "    </tr>\n",
       "    <tr>\n",
       "      <th>Reviews</th>\n",
       "      <td>0.054137</td>\n",
       "      <td>0.018697</td>\n",
       "      <td>1.000000</td>\n",
       "      <td>0.088584</td>\n",
       "      <td>0.527138</td>\n",
       "      <td>-0.072316</td>\n",
       "      <td>-0.056383</td>\n",
       "      <td>0.096869</td>\n",
       "      <td>-0.047524</td>\n",
       "      <td>0.189927</td>\n",
       "      <td>0.162484</td>\n",
       "      <td>0.091421</td>\n",
       "    </tr>\n",
       "    <tr>\n",
       "      <th>Size</th>\n",
       "      <td>0.045679</td>\n",
       "      <td>-0.150548</td>\n",
       "      <td>0.088584</td>\n",
       "      <td>1.000000</td>\n",
       "      <td>-0.010857</td>\n",
       "      <td>-0.005931</td>\n",
       "      <td>-0.010821</td>\n",
       "      <td>0.164772</td>\n",
       "      <td>-0.144609</td>\n",
       "      <td>-0.177526</td>\n",
       "      <td>-0.141327</td>\n",
       "      <td>0.050003</td>\n",
       "    </tr>\n",
       "    <tr>\n",
       "      <th>Installs</th>\n",
       "      <td>0.029254</td>\n",
       "      <td>0.043652</td>\n",
       "      <td>0.527138</td>\n",
       "      <td>-0.010857</td>\n",
       "      <td>1.000000</td>\n",
       "      <td>-0.051095</td>\n",
       "      <td>-0.041176</td>\n",
       "      <td>0.046519</td>\n",
       "      <td>0.010589</td>\n",
       "      <td>0.163013</td>\n",
       "      <td>0.171343</td>\n",
       "      <td>0.058956</td>\n",
       "    </tr>\n",
       "    <tr>\n",
       "      <th>Type</th>\n",
       "      <td>0.014726</td>\n",
       "      <td>0.021007</td>\n",
       "      <td>-0.072316</td>\n",
       "      <td>-0.005931</td>\n",
       "      <td>-0.051095</td>\n",
       "      <td>1.000000</td>\n",
       "      <td>0.806811</td>\n",
       "      <td>-0.040692</td>\n",
       "      <td>0.004899</td>\n",
       "      <td>-0.072932</td>\n",
       "      <td>-0.084493</td>\n",
       "      <td>0.000446</td>\n",
       "    </tr>\n",
       "    <tr>\n",
       "      <th>Price</th>\n",
       "      <td>0.008717</td>\n",
       "      <td>0.006204</td>\n",
       "      <td>-0.056383</td>\n",
       "      <td>-0.010821</td>\n",
       "      <td>-0.041176</td>\n",
       "      <td>0.806811</td>\n",
       "      <td>1.000000</td>\n",
       "      <td>-0.024472</td>\n",
       "      <td>0.003008</td>\n",
       "      <td>-0.045896</td>\n",
       "      <td>-0.053031</td>\n",
       "      <td>-0.005194</td>\n",
       "    </tr>\n",
       "    <tr>\n",
       "      <th>Content Rating</th>\n",
       "      <td>0.037756</td>\n",
       "      <td>-0.111219</td>\n",
       "      <td>0.096869</td>\n",
       "      <td>0.164772</td>\n",
       "      <td>0.046519</td>\n",
       "      <td>-0.040692</td>\n",
       "      <td>-0.024472</td>\n",
       "      <td>1.000000</td>\n",
       "      <td>-0.151414</td>\n",
       "      <td>0.001524</td>\n",
       "      <td>0.009732</td>\n",
       "      <td>0.050196</td>\n",
       "    </tr>\n",
       "    <tr>\n",
       "      <th>Genres</th>\n",
       "      <td>0.024764</td>\n",
       "      <td>0.772687</td>\n",
       "      <td>-0.047524</td>\n",
       "      <td>-0.144609</td>\n",
       "      <td>0.010589</td>\n",
       "      <td>0.004899</td>\n",
       "      <td>0.003008</td>\n",
       "      <td>-0.151414</td>\n",
       "      <td>1.000000</td>\n",
       "      <td>0.112013</td>\n",
       "      <td>0.103269</td>\n",
       "      <td>-0.032179</td>\n",
       "    </tr>\n",
       "    <tr>\n",
       "      <th>Current Ver</th>\n",
       "      <td>0.068111</td>\n",
       "      <td>0.115773</td>\n",
       "      <td>0.189927</td>\n",
       "      <td>-0.177526</td>\n",
       "      <td>0.163013</td>\n",
       "      <td>-0.072932</td>\n",
       "      <td>-0.045896</td>\n",
       "      <td>0.001524</td>\n",
       "      <td>0.112013</td>\n",
       "      <td>1.000000</td>\n",
       "      <td>0.523433</td>\n",
       "      <td>0.091420</td>\n",
       "    </tr>\n",
       "    <tr>\n",
       "      <th>Android Ver</th>\n",
       "      <td>0.089756</td>\n",
       "      <td>0.098330</td>\n",
       "      <td>0.162484</td>\n",
       "      <td>-0.141327</td>\n",
       "      <td>0.171343</td>\n",
       "      <td>-0.084493</td>\n",
       "      <td>-0.053031</td>\n",
       "      <td>0.009732</td>\n",
       "      <td>0.103269</td>\n",
       "      <td>0.523433</td>\n",
       "      <td>1.000000</td>\n",
       "      <td>0.059069</td>\n",
       "    </tr>\n",
       "    <tr>\n",
       "      <th>Rating_category</th>\n",
       "      <td>0.041972</td>\n",
       "      <td>-0.021654</td>\n",
       "      <td>0.091421</td>\n",
       "      <td>0.050003</td>\n",
       "      <td>0.058956</td>\n",
       "      <td>0.000446</td>\n",
       "      <td>-0.005194</td>\n",
       "      <td>0.050196</td>\n",
       "      <td>-0.032179</td>\n",
       "      <td>0.091420</td>\n",
       "      <td>0.059069</td>\n",
       "      <td>1.000000</td>\n",
       "    </tr>\n",
       "  </tbody>\n",
       "</table>\n",
       "</div>"
      ],
      "text/plain": [
       "                      App  Category   Reviews      Size  Installs      Type  \\\n",
       "App              1.000000  0.016349  0.054137  0.045679  0.029254  0.014726   \n",
       "Category         0.016349  1.000000  0.018697 -0.150548  0.043652  0.021007   \n",
       "Reviews          0.054137  0.018697  1.000000  0.088584  0.527138 -0.072316   \n",
       "Size             0.045679 -0.150548  0.088584  1.000000 -0.010857 -0.005931   \n",
       "Installs         0.029254  0.043652  0.527138 -0.010857  1.000000 -0.051095   \n",
       "Type             0.014726  0.021007 -0.072316 -0.005931 -0.051095  1.000000   \n",
       "Price            0.008717  0.006204 -0.056383 -0.010821 -0.041176  0.806811   \n",
       "Content Rating   0.037756 -0.111219  0.096869  0.164772  0.046519 -0.040692   \n",
       "Genres           0.024764  0.772687 -0.047524 -0.144609  0.010589  0.004899   \n",
       "Current Ver      0.068111  0.115773  0.189927 -0.177526  0.163013 -0.072932   \n",
       "Android Ver      0.089756  0.098330  0.162484 -0.141327  0.171343 -0.084493   \n",
       "Rating_category  0.041972 -0.021654  0.091421  0.050003  0.058956  0.000446   \n",
       "\n",
       "                    Price  Content Rating    Genres  Current Ver  Android Ver  \\\n",
       "App              0.008717        0.037756  0.024764     0.068111     0.089756   \n",
       "Category         0.006204       -0.111219  0.772687     0.115773     0.098330   \n",
       "Reviews         -0.056383        0.096869 -0.047524     0.189927     0.162484   \n",
       "Size            -0.010821        0.164772 -0.144609    -0.177526    -0.141327   \n",
       "Installs        -0.041176        0.046519  0.010589     0.163013     0.171343   \n",
       "Type             0.806811       -0.040692  0.004899    -0.072932    -0.084493   \n",
       "Price            1.000000       -0.024472  0.003008    -0.045896    -0.053031   \n",
       "Content Rating  -0.024472        1.000000 -0.151414     0.001524     0.009732   \n",
       "Genres           0.003008       -0.151414  1.000000     0.112013     0.103269   \n",
       "Current Ver     -0.045896        0.001524  0.112013     1.000000     0.523433   \n",
       "Android Ver     -0.053031        0.009732  0.103269     0.523433     1.000000   \n",
       "Rating_category -0.005194        0.050196 -0.032179     0.091420     0.059069   \n",
       "\n",
       "                 Rating_category  \n",
       "App                     0.041972  \n",
       "Category               -0.021654  \n",
       "Reviews                 0.091421  \n",
       "Size                    0.050003  \n",
       "Installs                0.058956  \n",
       "Type                    0.000446  \n",
       "Price                  -0.005194  \n",
       "Content Rating          0.050196  \n",
       "Genres                 -0.032179  \n",
       "Current Ver             0.091420  \n",
       "Android Ver             0.059069  \n",
       "Rating_category         1.000000  "
      ]
     },
     "execution_count": 92,
     "metadata": {},
     "output_type": "execute_result"
    }
   ],
   "source": [
    "df.corr()"
   ]
  },
  {
   "cell_type": "markdown",
   "metadata": {},
   "source": [
    "### 4. Model training, and testing"
   ]
  },
  {
   "cell_type": "code",
   "execution_count": 93,
   "metadata": {},
   "outputs": [],
   "source": [
    "from sklearn.metrics import accuracy_score, f1_score # considering f1 score as imbalanced dataset\n",
    "\n",
    "def build_model(model, train, test):\n",
    "    model.fit(train[0], train[1]) # X columns and target column\n",
    "    train_preds = model.predict(train[0])\n",
    "    test_preds = model.predict(test[0])\n",
    "    results = {}\n",
    "    results['train_accuracy'] = accuracy_score(train[1], train_preds)\n",
    "    results['train_f1'] = f1_score(train[1], train_preds)\n",
    "    results['test_accuracy'] = accuracy_score(train[1], train_preds)\n",
    "    results['test_f1'] = f1_score(test[1], test_preds)\n",
    "    \n",
    "    return results"
   ]
  },
  {
   "cell_type": "code",
   "execution_count": 94,
   "metadata": {},
   "outputs": [
    {
     "data": {
      "text/plain": [
       "{'train_accuracy': 1.0,\n",
       " 'train_f1': 1.0,\n",
       " 'test_accuracy': 1.0,\n",
       " 'test_f1': 0.9083563682755688}"
      ]
     },
     "execution_count": 94,
     "metadata": {},
     "output_type": "execute_result"
    }
   ],
   "source": [
    "from sklearn.tree import DecisionTreeClassifier\n",
    "\n",
    "dtc = DecisionTreeClassifier()\n",
    "\n",
    "dtc_results = build_model(dtc, [X_train, y_train], [X_test, y_test])\n",
    "dtc_results"
   ]
  },
  {
   "cell_type": "code",
   "execution_count": 95,
   "metadata": {},
   "outputs": [
    {
     "data": {
      "text/plain": [
       "{'train_accuracy': 1.0,\n",
       " 'train_f1': 1.0,\n",
       " 'test_accuracy': 1.0,\n",
       " 'test_f1': 0.9473684210526316}"
      ]
     },
     "execution_count": 95,
     "metadata": {},
     "output_type": "execute_result"
    }
   ],
   "source": [
    "from sklearn.ensemble import RandomForestClassifier\n",
    "\n",
    "rfc = RandomForestClassifier()\n",
    "\n",
    "rfc_results = build_model(rfc, [X_train, y_train], [X_test, y_test])\n",
    "rfc_results"
   ]
  },
  {
   "cell_type": "code",
   "execution_count": 96,
   "metadata": {},
   "outputs": [
    {
     "data": {
      "text/plain": [
       "{'train_accuracy': 0.9938311688311688,\n",
       " 'train_f1': 0.9965815041381793,\n",
       " 'test_accuracy': 0.9938311688311688,\n",
       " 'test_f1': 0.9364657814096016}"
      ]
     },
     "execution_count": 96,
     "metadata": {},
     "output_type": "execute_result"
    }
   ],
   "source": [
    "from sklearn.ensemble import BaggingClassifier\n",
    "\n",
    "bgc = BaggingClassifier()\n",
    "\n",
    "bgc_results = build_model(bgc, [X_train, y_train], [X_test, y_test])\n",
    "bgc_results"
   ]
  },
  {
   "cell_type": "code",
   "execution_count": 97,
   "metadata": {},
   "outputs": [
    {
     "data": {
      "text/plain": [
       "{'train_accuracy': 0.9073051948051948,\n",
       " 'train_f1': 0.9510165565754483,\n",
       " 'test_accuracy': 0.9073051948051948,\n",
       " 'test_f1': 0.9468425259792166}"
      ]
     },
     "execution_count": 97,
     "metadata": {},
     "output_type": "execute_result"
    }
   ],
   "source": [
    "from sklearn.ensemble import GradientBoostingClassifier\n",
    "\n",
    "gbc = GradientBoostingClassifier()\n",
    "\n",
    "gbc_results = build_model(gbc, [X_train, y_train], [X_test, y_test])\n",
    "gbc_results"
   ]
  },
  {
   "cell_type": "code",
   "execution_count": 102,
   "metadata": {
    "scrolled": true
   },
   "outputs": [
    {
     "data": {
      "text/plain": [
       "{'train_accuracy': 1.0,\n",
       " 'train_f1': 1.0,\n",
       " 'test_accuracy': 1.0,\n",
       " 'test_f1': 0.9475587703435806}"
      ]
     },
     "execution_count": 102,
     "metadata": {},
     "output_type": "execute_result"
    }
   ],
   "source": [
    "from sklearn.ensemble import StackingClassifier\n",
    "\n",
    "stc = StackingClassifier(estimators=[(gbc, rfc)]) # Stacking Random Forest and Gradient Boosting Classifier\n",
    "\n",
    "stc_results = build_model(stc, [X_train, y_train], [X_test, y_test])\n",
    "stc_results"
   ]
  },
  {
   "cell_type": "markdown",
   "metadata": {},
   "source": [
    "### 5. Conclusion and improvisation"
   ]
  },
  {
   "cell_type": "code",
   "execution_count": 106,
   "metadata": {},
   "outputs": [
    {
     "data": {
      "image/png": "[encoded data removed]",
      "text/plain": [
       "<Figure size 720x576 with 1 Axes>"
      ]
     },
     "metadata": {
      "needs_background": "light"
     },
     "output_type": "display_data"
    }
   ],
   "source": [
    "import matplotlib.pyplot as plt\n",
    "%matplotlib inline\n",
    "\n",
    "y1 = [1.0, 1.0, 0.997, 0.950, 1.0]\n",
    "y2 = [0.908, 0.946, 0.934, 0.947, 0.948]\n",
    "\n",
    "ind = np.arange(5)\n",
    "\n",
    "# Figure size\n",
    "plt.figure(figsize=(10,8))\n",
    "\n",
    "width = 0.3       \n",
    "\n",
    "plt.bar(ind, y1 , width, label='Train Set')\n",
    "plt.bar(ind + width, y2, width, label='Test Set')\n",
    "\n",
    "plt.xlabel('ML Model Name')\n",
    "plt.ylabel('F1-Score')\n",
    "plt.title('ML Model Comparison')\n",
    "\n",
    "plt.xticks(ind + width / 2, ('Decision Tree Classifier', 'Random Forest Classifier', 'Bagging Classifier', \\\n",
    "                             'Gradient Boosting Classifier', 'Stacking Classifier'), rotation=45)\n",
    "\n",
    "plt.legend(loc='best')\n",
    "plt.show()"
   ]
  },
  {
   "cell_type": "code",
   "execution_count": 109,
   "metadata": {
    "scrolled": true
   },
   "outputs": [
    {
     "data": {
      "image/png": "[encoded data removed]",
      "text/plain": [
       "<Figure size 576x1296 with 1 Axes>"
      ]
     },
     "metadata": {
      "needs_background": "light"
     },
     "output_type": "display_data"
    }
   ],
   "source": [
    "# Feature importance of Gradient Boosting Classifier\n",
    "\n",
    "feature_importance = gbc.feature_importances_\n",
    "# make importances relative to max importance\n",
    "feature_importance = 100.0 * (feature_importance / feature_importance.max())\n",
    "sorted_idx = np.argsort(feature_importance)\n",
    "pos = np.arange(sorted_idx.shape[0]) + .5\n",
    "# plt.subplot(1, 2, 2)\n",
    "plt.figure(figsize=(8, 18))\n",
    "plt.barh(pos, feature_importance[sorted_idx], align='center')\n",
    "plt.yticks(pos, X_train.keys()[sorted_idx])\n",
    "plt.xlabel('Relative Importance')\n",
    "plt.title('Variable Importance')\n",
    "plt.show()"
   ]
  },
  {
   "cell_type": "markdown",
   "metadata": {},
   "source": [
    "##### Conclusion & Hypothesis\n",
    "\n",
    "- From the evaluation, it is evident that Gradient Boosting Classifier seems more stable and robust because of similar scores in the train as well as test dataset\n",
    "- No. of reviews seem to be the most important feature for the Gradient Boosting model. The hypothesis behind this might be that, an user only puts a review only when he/she is extremely happy or upset with the app. Usually when an app is working as per expectations then people don't tend to put a review\n",
    "- More features can be included for better accuracy, like no. of active users, no. of installations per day, etc."
   ]
  },
  {
   "cell_type": "code",
   "execution_count": null,
   "metadata": {},
   "outputs": [],
   "source": []
  }
 ],
 "metadata": {
  "kernelspec": {
   "display_name": "Python 3",
   "language": "python",
   "name": "python3"
  },
  "language_info": {
   "codemirror_mode": {
    "name": "ipython",
    "version": 3
   },
   "file_extension": ".py",
   "mimetype": "text/x-python",
   "name": "python",
   "nbconvert_exporter": "python",
   "pygments_lexer": "ipython3",
   "version": "3.7.6"
  }
 },
 "nbformat": 4,
 "nbformat_minor": 4
}
