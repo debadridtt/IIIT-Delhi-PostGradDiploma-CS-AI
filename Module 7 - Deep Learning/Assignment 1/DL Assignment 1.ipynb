{
 "cells": [
  {
   "cell_type": "code",
   "execution_count": 1,
   "metadata": {},
   "outputs": [],
   "source": [
    "import pandas as pd\n",
    "import numpy as np\n",
    "import warnings\n",
    "warnings.filterwarnings('ignore')"
   ]
  },
  {
   "cell_type": "markdown",
   "metadata": {},
   "source": [
    "## 1. Data import and Understanding"
   ]
  },
  {
   "cell_type": "code",
   "execution_count": 2,
   "metadata": {},
   "outputs": [
    {
     "data": {
      "text/html": [
       "<div>\n",
       "<style scoped>\n",
       "    .dataframe tbody tr th:only-of-type {\n",
       "        vertical-align: middle;\n",
       "    }\n",
       "\n",
       "    .dataframe tbody tr th {\n",
       "        vertical-align: top;\n",
       "    }\n",
       "\n",
       "    .dataframe thead th {\n",
       "        text-align: right;\n",
       "    }\n",
       "</style>\n",
       "<table border=\"1\" class=\"dataframe\">\n",
       "  <thead>\n",
       "    <tr style=\"text-align: right;\">\n",
       "      <th></th>\n",
       "      <th>Parameter 1</th>\n",
       "      <th>Parameter 2</th>\n",
       "      <th>Parameter 3</th>\n",
       "      <th>Parameter 4</th>\n",
       "      <th>Parameter 5</th>\n",
       "      <th>Parameter 6</th>\n",
       "      <th>Parameter 7</th>\n",
       "      <th>Parameter 8</th>\n",
       "      <th>Parameter 9</th>\n",
       "      <th>Parameter 10</th>\n",
       "      <th>Parameter 11</th>\n",
       "      <th>Signal_Strength</th>\n",
       "    </tr>\n",
       "  </thead>\n",
       "  <tbody>\n",
       "    <tr>\n",
       "      <th>0</th>\n",
       "      <td>7.4</td>\n",
       "      <td>0.70</td>\n",
       "      <td>0.0</td>\n",
       "      <td>1.9</td>\n",
       "      <td>0.076</td>\n",
       "      <td>11.0</td>\n",
       "      <td>34.0</td>\n",
       "      <td>0.9978</td>\n",
       "      <td>3.51</td>\n",
       "      <td>0.56</td>\n",
       "      <td>9.4</td>\n",
       "      <td>5</td>\n",
       "    </tr>\n",
       "    <tr>\n",
       "      <th>1</th>\n",
       "      <td>7.8</td>\n",
       "      <td>0.88</td>\n",
       "      <td>0.0</td>\n",
       "      <td>2.6</td>\n",
       "      <td>0.098</td>\n",
       "      <td>25.0</td>\n",
       "      <td>67.0</td>\n",
       "      <td>0.9968</td>\n",
       "      <td>3.20</td>\n",
       "      <td>0.68</td>\n",
       "      <td>9.8</td>\n",
       "      <td>5</td>\n",
       "    </tr>\n",
       "  </tbody>\n",
       "</table>\n",
       "</div>"
      ],
      "text/plain": [
       "   Parameter 1  Parameter 2  Parameter 3  Parameter 4  Parameter 5  \\\n",
       "0          7.4         0.70          0.0          1.9        0.076   \n",
       "1          7.8         0.88          0.0          2.6        0.098   \n",
       "\n",
       "   Parameter 6  Parameter 7  Parameter 8  Parameter 9  Parameter 10  \\\n",
       "0         11.0         34.0       0.9978         3.51          0.56   \n",
       "1         25.0         67.0       0.9968         3.20          0.68   \n",
       "\n",
       "   Parameter 11  Signal_Strength  \n",
       "0           9.4                5  \n",
       "1           9.8                5  "
      ]
     },
     "execution_count": 2,
     "metadata": {},
     "output_type": "execute_result"
    }
   ],
   "source": [
    "df = pd.read_csv('Signal.csv') # read the file\n",
    "df.head(2)"
   ]
  },
  {
   "cell_type": "code",
   "execution_count": 3,
   "metadata": {},
   "outputs": [
    {
     "data": {
      "text/plain": [
       "Parameter 1        0.0\n",
       "Parameter 2        0.0\n",
       "Parameter 3        0.0\n",
       "Parameter 4        0.0\n",
       "Parameter 5        0.0\n",
       "Parameter 6        0.0\n",
       "Parameter 7        0.0\n",
       "Parameter 8        0.0\n",
       "Parameter 9        0.0\n",
       "Parameter 10       0.0\n",
       "Parameter 11       0.0\n",
       "Signal_Strength    0.0\n",
       "dtype: float64"
      ]
     },
     "execution_count": 3,
     "metadata": {},
     "output_type": "execute_result"
    }
   ],
   "source": [
    "(df.isnull().sum()/df.shape[0])*100 # % of null values"
   ]
  },
  {
   "cell_type": "code",
   "execution_count": 4,
   "metadata": {},
   "outputs": [
    {
     "data": {
      "text/plain": [
       "((1599, 12), (1359, 12))"
      ]
     },
     "execution_count": 4,
     "metadata": {},
     "output_type": "execute_result"
    }
   ],
   "source": [
    "df.shape, df.drop_duplicates().shape # check for duplicates"
   ]
  },
  {
   "cell_type": "code",
   "execution_count": 5,
   "metadata": {},
   "outputs": [],
   "source": [
    "df = df.drop_duplicates()\n",
    "df.reset_index(drop=True, inplace=True)"
   ]
  },
  {
   "cell_type": "code",
   "execution_count": 6,
   "metadata": {},
   "outputs": [],
   "source": [
    "import matplotlib.pyplot as plt\n",
    "%matplotlib inline"
   ]
  },
  {
   "cell_type": "code",
   "execution_count": 7,
   "metadata": {},
   "outputs": [
    {
     "data": {
      "text/plain": [
       "5    577\n",
       "6    535\n",
       "7    167\n",
       "4     53\n",
       "8     17\n",
       "3     10\n",
       "Name: Signal_Strength, dtype: int64"
      ]
     },
     "execution_count": 7,
     "metadata": {},
     "output_type": "execute_result"
    }
   ],
   "source": [
    "df['Signal_Strength'].value_counts()"
   ]
  },
  {
   "cell_type": "code",
   "execution_count": 8,
   "metadata": {},
   "outputs": [
    {
     "data": {
      "image/png": "[encoded data removed]",
      "text/plain": [
       "<Figure size 432x288 with 1 Axes>"
      ]
     },
     "metadata": {
      "needs_background": "light"
     },
     "output_type": "display_data"
    }
   ],
   "source": [
    "df['Signal_Strength'].value_counts().plot(kind='bar') # distribution of target variable\n",
    "plt.xticks(rotation=0)\n",
    "plt.show()"
   ]
  },
  {
   "cell_type": "code",
   "execution_count": 9,
   "metadata": {},
   "outputs": [
    {
     "data": {
      "text/html": [
       "<div>\n",
       "<style scoped>\n",
       "    .dataframe tbody tr th:only-of-type {\n",
       "        vertical-align: middle;\n",
       "    }\n",
       "\n",
       "    .dataframe tbody tr th {\n",
       "        vertical-align: top;\n",
       "    }\n",
       "\n",
       "    .dataframe thead th {\n",
       "        text-align: right;\n",
       "    }\n",
       "</style>\n",
       "<table border=\"1\" class=\"dataframe\">\n",
       "  <thead>\n",
       "    <tr style=\"text-align: right;\">\n",
       "      <th></th>\n",
       "      <th>Parameter 1</th>\n",
       "      <th>Parameter 2</th>\n",
       "      <th>Parameter 3</th>\n",
       "      <th>Parameter 4</th>\n",
       "      <th>Parameter 5</th>\n",
       "      <th>Parameter 6</th>\n",
       "      <th>Parameter 7</th>\n",
       "      <th>Parameter 8</th>\n",
       "      <th>Parameter 9</th>\n",
       "      <th>Parameter 10</th>\n",
       "      <th>Parameter 11</th>\n",
       "      <th>Signal_Strength</th>\n",
       "    </tr>\n",
       "  </thead>\n",
       "  <tbody>\n",
       "    <tr>\n",
       "      <th>Parameter 1</th>\n",
       "      <td>1.000000</td>\n",
       "      <td>-0.255124</td>\n",
       "      <td>0.667437</td>\n",
       "      <td>0.111025</td>\n",
       "      <td>0.085886</td>\n",
       "      <td>-0.140580</td>\n",
       "      <td>-0.103777</td>\n",
       "      <td>0.670195</td>\n",
       "      <td>-0.686685</td>\n",
       "      <td>0.190269</td>\n",
       "      <td>-0.061596</td>\n",
       "      <td>0.119024</td>\n",
       "    </tr>\n",
       "    <tr>\n",
       "      <th>Parameter 2</th>\n",
       "      <td>-0.255124</td>\n",
       "      <td>1.000000</td>\n",
       "      <td>-0.551248</td>\n",
       "      <td>-0.002449</td>\n",
       "      <td>0.055154</td>\n",
       "      <td>-0.020945</td>\n",
       "      <td>0.071701</td>\n",
       "      <td>0.023943</td>\n",
       "      <td>0.247111</td>\n",
       "      <td>-0.256948</td>\n",
       "      <td>-0.197812</td>\n",
       "      <td>-0.395214</td>\n",
       "    </tr>\n",
       "    <tr>\n",
       "      <th>Parameter 3</th>\n",
       "      <td>0.667437</td>\n",
       "      <td>-0.551248</td>\n",
       "      <td>1.000000</td>\n",
       "      <td>0.143892</td>\n",
       "      <td>0.210195</td>\n",
       "      <td>-0.048004</td>\n",
       "      <td>0.047358</td>\n",
       "      <td>0.357962</td>\n",
       "      <td>-0.550310</td>\n",
       "      <td>0.326062</td>\n",
       "      <td>0.105108</td>\n",
       "      <td>0.228057</td>\n",
       "    </tr>\n",
       "    <tr>\n",
       "      <th>Parameter 4</th>\n",
       "      <td>0.111025</td>\n",
       "      <td>-0.002449</td>\n",
       "      <td>0.143892</td>\n",
       "      <td>1.000000</td>\n",
       "      <td>0.026656</td>\n",
       "      <td>0.160527</td>\n",
       "      <td>0.201038</td>\n",
       "      <td>0.324522</td>\n",
       "      <td>-0.083143</td>\n",
       "      <td>-0.011837</td>\n",
       "      <td>0.063281</td>\n",
       "      <td>0.013640</td>\n",
       "    </tr>\n",
       "    <tr>\n",
       "      <th>Parameter 5</th>\n",
       "      <td>0.085886</td>\n",
       "      <td>0.055154</td>\n",
       "      <td>0.210195</td>\n",
       "      <td>0.026656</td>\n",
       "      <td>1.000000</td>\n",
       "      <td>0.000749</td>\n",
       "      <td>0.045773</td>\n",
       "      <td>0.193592</td>\n",
       "      <td>-0.270893</td>\n",
       "      <td>0.394557</td>\n",
       "      <td>-0.223824</td>\n",
       "      <td>-0.130988</td>\n",
       "    </tr>\n",
       "    <tr>\n",
       "      <th>Parameter 6</th>\n",
       "      <td>-0.140580</td>\n",
       "      <td>-0.020945</td>\n",
       "      <td>-0.048004</td>\n",
       "      <td>0.160527</td>\n",
       "      <td>0.000749</td>\n",
       "      <td>1.000000</td>\n",
       "      <td>0.667246</td>\n",
       "      <td>-0.018071</td>\n",
       "      <td>0.056631</td>\n",
       "      <td>0.054126</td>\n",
       "      <td>-0.080125</td>\n",
       "      <td>-0.050463</td>\n",
       "    </tr>\n",
       "    <tr>\n",
       "      <th>Parameter 7</th>\n",
       "      <td>-0.103777</td>\n",
       "      <td>0.071701</td>\n",
       "      <td>0.047358</td>\n",
       "      <td>0.201038</td>\n",
       "      <td>0.045773</td>\n",
       "      <td>0.667246</td>\n",
       "      <td>1.000000</td>\n",
       "      <td>0.078141</td>\n",
       "      <td>-0.079257</td>\n",
       "      <td>0.035291</td>\n",
       "      <td>-0.217829</td>\n",
       "      <td>-0.177855</td>\n",
       "    </tr>\n",
       "    <tr>\n",
       "      <th>Parameter 8</th>\n",
       "      <td>0.670195</td>\n",
       "      <td>0.023943</td>\n",
       "      <td>0.357962</td>\n",
       "      <td>0.324522</td>\n",
       "      <td>0.193592</td>\n",
       "      <td>-0.018071</td>\n",
       "      <td>0.078141</td>\n",
       "      <td>1.000000</td>\n",
       "      <td>-0.355617</td>\n",
       "      <td>0.146036</td>\n",
       "      <td>-0.504995</td>\n",
       "      <td>-0.184252</td>\n",
       "    </tr>\n",
       "    <tr>\n",
       "      <th>Parameter 9</th>\n",
       "      <td>-0.686685</td>\n",
       "      <td>0.247111</td>\n",
       "      <td>-0.550310</td>\n",
       "      <td>-0.083143</td>\n",
       "      <td>-0.270893</td>\n",
       "      <td>0.056631</td>\n",
       "      <td>-0.079257</td>\n",
       "      <td>-0.355617</td>\n",
       "      <td>1.000000</td>\n",
       "      <td>-0.214134</td>\n",
       "      <td>0.213418</td>\n",
       "      <td>-0.055245</td>\n",
       "    </tr>\n",
       "    <tr>\n",
       "      <th>Parameter 10</th>\n",
       "      <td>0.190269</td>\n",
       "      <td>-0.256948</td>\n",
       "      <td>0.326062</td>\n",
       "      <td>-0.011837</td>\n",
       "      <td>0.394557</td>\n",
       "      <td>0.054126</td>\n",
       "      <td>0.035291</td>\n",
       "      <td>0.146036</td>\n",
       "      <td>-0.214134</td>\n",
       "      <td>1.000000</td>\n",
       "      <td>0.091621</td>\n",
       "      <td>0.248835</td>\n",
       "    </tr>\n",
       "    <tr>\n",
       "      <th>Parameter 11</th>\n",
       "      <td>-0.061596</td>\n",
       "      <td>-0.197812</td>\n",
       "      <td>0.105108</td>\n",
       "      <td>0.063281</td>\n",
       "      <td>-0.223824</td>\n",
       "      <td>-0.080125</td>\n",
       "      <td>-0.217829</td>\n",
       "      <td>-0.504995</td>\n",
       "      <td>0.213418</td>\n",
       "      <td>0.091621</td>\n",
       "      <td>1.000000</td>\n",
       "      <td>0.480343</td>\n",
       "    </tr>\n",
       "    <tr>\n",
       "      <th>Signal_Strength</th>\n",
       "      <td>0.119024</td>\n",
       "      <td>-0.395214</td>\n",
       "      <td>0.228057</td>\n",
       "      <td>0.013640</td>\n",
       "      <td>-0.130988</td>\n",
       "      <td>-0.050463</td>\n",
       "      <td>-0.177855</td>\n",
       "      <td>-0.184252</td>\n",
       "      <td>-0.055245</td>\n",
       "      <td>0.248835</td>\n",
       "      <td>0.480343</td>\n",
       "      <td>1.000000</td>\n",
       "    </tr>\n",
       "  </tbody>\n",
       "</table>\n",
       "</div>"
      ],
      "text/plain": [
       "                 Parameter 1  Parameter 2  Parameter 3  Parameter 4  \\\n",
       "Parameter 1         1.000000    -0.255124     0.667437     0.111025   \n",
       "Parameter 2        -0.255124     1.000000    -0.551248    -0.002449   \n",
       "Parameter 3         0.667437    -0.551248     1.000000     0.143892   \n",
       "Parameter 4         0.111025    -0.002449     0.143892     1.000000   \n",
       "Parameter 5         0.085886     0.055154     0.210195     0.026656   \n",
       "Parameter 6        -0.140580    -0.020945    -0.048004     0.160527   \n",
       "Parameter 7        -0.103777     0.071701     0.047358     0.201038   \n",
       "Parameter 8         0.670195     0.023943     0.357962     0.324522   \n",
       "Parameter 9        -0.686685     0.247111    -0.550310    -0.083143   \n",
       "Parameter 10        0.190269    -0.256948     0.326062    -0.011837   \n",
       "Parameter 11       -0.061596    -0.197812     0.105108     0.063281   \n",
       "Signal_Strength     0.119024    -0.395214     0.228057     0.013640   \n",
       "\n",
       "                 Parameter 5  Parameter 6  Parameter 7  Parameter 8  \\\n",
       "Parameter 1         0.085886    -0.140580    -0.103777     0.670195   \n",
       "Parameter 2         0.055154    -0.020945     0.071701     0.023943   \n",
       "Parameter 3         0.210195    -0.048004     0.047358     0.357962   \n",
       "Parameter 4         0.026656     0.160527     0.201038     0.324522   \n",
       "Parameter 5         1.000000     0.000749     0.045773     0.193592   \n",
       "Parameter 6         0.000749     1.000000     0.667246    -0.018071   \n",
       "Parameter 7         0.045773     0.667246     1.000000     0.078141   \n",
       "Parameter 8         0.193592    -0.018071     0.078141     1.000000   \n",
       "Parameter 9        -0.270893     0.056631    -0.079257    -0.355617   \n",
       "Parameter 10        0.394557     0.054126     0.035291     0.146036   \n",
       "Parameter 11       -0.223824    -0.080125    -0.217829    -0.504995   \n",
       "Signal_Strength    -0.130988    -0.050463    -0.177855    -0.184252   \n",
       "\n",
       "                 Parameter 9  Parameter 10  Parameter 11  Signal_Strength  \n",
       "Parameter 1        -0.686685      0.190269     -0.061596         0.119024  \n",
       "Parameter 2         0.247111     -0.256948     -0.197812        -0.395214  \n",
       "Parameter 3        -0.550310      0.326062      0.105108         0.228057  \n",
       "Parameter 4        -0.083143     -0.011837      0.063281         0.013640  \n",
       "Parameter 5        -0.270893      0.394557     -0.223824        -0.130988  \n",
       "Parameter 6         0.056631      0.054126     -0.080125        -0.050463  \n",
       "Parameter 7        -0.079257      0.035291     -0.217829        -0.177855  \n",
       "Parameter 8        -0.355617      0.146036     -0.504995        -0.184252  \n",
       "Parameter 9         1.000000     -0.214134      0.213418        -0.055245  \n",
       "Parameter 10       -0.214134      1.000000      0.091621         0.248835  \n",
       "Parameter 11        0.213418      0.091621      1.000000         0.480343  \n",
       "Signal_Strength    -0.055245      0.248835      0.480343         1.000000  "
      ]
     },
     "execution_count": 9,
     "metadata": {},
     "output_type": "execute_result"
    }
   ],
   "source": [
    "df.corr()"
   ]
  },
  {
   "cell_type": "code",
   "execution_count": 10,
   "metadata": {},
   "outputs": [
    {
     "data": {
      "text/html": [
       "<div>\n",
       "<style scoped>\n",
       "    .dataframe tbody tr th:only-of-type {\n",
       "        vertical-align: middle;\n",
       "    }\n",
       "\n",
       "    .dataframe tbody tr th {\n",
       "        vertical-align: top;\n",
       "    }\n",
       "\n",
       "    .dataframe thead th {\n",
       "        text-align: right;\n",
       "    }\n",
       "</style>\n",
       "<table border=\"1\" class=\"dataframe\">\n",
       "  <thead>\n",
       "    <tr style=\"text-align: right;\">\n",
       "      <th></th>\n",
       "      <th>Parameter 1</th>\n",
       "      <th>Parameter 2</th>\n",
       "      <th>Parameter 3</th>\n",
       "      <th>Parameter 4</th>\n",
       "      <th>Parameter 5</th>\n",
       "      <th>Parameter 6</th>\n",
       "      <th>Parameter 7</th>\n",
       "      <th>Parameter 8</th>\n",
       "      <th>Parameter 9</th>\n",
       "      <th>Parameter 10</th>\n",
       "      <th>Parameter 11</th>\n",
       "      <th>Signal_Strength</th>\n",
       "    </tr>\n",
       "  </thead>\n",
       "  <tbody>\n",
       "    <tr>\n",
       "      <th>count</th>\n",
       "      <td>1359.000000</td>\n",
       "      <td>1359.000000</td>\n",
       "      <td>1359.000000</td>\n",
       "      <td>1359.000000</td>\n",
       "      <td>1359.000000</td>\n",
       "      <td>1359.000000</td>\n",
       "      <td>1359.000000</td>\n",
       "      <td>1359.000000</td>\n",
       "      <td>1359.000000</td>\n",
       "      <td>1359.000000</td>\n",
       "      <td>1359.000000</td>\n",
       "      <td>1359.000000</td>\n",
       "    </tr>\n",
       "    <tr>\n",
       "      <th>mean</th>\n",
       "      <td>8.310596</td>\n",
       "      <td>0.529478</td>\n",
       "      <td>0.272333</td>\n",
       "      <td>2.523400</td>\n",
       "      <td>0.088124</td>\n",
       "      <td>15.893304</td>\n",
       "      <td>46.825975</td>\n",
       "      <td>0.996709</td>\n",
       "      <td>3.309787</td>\n",
       "      <td>0.658705</td>\n",
       "      <td>10.432315</td>\n",
       "      <td>5.623252</td>\n",
       "    </tr>\n",
       "    <tr>\n",
       "      <th>std</th>\n",
       "      <td>1.736990</td>\n",
       "      <td>0.183031</td>\n",
       "      <td>0.195537</td>\n",
       "      <td>1.352314</td>\n",
       "      <td>0.049377</td>\n",
       "      <td>10.447270</td>\n",
       "      <td>33.408946</td>\n",
       "      <td>0.001869</td>\n",
       "      <td>0.155036</td>\n",
       "      <td>0.170667</td>\n",
       "      <td>1.082065</td>\n",
       "      <td>0.823578</td>\n",
       "    </tr>\n",
       "    <tr>\n",
       "      <th>min</th>\n",
       "      <td>4.600000</td>\n",
       "      <td>0.120000</td>\n",
       "      <td>0.000000</td>\n",
       "      <td>0.900000</td>\n",
       "      <td>0.012000</td>\n",
       "      <td>1.000000</td>\n",
       "      <td>6.000000</td>\n",
       "      <td>0.990070</td>\n",
       "      <td>2.740000</td>\n",
       "      <td>0.330000</td>\n",
       "      <td>8.400000</td>\n",
       "      <td>3.000000</td>\n",
       "    </tr>\n",
       "    <tr>\n",
       "      <th>25%</th>\n",
       "      <td>7.100000</td>\n",
       "      <td>0.390000</td>\n",
       "      <td>0.090000</td>\n",
       "      <td>1.900000</td>\n",
       "      <td>0.070000</td>\n",
       "      <td>7.000000</td>\n",
       "      <td>22.000000</td>\n",
       "      <td>0.995600</td>\n",
       "      <td>3.210000</td>\n",
       "      <td>0.550000</td>\n",
       "      <td>9.500000</td>\n",
       "      <td>5.000000</td>\n",
       "    </tr>\n",
       "    <tr>\n",
       "      <th>50%</th>\n",
       "      <td>7.900000</td>\n",
       "      <td>0.520000</td>\n",
       "      <td>0.260000</td>\n",
       "      <td>2.200000</td>\n",
       "      <td>0.079000</td>\n",
       "      <td>14.000000</td>\n",
       "      <td>38.000000</td>\n",
       "      <td>0.996700</td>\n",
       "      <td>3.310000</td>\n",
       "      <td>0.620000</td>\n",
       "      <td>10.200000</td>\n",
       "      <td>6.000000</td>\n",
       "    </tr>\n",
       "    <tr>\n",
       "      <th>75%</th>\n",
       "      <td>9.200000</td>\n",
       "      <td>0.640000</td>\n",
       "      <td>0.430000</td>\n",
       "      <td>2.600000</td>\n",
       "      <td>0.091000</td>\n",
       "      <td>21.000000</td>\n",
       "      <td>63.000000</td>\n",
       "      <td>0.997820</td>\n",
       "      <td>3.400000</td>\n",
       "      <td>0.730000</td>\n",
       "      <td>11.100000</td>\n",
       "      <td>6.000000</td>\n",
       "    </tr>\n",
       "    <tr>\n",
       "      <th>max</th>\n",
       "      <td>15.900000</td>\n",
       "      <td>1.580000</td>\n",
       "      <td>1.000000</td>\n",
       "      <td>15.500000</td>\n",
       "      <td>0.611000</td>\n",
       "      <td>72.000000</td>\n",
       "      <td>289.000000</td>\n",
       "      <td>1.003690</td>\n",
       "      <td>4.010000</td>\n",
       "      <td>2.000000</td>\n",
       "      <td>14.900000</td>\n",
       "      <td>8.000000</td>\n",
       "    </tr>\n",
       "  </tbody>\n",
       "</table>\n",
       "</div>"
      ],
      "text/plain": [
       "       Parameter 1  Parameter 2  Parameter 3  Parameter 4  Parameter 5  \\\n",
       "count  1359.000000  1359.000000  1359.000000  1359.000000  1359.000000   \n",
       "mean      8.310596     0.529478     0.272333     2.523400     0.088124   \n",
       "std       1.736990     0.183031     0.195537     1.352314     0.049377   \n",
       "min       4.600000     0.120000     0.000000     0.900000     0.012000   \n",
       "25%       7.100000     0.390000     0.090000     1.900000     0.070000   \n",
       "50%       7.900000     0.520000     0.260000     2.200000     0.079000   \n",
       "75%       9.200000     0.640000     0.430000     2.600000     0.091000   \n",
       "max      15.900000     1.580000     1.000000    15.500000     0.611000   \n",
       "\n",
       "       Parameter 6  Parameter 7  Parameter 8  Parameter 9  Parameter 10  \\\n",
       "count  1359.000000  1359.000000  1359.000000  1359.000000   1359.000000   \n",
       "mean     15.893304    46.825975     0.996709     3.309787      0.658705   \n",
       "std      10.447270    33.408946     0.001869     0.155036      0.170667   \n",
       "min       1.000000     6.000000     0.990070     2.740000      0.330000   \n",
       "25%       7.000000    22.000000     0.995600     3.210000      0.550000   \n",
       "50%      14.000000    38.000000     0.996700     3.310000      0.620000   \n",
       "75%      21.000000    63.000000     0.997820     3.400000      0.730000   \n",
       "max      72.000000   289.000000     1.003690     4.010000      2.000000   \n",
       "\n",
       "       Parameter 11  Signal_Strength  \n",
       "count   1359.000000      1359.000000  \n",
       "mean      10.432315         5.623252  \n",
       "std        1.082065         0.823578  \n",
       "min        8.400000         3.000000  \n",
       "25%        9.500000         5.000000  \n",
       "50%       10.200000         6.000000  \n",
       "75%       11.100000         6.000000  \n",
       "max       14.900000         8.000000  "
      ]
     },
     "execution_count": 10,
     "metadata": {},
     "output_type": "execute_result"
    }
   ],
   "source": [
    "df.describe()"
   ]
  },
  {
   "cell_type": "code",
   "execution_count": 11,
   "metadata": {},
   "outputs": [
    {
     "data": {
      "image/png": "[encoded data removed]",
      "text/plain": [
       "<Figure size 576x432 with 1 Axes>"
      ]
     },
     "metadata": {
      "needs_background": "light"
     },
     "output_type": "display_data"
    }
   ],
   "source": [
    "plt.figure(figsize=(8, 6))\n",
    "plt.plot(df['Parameter 1'])\n",
    "plt.plot(df['Parameter 2'])\n",
    "plt.plot(df['Parameter 3'])\n",
    "plt.plot(df['Parameter 4'])\n",
    "plt.plot(df['Parameter 5'])\n",
    "plt.plot(df['Parameter 6'])\n",
    "plt.plot(df['Parameter 7'])\n",
    "plt.plot(df['Parameter 8'])\n",
    "plt.plot(df['Parameter 9'])\n",
    "plt.plot(df['Parameter 10'])\n",
    "plt.plot(df['Parameter 11'])\n",
    "plt.show()"
   ]
  },
  {
   "cell_type": "code",
   "execution_count": 12,
   "metadata": {
    "scrolled": true
   },
   "outputs": [],
   "source": [
    "import seaborn as sns\n",
    "\n",
    "# sns.pairplot(df)"
   ]
  },
  {
   "cell_type": "code",
   "execution_count": 13,
   "metadata": {},
   "outputs": [],
   "source": [
    "# None of the variables are highly correlated with the target variable\n",
    "# Parameter 7 has a very different distribution\n",
    "# classes 5 & 6 are majority classes"
   ]
  },
  {
   "cell_type": "markdown",
   "metadata": {},
   "source": [
    "## 2. Data preprocessing"
   ]
  },
  {
   "cell_type": "code",
   "execution_count": 14,
   "metadata": {},
   "outputs": [],
   "source": [
    "from sklearn.preprocessing import LabelEncoder\n",
    "\n",
    "le = LabelEncoder()\n",
    "\n",
    "df['Signal_Strength'] = le.fit_transform(df['Signal_Strength'])"
   ]
  },
  {
   "cell_type": "code",
   "execution_count": 15,
   "metadata": {},
   "outputs": [],
   "source": [
    "X = df.drop('Signal_Strength', axis=1)\n",
    "y = df[['Signal_Strength']]"
   ]
  },
  {
   "cell_type": "code",
   "execution_count": 16,
   "metadata": {},
   "outputs": [],
   "source": [
    "from sklearn.model_selection import train_test_split\n",
    "\n",
    "X_train, X_test, y_train, y_test = train_test_split(X, y, test_size=0.3, random_state=0)"
   ]
  },
  {
   "cell_type": "code",
   "execution_count": 17,
   "metadata": {},
   "outputs": [
    {
     "data": {
      "text/plain": [
       "((951, 11), (408, 11))"
      ]
     },
     "execution_count": 17,
     "metadata": {},
     "output_type": "execute_result"
    }
   ],
   "source": [
    "X_train.shape, X_test.shape"
   ]
  },
  {
   "cell_type": "code",
   "execution_count": 18,
   "metadata": {},
   "outputs": [
    {
     "data": {
      "text/plain": [
       "((951, 1), (408, 1))"
      ]
     },
     "execution_count": 18,
     "metadata": {},
     "output_type": "execute_result"
    }
   ],
   "source": [
    "y_train.shape, y_test.shape"
   ]
  },
  {
   "cell_type": "code",
   "execution_count": 19,
   "metadata": {},
   "outputs": [],
   "source": [
    "from sklearn.preprocessing import Normalizer\n",
    "\n",
    "norm = Normalizer()\n",
    "\n",
    "X_train = norm.fit_transform(X_train)\n",
    "X_test = norm.transform(X_test)"
   ]
  },
  {
   "cell_type": "code",
   "execution_count": 20,
   "metadata": {},
   "outputs": [
    {
     "data": {
      "text/plain": [
       "((951, 11), (408, 11))"
      ]
     },
     "execution_count": 20,
     "metadata": {},
     "output_type": "execute_result"
    }
   ],
   "source": [
    "X_train.shape, X_test.shape"
   ]
  },
  {
   "cell_type": "code",
   "execution_count": 21,
   "metadata": {},
   "outputs": [
    {
     "data": {
      "text/plain": [
       "((951, 1), (408, 1))"
      ]
     },
     "execution_count": 21,
     "metadata": {},
     "output_type": "execute_result"
    }
   ],
   "source": [
    "y_train.shape, y_test.shape"
   ]
  },
  {
   "cell_type": "markdown",
   "metadata": {},
   "source": [
    "## 3. Model Training & Evaluation using Neural Network"
   ]
  },
  {
   "cell_type": "code",
   "execution_count": 22,
   "metadata": {},
   "outputs": [],
   "source": [
    "import tensorflow as tf\n",
    "from tensorflow.keras.models import Sequential\n",
    "from tensorflow.keras.layers import Dense\n",
    "from tensorflow.keras.utils import to_categorical\n",
    "from tensorflow.keras.optimizers import Adam, RMSprop"
   ]
  },
  {
   "cell_type": "code",
   "execution_count": 23,
   "metadata": {},
   "outputs": [],
   "source": [
    "y_train = to_categorical(y_train)\n",
    "y_test = to_categorical(y_test)"
   ]
  },
  {
   "cell_type": "code",
   "execution_count": 24,
   "metadata": {},
   "outputs": [],
   "source": [
    "# Designing Neural Network Architecture\n",
    "\n",
    "model = Sequential()\n",
    "model.add(Dense(11, input_dim = 11, activation = 'relu'))\n",
    "model.add(Dense(11, activation = 'relu'))\n",
    "model.add(Dense(6, activation = 'softmax'))"
   ]
  },
  {
   "cell_type": "code",
   "execution_count": 25,
   "metadata": {},
   "outputs": [],
   "source": [
    "model.compile(loss='categorical_crossentropy', optimizer = Adam(lr=0.001), metrics = ['accuracy'])"
   ]
  },
  {
   "cell_type": "code",
   "execution_count": 26,
   "metadata": {},
   "outputs": [
    {
     "name": "stdout",
     "output_type": "stream",
     "text": [
      "Model: \"sequential\"\n",
      "_________________________________________________________________\n",
      " Layer (type)                Output Shape              Param #   \n",
      "=================================================================\n",
      " dense (Dense)               (None, 11)                132       \n",
      "                                                                 \n",
      " dense_1 (Dense)             (None, 11)                132       \n",
      "                                                                 \n",
      " dense_2 (Dense)             (None, 6)                 72        \n",
      "                                                                 \n",
      "=================================================================\n",
      "Total params: 336\n",
      "Trainable params: 336\n",
      "Non-trainable params: 0\n",
      "_________________________________________________________________\n"
     ]
    }
   ],
   "source": [
    "model.summary()"
   ]
  },
  {
   "cell_type": "code",
   "execution_count": 27,
   "metadata": {
    "scrolled": true
   },
   "outputs": [
    {
     "name": "stdout",
     "output_type": "stream",
     "text": [
      "Epoch 1/100\n",
      "30/30 [==============================] - 1s 8ms/step - loss: 1.7430 - accuracy: 0.4217 - val_loss: 1.7218 - val_accuracy: 0.4314\n",
      "Epoch 2/100\n",
      "30/30 [==============================] - 0s 3ms/step - loss: 1.6833 - accuracy: 0.4217 - val_loss: 1.6663 - val_accuracy: 0.4314\n",
      "Epoch 3/100\n",
      "30/30 [==============================] - 0s 3ms/step - loss: 1.6225 - accuracy: 0.4217 - val_loss: 1.6112 - val_accuracy: 0.4314\n",
      "Epoch 4/100\n",
      "30/30 [==============================] - 0s 3ms/step - loss: 1.5635 - accuracy: 0.4217 - val_loss: 1.5575 - val_accuracy: 0.4314\n",
      "Epoch 5/100\n",
      "30/30 [==============================] - 0s 3ms/step - loss: 1.5030 - accuracy: 0.4217 - val_loss: 1.4855 - val_accuracy: 0.4314\n",
      "Epoch 6/100\n",
      "30/30 [==============================] - 0s 3ms/step - loss: 1.4079 - accuracy: 0.4217 - val_loss: 1.3929 - val_accuracy: 0.4338\n",
      "Epoch 7/100\n",
      "30/30 [==============================] - 0s 3ms/step - loss: 1.3248 - accuracy: 0.4343 - val_loss: 1.3297 - val_accuracy: 0.4730\n",
      "Epoch 8/100\n",
      "30/30 [==============================] - 0s 3ms/step - loss: 1.2767 - accuracy: 0.4627 - val_loss: 1.2935 - val_accuracy: 0.4828\n",
      "Epoch 9/100\n",
      "30/30 [==============================] - 0s 3ms/step - loss: 1.2487 - accuracy: 0.4900 - val_loss: 1.2677 - val_accuracy: 0.5049\n",
      "Epoch 10/100\n",
      "30/30 [==============================] - 0s 3ms/step - loss: 1.2301 - accuracy: 0.4974 - val_loss: 1.2427 - val_accuracy: 0.5025\n",
      "Epoch 11/100\n",
      "30/30 [==============================] - 0s 3ms/step - loss: 1.2151 - accuracy: 0.4900 - val_loss: 1.2236 - val_accuracy: 0.5098\n",
      "Epoch 12/100\n",
      "30/30 [==============================] - 0s 3ms/step - loss: 1.2015 - accuracy: 0.4932 - val_loss: 1.2101 - val_accuracy: 0.4975\n",
      "Epoch 13/100\n",
      "30/30 [==============================] - 0s 2ms/step - loss: 1.1910 - accuracy: 0.4890 - val_loss: 1.1977 - val_accuracy: 0.4853\n",
      "Epoch 14/100\n",
      "30/30 [==============================] - 0s 3ms/step - loss: 1.1831 - accuracy: 0.4774 - val_loss: 1.1868 - val_accuracy: 0.5000\n",
      "Epoch 15/100\n",
      "30/30 [==============================] - 0s 3ms/step - loss: 1.1765 - accuracy: 0.4848 - val_loss: 1.1778 - val_accuracy: 0.5049\n",
      "Epoch 16/100\n",
      "30/30 [==============================] - 0s 3ms/step - loss: 1.1719 - accuracy: 0.4848 - val_loss: 1.1719 - val_accuracy: 0.4877\n",
      "Epoch 17/100\n",
      "30/30 [==============================] - 0s 3ms/step - loss: 1.1673 - accuracy: 0.4942 - val_loss: 1.1678 - val_accuracy: 0.5049\n",
      "Epoch 18/100\n",
      "30/30 [==============================] - 0s 3ms/step - loss: 1.1644 - accuracy: 0.4900 - val_loss: 1.1626 - val_accuracy: 0.4975\n",
      "Epoch 19/100\n",
      "30/30 [==============================] - 0s 3ms/step - loss: 1.1614 - accuracy: 0.4911 - val_loss: 1.1602 - val_accuracy: 0.5025\n",
      "Epoch 20/100\n",
      "30/30 [==============================] - 0s 3ms/step - loss: 1.1587 - accuracy: 0.4953 - val_loss: 1.1587 - val_accuracy: 0.5074\n",
      "Epoch 21/100\n",
      "30/30 [==============================] - 0s 3ms/step - loss: 1.1582 - accuracy: 0.4869 - val_loss: 1.1569 - val_accuracy: 0.5123\n",
      "Epoch 22/100\n",
      "30/30 [==============================] - 0s 3ms/step - loss: 1.1560 - accuracy: 0.4921 - val_loss: 1.1579 - val_accuracy: 0.4804\n",
      "Epoch 23/100\n",
      "30/30 [==============================] - 0s 3ms/step - loss: 1.1556 - accuracy: 0.4869 - val_loss: 1.1557 - val_accuracy: 0.5147\n",
      "Epoch 24/100\n",
      "30/30 [==============================] - 0s 3ms/step - loss: 1.1527 - accuracy: 0.4879 - val_loss: 1.1538 - val_accuracy: 0.5123\n",
      "Epoch 25/100\n",
      "30/30 [==============================] - 0s 3ms/step - loss: 1.1515 - accuracy: 0.4932 - val_loss: 1.1533 - val_accuracy: 0.5123\n",
      "Epoch 26/100\n",
      "30/30 [==============================] - 0s 3ms/step - loss: 1.1506 - accuracy: 0.4890 - val_loss: 1.1527 - val_accuracy: 0.5000\n",
      "Epoch 27/100\n",
      "30/30 [==============================] - 0s 3ms/step - loss: 1.1502 - accuracy: 0.4900 - val_loss: 1.1501 - val_accuracy: 0.5147\n",
      "Epoch 28/100\n",
      "30/30 [==============================] - 0s 3ms/step - loss: 1.1495 - accuracy: 0.4953 - val_loss: 1.1513 - val_accuracy: 0.5123\n",
      "Epoch 29/100\n",
      "30/30 [==============================] - 0s 2ms/step - loss: 1.1489 - accuracy: 0.4974 - val_loss: 1.1507 - val_accuracy: 0.5098\n",
      "Epoch 30/100\n",
      "30/30 [==============================] - 0s 3ms/step - loss: 1.1482 - accuracy: 0.4942 - val_loss: 1.1496 - val_accuracy: 0.5123\n",
      "Epoch 31/100\n",
      "30/30 [==============================] - 0s 2ms/step - loss: 1.1471 - accuracy: 0.4911 - val_loss: 1.1496 - val_accuracy: 0.5123\n",
      "Epoch 32/100\n",
      "30/30 [==============================] - 0s 3ms/step - loss: 1.1459 - accuracy: 0.4953 - val_loss: 1.1488 - val_accuracy: 0.5196\n",
      "Epoch 33/100\n",
      "30/30 [==============================] - 0s 3ms/step - loss: 1.1461 - accuracy: 0.4932 - val_loss: 1.1492 - val_accuracy: 0.5098\n",
      "Epoch 34/100\n",
      "30/30 [==============================] - 0s 3ms/step - loss: 1.1458 - accuracy: 0.5016 - val_loss: 1.1471 - val_accuracy: 0.5123\n",
      "Epoch 35/100\n",
      "30/30 [==============================] - 0s 3ms/step - loss: 1.1446 - accuracy: 0.4911 - val_loss: 1.1485 - val_accuracy: 0.5196\n",
      "Epoch 36/100\n",
      "30/30 [==============================] - 0s 3ms/step - loss: 1.1442 - accuracy: 0.4984 - val_loss: 1.1479 - val_accuracy: 0.5098\n",
      "Epoch 37/100\n",
      "30/30 [==============================] - 0s 3ms/step - loss: 1.1438 - accuracy: 0.4963 - val_loss: 1.1467 - val_accuracy: 0.5147\n",
      "Epoch 38/100\n",
      "30/30 [==============================] - 0s 3ms/step - loss: 1.1435 - accuracy: 0.5016 - val_loss: 1.1488 - val_accuracy: 0.5147\n",
      "Epoch 39/100\n",
      "30/30 [==============================] - 0s 3ms/step - loss: 1.1435 - accuracy: 0.4911 - val_loss: 1.1467 - val_accuracy: 0.5221\n",
      "Epoch 40/100\n",
      "30/30 [==============================] - 0s 2ms/step - loss: 1.1418 - accuracy: 0.4974 - val_loss: 1.1466 - val_accuracy: 0.5123\n",
      "Epoch 41/100\n",
      "30/30 [==============================] - 0s 3ms/step - loss: 1.1412 - accuracy: 0.4974 - val_loss: 1.1467 - val_accuracy: 0.5196\n",
      "Epoch 42/100\n",
      "30/30 [==============================] - 0s 3ms/step - loss: 1.1414 - accuracy: 0.5058 - val_loss: 1.1483 - val_accuracy: 0.5221\n",
      "Epoch 43/100\n",
      "30/30 [==============================] - 0s 3ms/step - loss: 1.1406 - accuracy: 0.4963 - val_loss: 1.1450 - val_accuracy: 0.5147\n",
      "Epoch 44/100\n",
      "30/30 [==============================] - 0s 3ms/step - loss: 1.1396 - accuracy: 0.4974 - val_loss: 1.1456 - val_accuracy: 0.5172\n",
      "Epoch 45/100\n",
      "30/30 [==============================] - 0s 3ms/step - loss: 1.1417 - accuracy: 0.4963 - val_loss: 1.1452 - val_accuracy: 0.5221\n",
      "Epoch 46/100\n",
      "30/30 [==============================] - 0s 2ms/step - loss: 1.1390 - accuracy: 0.5026 - val_loss: 1.1451 - val_accuracy: 0.5172\n",
      "Epoch 47/100\n",
      "30/30 [==============================] - 0s 3ms/step - loss: 1.1384 - accuracy: 0.4953 - val_loss: 1.1450 - val_accuracy: 0.5147\n",
      "Epoch 48/100\n",
      "30/30 [==============================] - 0s 3ms/step - loss: 1.1375 - accuracy: 0.5037 - val_loss: 1.1438 - val_accuracy: 0.5245\n",
      "Epoch 49/100\n",
      "30/30 [==============================] - 0s 3ms/step - loss: 1.1380 - accuracy: 0.5016 - val_loss: 1.1439 - val_accuracy: 0.5221\n",
      "Epoch 50/100\n",
      "30/30 [==============================] - 0s 3ms/step - loss: 1.1380 - accuracy: 0.4963 - val_loss: 1.1431 - val_accuracy: 0.5221\n",
      "Epoch 51/100\n",
      "30/30 [==============================] - 0s 3ms/step - loss: 1.1385 - accuracy: 0.5005 - val_loss: 1.1439 - val_accuracy: 0.5172\n",
      "Epoch 52/100\n",
      "30/30 [==============================] - 0s 3ms/step - loss: 1.1353 - accuracy: 0.5026 - val_loss: 1.1434 - val_accuracy: 0.5098\n",
      "Epoch 53/100\n",
      "30/30 [==============================] - 0s 3ms/step - loss: 1.1372 - accuracy: 0.5047 - val_loss: 1.1435 - val_accuracy: 0.5123\n",
      "Epoch 54/100\n",
      "30/30 [==============================] - 0s 3ms/step - loss: 1.1358 - accuracy: 0.4963 - val_loss: 1.1434 - val_accuracy: 0.5221\n",
      "Epoch 55/100\n",
      "30/30 [==============================] - 0s 3ms/step - loss: 1.1346 - accuracy: 0.5131 - val_loss: 1.1423 - val_accuracy: 0.5245\n",
      "Epoch 56/100\n",
      "30/30 [==============================] - 0s 3ms/step - loss: 1.1338 - accuracy: 0.5058 - val_loss: 1.1426 - val_accuracy: 0.5245\n",
      "Epoch 57/100\n",
      "30/30 [==============================] - 0s 3ms/step - loss: 1.1329 - accuracy: 0.5068 - val_loss: 1.1422 - val_accuracy: 0.5221\n",
      "Epoch 58/100\n",
      "30/30 [==============================] - 0s 3ms/step - loss: 1.1350 - accuracy: 0.4984 - val_loss: 1.1432 - val_accuracy: 0.5196\n"
     ]
    },
    {
     "name": "stdout",
     "output_type": "stream",
     "text": [
      "Epoch 59/100\n",
      "30/30 [==============================] - 0s 3ms/step - loss: 1.1333 - accuracy: 0.5058 - val_loss: 1.1409 - val_accuracy: 0.5196\n",
      "Epoch 60/100\n",
      "30/30 [==============================] - 0s 3ms/step - loss: 1.1328 - accuracy: 0.5026 - val_loss: 1.1425 - val_accuracy: 0.5172\n",
      "Epoch 61/100\n",
      "30/30 [==============================] - 0s 3ms/step - loss: 1.1333 - accuracy: 0.5079 - val_loss: 1.1420 - val_accuracy: 0.5221\n",
      "Epoch 62/100\n",
      "30/30 [==============================] - 0s 3ms/step - loss: 1.1314 - accuracy: 0.5026 - val_loss: 1.1405 - val_accuracy: 0.5245\n",
      "Epoch 63/100\n",
      "30/30 [==============================] - 0s 3ms/step - loss: 1.1310 - accuracy: 0.5058 - val_loss: 1.1405 - val_accuracy: 0.5245\n",
      "Epoch 64/100\n",
      "30/30 [==============================] - 0s 3ms/step - loss: 1.1302 - accuracy: 0.5037 - val_loss: 1.1395 - val_accuracy: 0.5196\n",
      "Epoch 65/100\n",
      "30/30 [==============================] - 0s 2ms/step - loss: 1.1297 - accuracy: 0.5089 - val_loss: 1.1398 - val_accuracy: 0.5245\n",
      "Epoch 66/100\n",
      "30/30 [==============================] - 0s 3ms/step - loss: 1.1297 - accuracy: 0.5110 - val_loss: 1.1400 - val_accuracy: 0.5221\n",
      "Epoch 67/100\n",
      "30/30 [==============================] - 0s 3ms/step - loss: 1.1284 - accuracy: 0.5089 - val_loss: 1.1399 - val_accuracy: 0.5270\n",
      "Epoch 68/100\n",
      "30/30 [==============================] - 0s 3ms/step - loss: 1.1301 - accuracy: 0.5068 - val_loss: 1.1422 - val_accuracy: 0.5172\n",
      "Epoch 69/100\n",
      "30/30 [==============================] - 0s 3ms/step - loss: 1.1279 - accuracy: 0.5079 - val_loss: 1.1389 - val_accuracy: 0.5245\n",
      "Epoch 70/100\n",
      "30/30 [==============================] - 0s 3ms/step - loss: 1.1282 - accuracy: 0.5110 - val_loss: 1.1389 - val_accuracy: 0.5221\n",
      "Epoch 71/100\n",
      "30/30 [==============================] - 0s 3ms/step - loss: 1.1277 - accuracy: 0.5058 - val_loss: 1.1399 - val_accuracy: 0.5196\n",
      "Epoch 72/100\n",
      "30/30 [==============================] - 0s 3ms/step - loss: 1.1275 - accuracy: 0.5121 - val_loss: 1.1382 - val_accuracy: 0.5172\n",
      "Epoch 73/100\n",
      "30/30 [==============================] - 0s 3ms/step - loss: 1.1274 - accuracy: 0.5047 - val_loss: 1.1381 - val_accuracy: 0.5172\n",
      "Epoch 74/100\n",
      "30/30 [==============================] - 0s 3ms/step - loss: 1.1261 - accuracy: 0.5058 - val_loss: 1.1389 - val_accuracy: 0.5221\n",
      "Epoch 75/100\n",
      "30/30 [==============================] - 0s 3ms/step - loss: 1.1241 - accuracy: 0.5131 - val_loss: 1.1380 - val_accuracy: 0.5245\n",
      "Epoch 76/100\n",
      "30/30 [==============================] - 0s 3ms/step - loss: 1.1224 - accuracy: 0.5100 - val_loss: 1.1358 - val_accuracy: 0.5098\n",
      "Epoch 77/100\n",
      "30/30 [==============================] - 0s 3ms/step - loss: 1.1214 - accuracy: 0.5058 - val_loss: 1.1375 - val_accuracy: 0.5172\n",
      "Epoch 78/100\n",
      "30/30 [==============================] - 0s 3ms/step - loss: 1.1219 - accuracy: 0.5047 - val_loss: 1.1350 - val_accuracy: 0.5221\n",
      "Epoch 79/100\n",
      "30/30 [==============================] - 0s 3ms/step - loss: 1.1202 - accuracy: 0.5110 - val_loss: 1.1338 - val_accuracy: 0.5245\n",
      "Epoch 80/100\n",
      "30/30 [==============================] - 0s 3ms/step - loss: 1.1192 - accuracy: 0.5121 - val_loss: 1.1331 - val_accuracy: 0.5221\n",
      "Epoch 81/100\n",
      "30/30 [==============================] - 0s 3ms/step - loss: 1.1190 - accuracy: 0.5100 - val_loss: 1.1345 - val_accuracy: 0.5221\n",
      "Epoch 82/100\n",
      "30/30 [==============================] - 0s 2ms/step - loss: 1.1175 - accuracy: 0.5152 - val_loss: 1.1334 - val_accuracy: 0.5123\n",
      "Epoch 83/100\n",
      "30/30 [==============================] - 0s 3ms/step - loss: 1.1163 - accuracy: 0.5152 - val_loss: 1.1321 - val_accuracy: 0.5221\n",
      "Epoch 84/100\n",
      "30/30 [==============================] - 0s 3ms/step - loss: 1.1177 - accuracy: 0.5142 - val_loss: 1.1313 - val_accuracy: 0.5147\n",
      "Epoch 85/100\n",
      "30/30 [==============================] - 0s 3ms/step - loss: 1.1159 - accuracy: 0.5152 - val_loss: 1.1303 - val_accuracy: 0.5196\n",
      "Epoch 86/100\n",
      "30/30 [==============================] - 0s 3ms/step - loss: 1.1149 - accuracy: 0.5121 - val_loss: 1.1342 - val_accuracy: 0.5270\n",
      "Epoch 87/100\n",
      "30/30 [==============================] - 0s 3ms/step - loss: 1.1137 - accuracy: 0.5142 - val_loss: 1.1310 - val_accuracy: 0.5074\n",
      "Epoch 88/100\n",
      "30/30 [==============================] - 0s 3ms/step - loss: 1.1145 - accuracy: 0.5121 - val_loss: 1.1319 - val_accuracy: 0.5270\n",
      "Epoch 89/100\n",
      "30/30 [==============================] - 0s 2ms/step - loss: 1.1131 - accuracy: 0.5163 - val_loss: 1.1294 - val_accuracy: 0.5196\n",
      "Epoch 90/100\n",
      "30/30 [==============================] - 0s 3ms/step - loss: 1.1128 - accuracy: 0.5184 - val_loss: 1.1310 - val_accuracy: 0.5270\n",
      "Epoch 91/100\n",
      "30/30 [==============================] - 0s 3ms/step - loss: 1.1146 - accuracy: 0.4984 - val_loss: 1.1356 - val_accuracy: 0.5270\n",
      "Epoch 92/100\n",
      "30/30 [==============================] - 0s 3ms/step - loss: 1.1123 - accuracy: 0.5026 - val_loss: 1.1274 - val_accuracy: 0.5123\n",
      "Epoch 93/100\n",
      "30/30 [==============================] - 0s 3ms/step - loss: 1.1100 - accuracy: 0.5174 - val_loss: 1.1289 - val_accuracy: 0.5221\n",
      "Epoch 94/100\n",
      "30/30 [==============================] - 0s 2ms/step - loss: 1.1088 - accuracy: 0.5131 - val_loss: 1.1279 - val_accuracy: 0.5245\n",
      "Epoch 95/100\n",
      "30/30 [==============================] - 0s 3ms/step - loss: 1.1097 - accuracy: 0.5100 - val_loss: 1.1277 - val_accuracy: 0.5245\n",
      "Epoch 96/100\n",
      "30/30 [==============================] - 0s 3ms/step - loss: 1.1095 - accuracy: 0.5110 - val_loss: 1.1287 - val_accuracy: 0.5270\n",
      "Epoch 97/100\n",
      "30/30 [==============================] - 0s 2ms/step - loss: 1.1066 - accuracy: 0.5195 - val_loss: 1.1254 - val_accuracy: 0.5221\n",
      "Epoch 98/100\n",
      "30/30 [==============================] - 0s 3ms/step - loss: 1.1060 - accuracy: 0.5079 - val_loss: 1.1274 - val_accuracy: 0.5098\n",
      "Epoch 99/100\n",
      "30/30 [==============================] - 0s 3ms/step - loss: 1.1092 - accuracy: 0.5226 - val_loss: 1.1243 - val_accuracy: 0.5123\n",
      "Epoch 100/100\n",
      "30/30 [==============================] - 0s 3ms/step - loss: 1.1076 - accuracy: 0.5005 - val_loss: 1.1242 - val_accuracy: 0.5123\n"
     ]
    }
   ],
   "source": [
    "train = model.fit(\n",
    "   X_train, y_train,\n",
    "    epochs=100, \n",
    "    validation_data=(X_test, y_test)\n",
    ")"
   ]
  },
  {
   "cell_type": "code",
   "execution_count": 28,
   "metadata": {},
   "outputs": [
    {
     "data": {
      "image/png": "[encoded data removed]",
      "text/plain": [
       "<Figure size 432x288 with 1 Axes>"
      ]
     },
     "metadata": {
      "needs_background": "light"
     },
     "output_type": "display_data"
    },
    {
     "data": {
      "text/plain": [
       "<Figure size 432x288 with 0 Axes>"
      ]
     },
     "execution_count": 28,
     "metadata": {},
     "output_type": "execute_result"
    },
    {
     "data": {
      "image/png": "[encoded data removed]",
      "text/plain": [
       "<Figure size 432x288 with 1 Axes>"
      ]
     },
     "metadata": {
      "needs_background": "light"
     },
     "output_type": "display_data"
    },
    {
     "data": {
      "text/plain": [
       "<Figure size 432x288 with 0 Axes>"
      ]
     },
     "metadata": {},
     "output_type": "display_data"
    }
   ],
   "source": [
    "# Plotting Training Loss-Validation Loss & Training Accuracy-Validation Accuracy\n",
    "\n",
    "accuracy = train.history['accuracy']\n",
    "val_accuracy = train.history['val_accuracy']\n",
    "loss = train.history['loss']\n",
    "val_loss = train.history['val_loss']\n",
    "\n",
    "epochs = range(len(accuracy))\n",
    "\n",
    "plt.plot(epochs, loss, label = 'training loss' )\n",
    "plt.plot(epochs, val_loss, label = 'validation loss')\n",
    "plt.legend(loc = 'upper right')\n",
    "plt.title('Training and validation loss')\n",
    "plt.show()\n",
    "\n",
    "plt.plot(epochs, accuracy, label = 'training accuracy' )\n",
    "plt.plot(epochs, val_accuracy, label = 'validation accuracy')\n",
    "plt.title('Training and validation accuracy')\n",
    "plt.legend(loc = 'lower right')\n",
    "plt.figure()"
   ]
  },
  {
   "cell_type": "markdown",
   "metadata": {},
   "source": [
    "###### New Model"
   ]
  },
  {
   "cell_type": "code",
   "execution_count": 29,
   "metadata": {},
   "outputs": [],
   "source": [
    "# Designing Neural Network Architecture\n",
    "\n",
    "model = Sequential()\n",
    "model.add(Dense(11, input_dim = 11, activation = 'relu'))\n",
    "model.add(Dense(8, activation = 'relu')) # update no. of dense layers\n",
    "model.add(Dense(6, activation = 'softmax'))"
   ]
  },
  {
   "cell_type": "code",
   "execution_count": 30,
   "metadata": {},
   "outputs": [],
   "source": [
    "# update optimizer & learning rate\n",
    "\n",
    "model.compile(loss='categorical_crossentropy', optimizer = RMSprop(lr=0.001), metrics = ['accuracy'])"
   ]
  },
  {
   "cell_type": "code",
   "execution_count": 31,
   "metadata": {},
   "outputs": [
    {
     "name": "stdout",
     "output_type": "stream",
     "text": [
      "Model: \"sequential_1\"\n",
      "_________________________________________________________________\n",
      " Layer (type)                Output Shape              Param #   \n",
      "=================================================================\n",
      " dense_3 (Dense)             (None, 11)                132       \n",
      "                                                                 \n",
      " dense_4 (Dense)             (None, 8)                 96        \n",
      "                                                                 \n",
      " dense_5 (Dense)             (None, 6)                 54        \n",
      "                                                                 \n",
      "=================================================================\n",
      "Total params: 282\n",
      "Trainable params: 282\n",
      "Non-trainable params: 0\n",
      "_________________________________________________________________\n"
     ]
    }
   ],
   "source": [
    "model.summary()"
   ]
  },
  {
   "cell_type": "code",
   "execution_count": 32,
   "metadata": {
    "scrolled": true
   },
   "outputs": [
    {
     "name": "stdout",
     "output_type": "stream",
     "text": [
      "Epoch 1/100\n",
      "30/30 [==============================] - 1s 6ms/step - loss: 1.7279 - accuracy: 0.2166 - val_loss: 1.6417 - val_accuracy: 0.4681\n",
      "Epoch 2/100\n",
      "30/30 [==============================] - 0s 3ms/step - loss: 1.5507 - accuracy: 0.4511 - val_loss: 1.4967 - val_accuracy: 0.3750\n",
      "Epoch 3/100\n",
      "30/30 [==============================] - 0s 3ms/step - loss: 1.4199 - accuracy: 0.4017 - val_loss: 1.3954 - val_accuracy: 0.3750\n",
      "Epoch 4/100\n",
      "30/30 [==============================] - 0s 2ms/step - loss: 1.3302 - accuracy: 0.4017 - val_loss: 1.3298 - val_accuracy: 0.3750\n",
      "Epoch 5/100\n",
      "30/30 [==============================] - 0s 3ms/step - loss: 1.2800 - accuracy: 0.4017 - val_loss: 1.2937 - val_accuracy: 0.3750\n",
      "Epoch 6/100\n",
      "30/30 [==============================] - 0s 3ms/step - loss: 1.2516 - accuracy: 0.4238 - val_loss: 1.2693 - val_accuracy: 0.3750\n",
      "Epoch 7/100\n",
      "30/30 [==============================] - 0s 3ms/step - loss: 1.2347 - accuracy: 0.4248 - val_loss: 1.2515 - val_accuracy: 0.4338\n",
      "Epoch 8/100\n",
      "30/30 [==============================] - 0s 3ms/step - loss: 1.2244 - accuracy: 0.4490 - val_loss: 1.2398 - val_accuracy: 0.4314\n",
      "Epoch 9/100\n",
      "30/30 [==============================] - 0s 3ms/step - loss: 1.2166 - accuracy: 0.4227 - val_loss: 1.2308 - val_accuracy: 0.4314\n",
      "Epoch 10/100\n",
      "30/30 [==============================] - 0s 2ms/step - loss: 1.2116 - accuracy: 0.4217 - val_loss: 1.2233 - val_accuracy: 0.4314\n",
      "Epoch 11/100\n",
      "30/30 [==============================] - 0s 3ms/step - loss: 1.2078 - accuracy: 0.4259 - val_loss: 1.2179 - val_accuracy: 0.4314\n",
      "Epoch 12/100\n",
      "30/30 [==============================] - 0s 3ms/step - loss: 1.2048 - accuracy: 0.4217 - val_loss: 1.2141 - val_accuracy: 0.4314\n",
      "Epoch 13/100\n",
      "30/30 [==============================] - 0s 2ms/step - loss: 1.2032 - accuracy: 0.4217 - val_loss: 1.2115 - val_accuracy: 0.4314\n",
      "Epoch 14/100\n",
      "30/30 [==============================] - 0s 3ms/step - loss: 1.2014 - accuracy: 0.4217 - val_loss: 1.2088 - val_accuracy: 0.4314\n",
      "Epoch 15/100\n",
      "30/30 [==============================] - 0s 3ms/step - loss: 1.2002 - accuracy: 0.4217 - val_loss: 1.2074 - val_accuracy: 0.4314\n",
      "Epoch 16/100\n",
      "30/30 [==============================] - 0s 3ms/step - loss: 1.1987 - accuracy: 0.4217 - val_loss: 1.2063 - val_accuracy: 0.4314\n",
      "Epoch 17/100\n",
      "30/30 [==============================] - 0s 3ms/step - loss: 1.1973 - accuracy: 0.4217 - val_loss: 1.2050 - val_accuracy: 0.4314\n",
      "Epoch 18/100\n",
      "30/30 [==============================] - 0s 3ms/step - loss: 1.1964 - accuracy: 0.4217 - val_loss: 1.2022 - val_accuracy: 0.4314\n",
      "Epoch 19/100\n",
      "30/30 [==============================] - 0s 3ms/step - loss: 1.1952 - accuracy: 0.4217 - val_loss: 1.2001 - val_accuracy: 0.4314\n",
      "Epoch 20/100\n",
      "30/30 [==============================] - 0s 3ms/step - loss: 1.1941 - accuracy: 0.4217 - val_loss: 1.1987 - val_accuracy: 0.4314\n",
      "Epoch 21/100\n",
      "30/30 [==============================] - 0s 3ms/step - loss: 1.1929 - accuracy: 0.4259 - val_loss: 1.1969 - val_accuracy: 0.4314\n",
      "Epoch 22/100\n",
      "30/30 [==============================] - 0s 3ms/step - loss: 1.1919 - accuracy: 0.4217 - val_loss: 1.1966 - val_accuracy: 0.4314\n",
      "Epoch 23/100\n",
      "30/30 [==============================] - 0s 2ms/step - loss: 1.1910 - accuracy: 0.4238 - val_loss: 1.1947 - val_accuracy: 0.4314\n",
      "Epoch 24/100\n",
      "30/30 [==============================] - 0s 2ms/step - loss: 1.1898 - accuracy: 0.4217 - val_loss: 1.1927 - val_accuracy: 0.4314\n",
      "Epoch 25/100\n",
      "30/30 [==============================] - 0s 2ms/step - loss: 1.1888 - accuracy: 0.4322 - val_loss: 1.1915 - val_accuracy: 0.4338\n",
      "Epoch 26/100\n",
      "30/30 [==============================] - 0s 3ms/step - loss: 1.1875 - accuracy: 0.4269 - val_loss: 1.1912 - val_accuracy: 0.4461\n",
      "Epoch 27/100\n",
      "30/30 [==============================] - 0s 3ms/step - loss: 1.1871 - accuracy: 0.4259 - val_loss: 1.1896 - val_accuracy: 0.4387\n",
      "Epoch 28/100\n",
      "30/30 [==============================] - 0s 2ms/step - loss: 1.1858 - accuracy: 0.4374 - val_loss: 1.1885 - val_accuracy: 0.4510\n",
      "Epoch 29/100\n",
      "30/30 [==============================] - 0s 2ms/step - loss: 1.1843 - accuracy: 0.4469 - val_loss: 1.1852 - val_accuracy: 0.4534\n",
      "Epoch 30/100\n",
      "30/30 [==============================] - 0s 2ms/step - loss: 1.1833 - accuracy: 0.4301 - val_loss: 1.1842 - val_accuracy: 0.4485\n",
      "Epoch 31/100\n",
      "30/30 [==============================] - 0s 3ms/step - loss: 1.1823 - accuracy: 0.4364 - val_loss: 1.1826 - val_accuracy: 0.4534\n",
      "Epoch 32/100\n",
      "30/30 [==============================] - 0s 2ms/step - loss: 1.1811 - accuracy: 0.4427 - val_loss: 1.1818 - val_accuracy: 0.4681\n",
      "Epoch 33/100\n",
      "30/30 [==============================] - 0s 3ms/step - loss: 1.1801 - accuracy: 0.4479 - val_loss: 1.1798 - val_accuracy: 0.4804\n",
      "Epoch 34/100\n",
      "30/30 [==============================] - 0s 2ms/step - loss: 1.1790 - accuracy: 0.4543 - val_loss: 1.1787 - val_accuracy: 0.4779\n",
      "Epoch 35/100\n",
      "30/30 [==============================] - 0s 2ms/step - loss: 1.1780 - accuracy: 0.4564 - val_loss: 1.1779 - val_accuracy: 0.4730\n",
      "Epoch 36/100\n",
      "30/30 [==============================] - 0s 3ms/step - loss: 1.1765 - accuracy: 0.4490 - val_loss: 1.1753 - val_accuracy: 0.4730\n",
      "Epoch 37/100\n",
      "30/30 [==============================] - 0s 2ms/step - loss: 1.1754 - accuracy: 0.4564 - val_loss: 1.1734 - val_accuracy: 0.4828\n",
      "Epoch 38/100\n",
      "30/30 [==============================] - 0s 2ms/step - loss: 1.1748 - accuracy: 0.4511 - val_loss: 1.1729 - val_accuracy: 0.4730\n",
      "Epoch 39/100\n",
      "30/30 [==============================] - 0s 3ms/step - loss: 1.1737 - accuracy: 0.4574 - val_loss: 1.1734 - val_accuracy: 0.4755\n",
      "Epoch 40/100\n",
      "30/30 [==============================] - 0s 3ms/step - loss: 1.1732 - accuracy: 0.4585 - val_loss: 1.1715 - val_accuracy: 0.4755\n",
      "Epoch 41/100\n",
      "30/30 [==============================] - 0s 2ms/step - loss: 1.1720 - accuracy: 0.4501 - val_loss: 1.1698 - val_accuracy: 0.4681\n",
      "Epoch 42/100\n",
      "30/30 [==============================] - 0s 2ms/step - loss: 1.1709 - accuracy: 0.4616 - val_loss: 1.1697 - val_accuracy: 0.4681\n",
      "Epoch 43/100\n",
      "30/30 [==============================] - 0s 2ms/step - loss: 1.1703 - accuracy: 0.4753 - val_loss: 1.1682 - val_accuracy: 0.4706\n",
      "Epoch 44/100\n",
      "30/30 [==============================] - 0s 2ms/step - loss: 1.1690 - accuracy: 0.4700 - val_loss: 1.1686 - val_accuracy: 0.4706\n",
      "Epoch 45/100\n",
      "30/30 [==============================] - 0s 3ms/step - loss: 1.1689 - accuracy: 0.4753 - val_loss: 1.1674 - val_accuracy: 0.4730\n",
      "Epoch 46/100\n",
      "30/30 [==============================] - 0s 3ms/step - loss: 1.1670 - accuracy: 0.4564 - val_loss: 1.1661 - val_accuracy: 0.4853\n",
      "Epoch 47/100\n",
      "30/30 [==============================] - 0s 3ms/step - loss: 1.1667 - accuracy: 0.4669 - val_loss: 1.1654 - val_accuracy: 0.4853\n",
      "Epoch 48/100\n",
      "30/30 [==============================] - 0s 3ms/step - loss: 1.1655 - accuracy: 0.4837 - val_loss: 1.1640 - val_accuracy: 0.4730\n",
      "Epoch 49/100\n",
      "30/30 [==============================] - 0s 3ms/step - loss: 1.1646 - accuracy: 0.4711 - val_loss: 1.1631 - val_accuracy: 0.4853\n",
      "Epoch 50/100\n",
      "30/30 [==============================] - 0s 2ms/step - loss: 1.1639 - accuracy: 0.4742 - val_loss: 1.1627 - val_accuracy: 0.4877\n",
      "Epoch 51/100\n",
      "30/30 [==============================] - 0s 2ms/step - loss: 1.1630 - accuracy: 0.4869 - val_loss: 1.1618 - val_accuracy: 0.4926\n",
      "Epoch 52/100\n",
      "30/30 [==============================] - 0s 3ms/step - loss: 1.1622 - accuracy: 0.4911 - val_loss: 1.1606 - val_accuracy: 0.4828\n",
      "Epoch 53/100\n",
      "30/30 [==============================] - 0s 2ms/step - loss: 1.1614 - accuracy: 0.4921 - val_loss: 1.1594 - val_accuracy: 0.4853\n",
      "Epoch 54/100\n",
      "30/30 [==============================] - 0s 2ms/step - loss: 1.1606 - accuracy: 0.4795 - val_loss: 1.1585 - val_accuracy: 0.4853\n",
      "Epoch 55/100\n",
      "30/30 [==============================] - 0s 3ms/step - loss: 1.1593 - accuracy: 0.4921 - val_loss: 1.1574 - val_accuracy: 0.5000\n",
      "Epoch 56/100\n",
      "30/30 [==============================] - 0s 3ms/step - loss: 1.1587 - accuracy: 0.4879 - val_loss: 1.1572 - val_accuracy: 0.4951\n",
      "Epoch 57/100\n",
      "30/30 [==============================] - 0s 3ms/step - loss: 1.1582 - accuracy: 0.4963 - val_loss: 1.1565 - val_accuracy: 0.4902\n",
      "Epoch 58/100\n",
      "30/30 [==============================] - 0s 3ms/step - loss: 1.1564 - accuracy: 0.4921 - val_loss: 1.1563 - val_accuracy: 0.4828\n"
     ]
    },
    {
     "name": "stdout",
     "output_type": "stream",
     "text": [
      "Epoch 59/100\n",
      "30/30 [==============================] - 0s 3ms/step - loss: 1.1561 - accuracy: 0.4890 - val_loss: 1.1551 - val_accuracy: 0.5025\n",
      "Epoch 60/100\n",
      "30/30 [==============================] - 0s 2ms/step - loss: 1.1553 - accuracy: 0.4984 - val_loss: 1.1536 - val_accuracy: 0.5049\n",
      "Epoch 61/100\n",
      "30/30 [==============================] - 0s 3ms/step - loss: 1.1544 - accuracy: 0.4953 - val_loss: 1.1527 - val_accuracy: 0.5049\n",
      "Epoch 62/100\n",
      "30/30 [==============================] - 0s 3ms/step - loss: 1.1536 - accuracy: 0.4932 - val_loss: 1.1526 - val_accuracy: 0.5025\n",
      "Epoch 63/100\n",
      "30/30 [==============================] - 0s 2ms/step - loss: 1.1529 - accuracy: 0.4921 - val_loss: 1.1519 - val_accuracy: 0.5025\n",
      "Epoch 64/100\n",
      "30/30 [==============================] - 0s 2ms/step - loss: 1.1523 - accuracy: 0.4900 - val_loss: 1.1513 - val_accuracy: 0.5049\n",
      "Epoch 65/100\n",
      "30/30 [==============================] - 0s 3ms/step - loss: 1.1513 - accuracy: 0.5026 - val_loss: 1.1512 - val_accuracy: 0.5074\n",
      "Epoch 66/100\n",
      "30/30 [==============================] - 0s 2ms/step - loss: 1.1510 - accuracy: 0.4974 - val_loss: 1.1501 - val_accuracy: 0.5074\n",
      "Epoch 67/100\n",
      "30/30 [==============================] - 0s 2ms/step - loss: 1.1499 - accuracy: 0.4890 - val_loss: 1.1499 - val_accuracy: 0.5098\n",
      "Epoch 68/100\n",
      "30/30 [==============================] - 0s 3ms/step - loss: 1.1490 - accuracy: 0.4953 - val_loss: 1.1491 - val_accuracy: 0.5049\n",
      "Epoch 69/100\n",
      "30/30 [==============================] - 0s 3ms/step - loss: 1.1485 - accuracy: 0.4921 - val_loss: 1.1487 - val_accuracy: 0.5074\n",
      "Epoch 70/100\n",
      "30/30 [==============================] - 0s 2ms/step - loss: 1.1477 - accuracy: 0.4932 - val_loss: 1.1490 - val_accuracy: 0.5074\n",
      "Epoch 71/100\n",
      "30/30 [==============================] - 0s 2ms/step - loss: 1.1471 - accuracy: 0.5037 - val_loss: 1.1470 - val_accuracy: 0.5025\n",
      "Epoch 72/100\n",
      "30/30 [==============================] - 0s 2ms/step - loss: 1.1462 - accuracy: 0.4953 - val_loss: 1.1474 - val_accuracy: 0.5098\n",
      "Epoch 73/100\n",
      "30/30 [==============================] - 0s 2ms/step - loss: 1.1457 - accuracy: 0.4921 - val_loss: 1.1473 - val_accuracy: 0.5074\n",
      "Epoch 74/100\n",
      "30/30 [==============================] - 0s 2ms/step - loss: 1.1451 - accuracy: 0.4974 - val_loss: 1.1471 - val_accuracy: 0.5074\n",
      "Epoch 75/100\n",
      "30/30 [==============================] - 0s 3ms/step - loss: 1.1443 - accuracy: 0.5026 - val_loss: 1.1460 - val_accuracy: 0.5147\n",
      "Epoch 76/100\n",
      "30/30 [==============================] - 0s 2ms/step - loss: 1.1439 - accuracy: 0.4963 - val_loss: 1.1453 - val_accuracy: 0.5098\n",
      "Epoch 77/100\n",
      "30/30 [==============================] - 0s 3ms/step - loss: 1.1435 - accuracy: 0.4932 - val_loss: 1.1452 - val_accuracy: 0.5172\n",
      "Epoch 78/100\n",
      "30/30 [==============================] - 0s 2ms/step - loss: 1.1429 - accuracy: 0.4974 - val_loss: 1.1446 - val_accuracy: 0.5123\n",
      "Epoch 79/100\n",
      "30/30 [==============================] - 0s 3ms/step - loss: 1.1420 - accuracy: 0.4953 - val_loss: 1.1444 - val_accuracy: 0.5172\n",
      "Epoch 80/100\n",
      "30/30 [==============================] - 0s 3ms/step - loss: 1.1415 - accuracy: 0.4953 - val_loss: 1.1438 - val_accuracy: 0.5098\n",
      "Epoch 81/100\n",
      "30/30 [==============================] - 0s 3ms/step - loss: 1.1411 - accuracy: 0.4974 - val_loss: 1.1432 - val_accuracy: 0.5123\n",
      "Epoch 82/100\n",
      "30/30 [==============================] - 0s 3ms/step - loss: 1.1403 - accuracy: 0.4900 - val_loss: 1.1430 - val_accuracy: 0.5196\n",
      "Epoch 83/100\n",
      "30/30 [==============================] - 0s 2ms/step - loss: 1.1397 - accuracy: 0.4953 - val_loss: 1.1431 - val_accuracy: 0.5172\n",
      "Epoch 84/100\n",
      "30/30 [==============================] - 0s 3ms/step - loss: 1.1395 - accuracy: 0.4963 - val_loss: 1.1428 - val_accuracy: 0.5147\n",
      "Epoch 85/100\n",
      "30/30 [==============================] - 0s 3ms/step - loss: 1.1393 - accuracy: 0.4953 - val_loss: 1.1429 - val_accuracy: 0.5147\n",
      "Epoch 86/100\n",
      "30/30 [==============================] - 0s 3ms/step - loss: 1.1386 - accuracy: 0.4963 - val_loss: 1.1418 - val_accuracy: 0.5123\n",
      "Epoch 87/100\n",
      "30/30 [==============================] - 0s 2ms/step - loss: 1.1378 - accuracy: 0.4942 - val_loss: 1.1427 - val_accuracy: 0.5147\n",
      "Epoch 88/100\n",
      "30/30 [==============================] - 0s 3ms/step - loss: 1.1376 - accuracy: 0.4921 - val_loss: 1.1416 - val_accuracy: 0.5098\n",
      "Epoch 89/100\n",
      "30/30 [==============================] - 0s 2ms/step - loss: 1.1368 - accuracy: 0.4911 - val_loss: 1.1417 - val_accuracy: 0.5098\n",
      "Epoch 90/100\n",
      "30/30 [==============================] - 0s 3ms/step - loss: 1.1367 - accuracy: 0.5005 - val_loss: 1.1416 - val_accuracy: 0.5098\n",
      "Epoch 91/100\n",
      "30/30 [==============================] - 0s 3ms/step - loss: 1.1361 - accuracy: 0.4984 - val_loss: 1.1406 - val_accuracy: 0.5123\n",
      "Epoch 92/100\n",
      "30/30 [==============================] - 0s 3ms/step - loss: 1.1360 - accuracy: 0.4921 - val_loss: 1.1410 - val_accuracy: 0.5098\n",
      "Epoch 93/100\n",
      "30/30 [==============================] - 0s 2ms/step - loss: 1.1352 - accuracy: 0.4932 - val_loss: 1.1398 - val_accuracy: 0.5147\n",
      "Epoch 94/100\n",
      "30/30 [==============================] - 0s 3ms/step - loss: 1.1354 - accuracy: 0.4953 - val_loss: 1.1399 - val_accuracy: 0.5123\n",
      "Epoch 95/100\n",
      "30/30 [==============================] - 0s 2ms/step - loss: 1.1345 - accuracy: 0.4963 - val_loss: 1.1394 - val_accuracy: 0.5147\n",
      "Epoch 96/100\n",
      "30/30 [==============================] - 0s 2ms/step - loss: 1.1346 - accuracy: 0.4942 - val_loss: 1.1388 - val_accuracy: 0.5098\n",
      "Epoch 97/100\n",
      "30/30 [==============================] - 0s 2ms/step - loss: 1.1341 - accuracy: 0.4921 - val_loss: 1.1386 - val_accuracy: 0.5123\n",
      "Epoch 98/100\n",
      "30/30 [==============================] - 0s 2ms/step - loss: 1.1332 - accuracy: 0.5047 - val_loss: 1.1380 - val_accuracy: 0.5098\n",
      "Epoch 99/100\n",
      "30/30 [==============================] - 0s 3ms/step - loss: 1.1336 - accuracy: 0.4942 - val_loss: 1.1387 - val_accuracy: 0.5123\n",
      "Epoch 100/100\n",
      "30/30 [==============================] - 0s 2ms/step - loss: 1.1325 - accuracy: 0.5005 - val_loss: 1.1378 - val_accuracy: 0.5172\n"
     ]
    }
   ],
   "source": [
    "train = model.fit(\n",
    "   X_train, y_train,\n",
    "    epochs=100, \n",
    "    validation_data=(X_test, y_test)\n",
    ")"
   ]
  },
  {
   "cell_type": "code",
   "execution_count": 33,
   "metadata": {},
   "outputs": [
    {
     "data": {
      "image/png": "[encoded data removed]",
      "text/plain": [
       "<Figure size 432x288 with 1 Axes>"
      ]
     },
     "metadata": {
      "needs_background": "light"
     },
     "output_type": "display_data"
    },
    {
     "data": {
      "text/plain": [
       "<Figure size 432x288 with 0 Axes>"
      ]
     },
     "execution_count": 33,
     "metadata": {},
     "output_type": "execute_result"
    },
    {
     "data": {
      "image/png": "[encoded data removed]",
      "text/plain": [
       "<Figure size 432x288 with 1 Axes>"
      ]
     },
     "metadata": {
      "needs_background": "light"
     },
     "output_type": "display_data"
    },
    {
     "data": {
      "text/plain": [
       "<Figure size 432x288 with 0 Axes>"
      ]
     },
     "metadata": {},
     "output_type": "display_data"
    }
   ],
   "source": [
    "# Plotting Training Loss-Validation Loss & Training Accuracy-Validation Accuracy\n",
    "\n",
    "accuracy = train.history['accuracy']\n",
    "val_accuracy = train.history['val_accuracy']\n",
    "loss = train.history['loss']\n",
    "val_loss = train.history['val_loss']\n",
    "\n",
    "epochs = range(len(accuracy))\n",
    "\n",
    "plt.plot(epochs, loss, label = 'training loss' )\n",
    "plt.plot(epochs, val_loss, label = 'validation loss')\n",
    "plt.legend(loc = 'upper right')\n",
    "plt.title('Training and validation loss')\n",
    "plt.show()\n",
    "\n",
    "plt.plot(epochs, accuracy, label = 'training accuracy' )\n",
    "plt.plot(epochs, val_accuracy, label = 'validation accuracy')\n",
    "plt.title('Training and validation accuracy')\n",
    "plt.legend(loc = 'lower right')\n",
    "plt.figure()"
   ]
  },
  {
   "cell_type": "markdown",
   "metadata": {},
   "source": [
    "*Insights*:\n",
    "\n",
    "- Both models are similar in terms of performance\n",
    "- Not much to change in architecture as there is very less no. of features\n",
    "- The no. of samples in the data are too less for neural network"
   ]
  },
  {
   "cell_type": "code",
   "execution_count": null,
   "metadata": {},
   "outputs": [],
   "source": []
  }
 ],
 "metadata": {
  "kernelspec": {
   "display_name": "Python 3",
   "language": "python",
   "name": "python3"
  },
  "language_info": {
   "codemirror_mode": {
    "name": "ipython",
    "version": 3
   },
   "file_extension": ".py",
   "mimetype": "text/x-python",
   "name": "python",
   "nbconvert_exporter": "python",
   "pygments_lexer": "ipython3",
   "version": "3.7.6"
  }
 },
 "nbformat": 4,
 "nbformat_minor": 4
}
