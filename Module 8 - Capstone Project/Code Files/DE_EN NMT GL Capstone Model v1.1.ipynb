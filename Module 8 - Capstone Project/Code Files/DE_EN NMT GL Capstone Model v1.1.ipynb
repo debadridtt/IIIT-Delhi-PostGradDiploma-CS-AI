{
 "cells": [
  {
   "cell_type": "code",
   "execution_count": 1,
   "id": "04279776",
   "metadata": {
    "execution": {
     "iopub.execute_input": "2023-05-12T08:03:18.952273Z",
     "iopub.status.busy": "2023-05-12T08:03:18.951861Z",
     "iopub.status.idle": "2023-05-12T08:03:30.250472Z",
     "shell.execute_reply": "2023-05-12T08:03:30.249086Z"
    },
    "papermill": {
     "duration": 11.316483,
     "end_time": "2023-05-12T08:03:30.253239",
     "exception": false,
     "start_time": "2023-05-12T08:03:18.936756",
     "status": "completed"
    },
    "tags": []
   },
   "outputs": [
    {
     "name": "stderr",
     "output_type": "stream",
     "text": [
      "/opt/conda/lib/python3.10/site-packages/scipy/__init__.py:146: UserWarning: A NumPy version >=1.16.5 and <1.23.0 is required for this version of SciPy (detected version 1.23.5\n",
      "  warnings.warn(f\"A NumPy version >={np_minversion} and <{np_maxversion}\"\n"
     ]
    }
   ],
   "source": [
    "import pandas as pd\n",
    "import numpy as np\n",
    "import string\n",
    "from string import digits\n",
    "import matplotlib.pyplot as plt\n",
    "%matplotlib inline\n",
    "import tensorflow as tf\n",
    "import matplotlib.ticker as ticker\n",
    "from sklearn.model_selection import train_test_split\n",
    "import re\n",
    "import os\n",
    "import io\n",
    "import time\n",
    "\n",
    "import unicodedata\n",
    "import re\n",
    "import numpy as np\n",
    "import os\n",
    "import io\n",
    "import time\n",
    "import tensorflow_text as tf_text"
   ]
  },
  {
   "cell_type": "code",
   "execution_count": 2,
   "id": "98ea1515",
   "metadata": {
    "execution": {
     "iopub.execute_input": "2023-05-12T08:03:30.282445Z",
     "iopub.status.busy": "2023-05-12T08:03:30.281667Z",
     "iopub.status.idle": "2023-05-12T08:03:30.881110Z",
     "shell.execute_reply": "2023-05-12T08:03:30.879756Z"
    },
    "papermill": {
     "duration": 0.616996,
     "end_time": "2023-05-12T08:03:30.883801",
     "exception": false,
     "start_time": "2023-05-12T08:03:30.266805",
     "status": "completed"
    },
    "tags": []
   },
   "outputs": [
    {
     "data": {
      "text/html": [
       "<div>\n",
       "<style scoped>\n",
       "    .dataframe tbody tr th:only-of-type {\n",
       "        vertical-align: middle;\n",
       "    }\n",
       "\n",
       "    .dataframe tbody tr th {\n",
       "        vertical-align: top;\n",
       "    }\n",
       "\n",
       "    .dataframe thead th {\n",
       "        text-align: right;\n",
       "    }\n",
       "</style>\n",
       "<table border=\"1\" class=\"dataframe\">\n",
       "  <thead>\n",
       "    <tr style=\"text-align: right;\">\n",
       "      <th></th>\n",
       "      <th>index</th>\n",
       "      <th>German_Text</th>\n",
       "      <th>English_Text</th>\n",
       "      <th>all_text</th>\n",
       "    </tr>\n",
       "  </thead>\n",
       "  <tbody>\n",
       "    <tr>\n",
       "      <th>0</th>\n",
       "      <td>0</td>\n",
       "      <td>Wiederaufnahme der Sitzungsperiode</td>\n",
       "      <td>Resumption of the session</td>\n",
       "      <td>Resumption of the session;Wiederaufnahme der S...</td>\n",
       "    </tr>\n",
       "    <tr>\n",
       "      <th>1</th>\n",
       "      <td>1</td>\n",
       "      <td>Ich erkläre die am Freitag, dem 17. Dezember u...</td>\n",
       "      <td>I declare resumed the session of the European ...</td>\n",
       "      <td>I declare resumed the session of the European ...</td>\n",
       "    </tr>\n",
       "    <tr>\n",
       "      <th>2</th>\n",
       "      <td>2</td>\n",
       "      <td>Wie Sie feststellen konnten, ist der gefürchte...</td>\n",
       "      <td>Although, as you will have seen, the dreaded '...</td>\n",
       "      <td>Although, as you will have seen, the dreaded '...</td>\n",
       "    </tr>\n",
       "    <tr>\n",
       "      <th>3</th>\n",
       "      <td>3</td>\n",
       "      <td>Im Parlament besteht der Wunsch nach einer Aus...</td>\n",
       "      <td>You have requested a debate on this subject in...</td>\n",
       "      <td>You have requested a debate on this subject in...</td>\n",
       "    </tr>\n",
       "    <tr>\n",
       "      <th>4</th>\n",
       "      <td>4</td>\n",
       "      <td>Heute möchte ich Sie bitten - das ist auch der...</td>\n",
       "      <td>In the meantime, I should like to observe a mi...</td>\n",
       "      <td>In the meantime, I should like to observe a mi...</td>\n",
       "    </tr>\n",
       "  </tbody>\n",
       "</table>\n",
       "</div>"
      ],
      "text/plain": [
       "   index                                        German_Text  \\\n",
       "0      0                 Wiederaufnahme der Sitzungsperiode   \n",
       "1      1  Ich erkläre die am Freitag, dem 17. Dezember u...   \n",
       "2      2  Wie Sie feststellen konnten, ist der gefürchte...   \n",
       "3      3  Im Parlament besteht der Wunsch nach einer Aus...   \n",
       "4      4  Heute möchte ich Sie bitten - das ist auch der...   \n",
       "\n",
       "                                        English_Text  \\\n",
       "0                          Resumption of the session   \n",
       "1  I declare resumed the session of the European ...   \n",
       "2  Although, as you will have seen, the dreaded '...   \n",
       "3  You have requested a debate on this subject in...   \n",
       "4  In the meantime, I should like to observe a mi...   \n",
       "\n",
       "                                            all_text  \n",
       "0  Resumption of the session;Wiederaufnahme der S...  \n",
       "1  I declare resumed the session of the European ...  \n",
       "2  Although, as you will have seen, the dreaded '...  \n",
       "3  You have requested a debate on this subject in...  \n",
       "4  In the meantime, I should like to observe a mi...  "
      ]
     },
     "execution_count": 2,
     "metadata": {},
     "output_type": "execute_result"
    }
   ],
   "source": [
    "europarl_lines = pd.read_csv('/kaggle/input/nmt-capstone/europarl-v7.csv')\n",
    "europarl_lines_bp = europarl_lines.copy()\n",
    "europarl_lines = europarl_lines[:25000]\n",
    "europarl_lines.reset_index(drop=True, inplace=True)\n",
    "europarl_lines.head()"
   ]
  },
  {
   "cell_type": "code",
   "execution_count": 3,
   "id": "ffc7e4a5",
   "metadata": {
    "execution": {
     "iopub.execute_input": "2023-05-12T08:03:30.912889Z",
     "iopub.status.busy": "2023-05-12T08:03:30.912472Z",
     "iopub.status.idle": "2023-05-12T08:03:31.137901Z",
     "shell.execute_reply": "2023-05-12T08:03:31.136673Z"
    },
    "papermill": {
     "duration": 0.242952,
     "end_time": "2023-05-12T08:03:31.140727",
     "exception": false,
     "start_time": "2023-05-12T08:03:30.897775",
     "status": "completed"
    },
    "tags": []
   },
   "outputs": [
    {
     "name": "stdout",
     "output_type": "stream",
     "text": [
      "Herr Präsident! Die Europäische Union, die eine Werteordnung verteidigt und umsetzt, von der wir mit Stolz sagen können, daß sie zu den fortschrittlichsten der internationalen Gemeinschaft gehört, hat nachdrücklich die außerordentlich große Bedeutung der Einhaltung der Genfer Abkommen hervorgehoben.\n"
     ]
    }
   ],
   "source": [
    "target_raw = np.array(list(europarl_lines['English_Text'].values))\n",
    "context_raw = np.array(list(europarl_lines['German_Text'].values))\n",
    "print(context_raw[-1])"
   ]
  },
  {
   "cell_type": "code",
   "execution_count": 4,
   "id": "41256ab8",
   "metadata": {
    "execution": {
     "iopub.execute_input": "2023-05-12T08:03:31.171022Z",
     "iopub.status.busy": "2023-05-12T08:03:31.170611Z",
     "iopub.status.idle": "2023-05-12T08:03:31.622480Z",
     "shell.execute_reply": "2023-05-12T08:03:31.621134Z"
    },
    "papermill": {
     "duration": 0.47038,
     "end_time": "2023-05-12T08:03:31.625938",
     "exception": false,
     "start_time": "2023-05-12T08:03:31.155558",
     "status": "completed"
    },
    "tags": []
   },
   "outputs": [],
   "source": [
    "BUFFER_SIZE = len(context_raw)\n",
    "BATCH_SIZE = 64\n",
    "\n",
    "is_train = np.random.uniform(size=(len(target_raw),)) < 0.8\n",
    "\n",
    "train_raw = (\n",
    "    tf.data.Dataset\n",
    "    .from_tensor_slices((context_raw[is_train], target_raw[is_train]))\n",
    "    .shuffle(BUFFER_SIZE)\n",
    "    .batch(BATCH_SIZE))\n",
    "val_raw = (\n",
    "    tf.data.Dataset\n",
    "    .from_tensor_slices((context_raw[~is_train], target_raw[~is_train]))\n",
    "    .shuffle(BUFFER_SIZE)\n",
    "    .batch(BATCH_SIZE))"
   ]
  },
  {
   "cell_type": "code",
   "execution_count": 5,
   "id": "fe9a60e7",
   "metadata": {
    "execution": {
     "iopub.execute_input": "2023-05-12T08:03:31.660860Z",
     "iopub.status.busy": "2023-05-12T08:03:31.660200Z",
     "iopub.status.idle": "2023-05-12T08:03:31.668461Z",
     "shell.execute_reply": "2023-05-12T08:03:31.666702Z"
    },
    "papermill": {
     "duration": 0.028522,
     "end_time": "2023-05-12T08:03:31.672302",
     "exception": false,
     "start_time": "2023-05-12T08:03:31.643780",
     "status": "completed"
    },
    "tags": []
   },
   "outputs": [],
   "source": [
    "def tf_lower_and_split_punct(text):\n",
    "  # Split accented characters.\n",
    "  text = tf_text.normalize_utf8(text, 'NFKD')\n",
    "  text = tf.strings.lower(text)\n",
    "  # Keep space, a to z, and select punctuation.\n",
    "  text = tf.strings.regex_replace(text, '[^ a-z.?!,¿]', '')\n",
    "  # Add spaces around punctuation.\n",
    "  text = tf.strings.regex_replace(text, '[.?!,¿]', r' \\0 ')\n",
    "  # Strip whitespace.\n",
    "  text = tf.strings.strip(text)\n",
    "\n",
    "  text = tf.strings.join(['[START]', text, '[END]'], separator=' ')\n",
    "  return text"
   ]
  },
  {
   "cell_type": "code",
   "execution_count": 6,
   "id": "cac5d4e2",
   "metadata": {
    "execution": {
     "iopub.execute_input": "2023-05-12T08:03:31.706098Z",
     "iopub.status.busy": "2023-05-12T08:03:31.705614Z",
     "iopub.status.idle": "2023-05-12T08:03:31.741598Z",
     "shell.execute_reply": "2023-05-12T08:03:31.740591Z"
    },
    "papermill": {
     "duration": 0.056863,
     "end_time": "2023-05-12T08:03:31.744236",
     "exception": false,
     "start_time": "2023-05-12T08:03:31.687373",
     "status": "completed"
    },
    "tags": []
   },
   "outputs": [],
   "source": [
    "max_vocab_size = 5000\n",
    "\n",
    "context_text_processor = tf.keras.layers.TextVectorization(\n",
    "    standardize=tf_lower_and_split_punct,\n",
    "    max_tokens=max_vocab_size,\n",
    "    ragged=True)"
   ]
  },
  {
   "cell_type": "code",
   "execution_count": 7,
   "id": "3da6b874",
   "metadata": {
    "execution": {
     "iopub.execute_input": "2023-05-12T08:03:31.773762Z",
     "iopub.status.busy": "2023-05-12T08:03:31.772968Z",
     "iopub.status.idle": "2023-05-12T08:03:32.942293Z",
     "shell.execute_reply": "2023-05-12T08:03:32.941045Z"
    },
    "papermill": {
     "duration": 1.187066,
     "end_time": "2023-05-12T08:03:32.944996",
     "exception": false,
     "start_time": "2023-05-12T08:03:31.757930",
     "status": "completed"
    },
    "tags": []
   },
   "outputs": [
    {
     "data": {
      "text/plain": [
       "['', '[UNK]', ',', 'die', '.', '[START]', '[END]', 'der', 'und', 'in']"
      ]
     },
     "execution_count": 7,
     "metadata": {},
     "output_type": "execute_result"
    }
   ],
   "source": [
    "context_text_processor.adapt(train_raw.map(lambda context, target: context))\n",
    "\n",
    "# Here are the first 10 words from the vocabulary:\n",
    "context_text_processor.get_vocabulary()[:10]"
   ]
  },
  {
   "cell_type": "code",
   "execution_count": 8,
   "id": "447914dc",
   "metadata": {
    "execution": {
     "iopub.execute_input": "2023-05-12T08:03:32.974292Z",
     "iopub.status.busy": "2023-05-12T08:03:32.973899Z",
     "iopub.status.idle": "2023-05-12T08:03:33.809526Z",
     "shell.execute_reply": "2023-05-12T08:03:33.808290Z"
    },
    "papermill": {
     "duration": 0.853396,
     "end_time": "2023-05-12T08:03:33.812145",
     "exception": false,
     "start_time": "2023-05-12T08:03:32.958749",
     "status": "completed"
    },
    "tags": []
   },
   "outputs": [
    {
     "data": {
      "text/plain": [
       "['', '[UNK]', 'the', ',', '.', '[START]', '[END]', 'of', 'to', 'and']"
      ]
     },
     "execution_count": 8,
     "metadata": {},
     "output_type": "execute_result"
    }
   ],
   "source": [
    "target_text_processor = tf.keras.layers.TextVectorization(\n",
    "    standardize=tf_lower_and_split_punct,\n",
    "    max_tokens=max_vocab_size,\n",
    "    ragged=True)\n",
    "\n",
    "target_text_processor.adapt(train_raw.map(lambda context, target: target))\n",
    "target_text_processor.get_vocabulary()[:10]"
   ]
  },
  {
   "cell_type": "code",
   "execution_count": 9,
   "id": "e715d43d",
   "metadata": {
    "execution": {
     "iopub.execute_input": "2023-05-12T08:03:33.841983Z",
     "iopub.status.busy": "2023-05-12T08:03:33.841579Z",
     "iopub.status.idle": "2023-05-12T08:03:33.898821Z",
     "shell.execute_reply": "2023-05-12T08:03:33.896861Z"
    },
    "papermill": {
     "duration": 0.075575,
     "end_time": "2023-05-12T08:03:33.901644",
     "exception": false,
     "start_time": "2023-05-12T08:03:33.826069",
     "status": "completed"
    },
    "tags": []
   },
   "outputs": [
    {
     "name": "stdout",
     "output_type": "stream",
     "text": [
      "\n",
      "tf.Tensor(\n",
      "[b'With this in mind, I would ask you, President Prodi, to get personally involved in setting up a crisis meeting between the Heads of Government of Austria and the 14 EU partner States, so as to bring about d\\xc3\\xa9tente and normalisation of relations.'\n",
      " b'Mr Prodi said in his very important opening statement that he had identified severe problems in the Commission about low morale and low motivation, and clearly that is a major concern.'\n",
      " b'However, there were obviously problems with the practical administration of the steel aid code over the past few years that were not brought fully to bear in the report.'\n",
      " b'This is one such case and discussions are under way between the Danish Government and the Commission in order to find the best possible solution to the matter, to the benefit of the workers who meet the requirements and who, as things stand, have a right to this pension.'\n",
      " b'We hope that one day it may become a symbol promoting the benefits of ethnic reconciliation.'], shape=(5,), dtype=string)\n"
     ]
    }
   ],
   "source": [
    "for example_context_strings, example_target_strings in train_raw.take(1):\n",
    "#   print(example_context_strings[:5])\n",
    "  print()\n",
    "  print(example_target_strings[:5])\n",
    "  break"
   ]
  },
  {
   "cell_type": "code",
   "execution_count": 10,
   "id": "e80e0eca",
   "metadata": {
    "execution": {
     "iopub.execute_input": "2023-05-12T08:03:33.932178Z",
     "iopub.status.busy": "2023-05-12T08:03:33.931184Z",
     "iopub.status.idle": "2023-05-12T08:03:34.054473Z",
     "shell.execute_reply": "2023-05-12T08:03:34.053227Z"
    },
    "papermill": {
     "duration": 0.141517,
     "end_time": "2023-05-12T08:03:34.057124",
     "exception": false,
     "start_time": "2023-05-12T08:03:33.915607",
     "status": "completed"
    },
    "tags": []
   },
   "outputs": [
    {
     "data": {
      "text/plain": [
       "<tf.RaggedTensor [[5, 9, 65, 592, 3976, 15, 26, 2, 39, 69, 440, 2, 12, 26, 30, 1353, 37, 31,\n",
       "  1, 98, 11, 1, 1559, 8, 11, 1, 1236, 2, 37, 58, 42, 1, 7, 274, 8, 10, 45,\n",
       "  1, 7, 2957, 2220, 4, 6]                                                  ,\n",
       " [5, 9, 277, 1, 1, 624, 39, 440, 2, 12, 91, 9, 7, 32, 2254, 208, 359, 1, 1,\n",
       "  8, 1, 1, 1, 123, 2, 8, 77, 17, 124, 295, 31, 1606, 204, 4, 6]            ,\n",
       " [5, 812, 871, 19, 47, 7, 2257, 1, 23, 1, 9, 11, 517, 177, 93, 208, 2, 3,\n",
       "  25, 85, 20, 1144, 2752, 121, 4, 6]                                     ]>"
      ]
     },
     "execution_count": 10,
     "metadata": {},
     "output_type": "execute_result"
    }
   ],
   "source": [
    "example_tokens = context_text_processor(example_context_strings)\n",
    "example_tokens[:3, :]"
   ]
  },
  {
   "cell_type": "code",
   "execution_count": 11,
   "id": "7d3a9456",
   "metadata": {
    "execution": {
     "iopub.execute_input": "2023-05-12T08:03:34.087436Z",
     "iopub.status.busy": "2023-05-12T08:03:34.087016Z",
     "iopub.status.idle": "2023-05-12T08:03:34.120032Z",
     "shell.execute_reply": "2023-05-12T08:03:34.118576Z"
    },
    "papermill": {
     "duration": 0.051453,
     "end_time": "2023-05-12T08:03:34.122847",
     "exception": false,
     "start_time": "2023-05-12T08:03:34.071394",
     "status": "completed"
    },
    "tags": []
   },
   "outputs": [
    {
     "data": {
      "text/plain": [
       "'[START] in diesem sinne ersuche ich sie , herr prasident prodi , da sie sich personlich um ein [UNK] zwischen den [UNK] osterreichs und den [UNK] bemuhen , um so zur [UNK] der situation und zu einer [UNK] der verhaltnisse beizutragen . [END]'"
      ]
     },
     "execution_count": 11,
     "metadata": {},
     "output_type": "execute_result"
    }
   ],
   "source": [
    "context_vocab = np.array(context_text_processor.get_vocabulary())\n",
    "tokens = context_vocab[example_tokens[0].numpy()]\n",
    "' '.join(tokens)"
   ]
  },
  {
   "cell_type": "code",
   "execution_count": 12,
   "id": "bf8b629b",
   "metadata": {
    "execution": {
     "iopub.execute_input": "2023-05-12T08:03:34.153845Z",
     "iopub.status.busy": "2023-05-12T08:03:34.153434Z",
     "iopub.status.idle": "2023-05-12T08:03:34.490435Z",
     "shell.execute_reply": "2023-05-12T08:03:34.489137Z"
    },
    "papermill": {
     "duration": 0.355486,
     "end_time": "2023-05-12T08:03:34.493140",
     "exception": false,
     "start_time": "2023-05-12T08:03:34.137654",
     "status": "completed"
    },
    "tags": []
   },
   "outputs": [],
   "source": [
    "def process_text(context, target):\n",
    "  context = context_text_processor(context).to_tensor()\n",
    "  target = target_text_processor(target)\n",
    "  targ_in = target[:,:-1].to_tensor()\n",
    "  targ_out = target[:,1:].to_tensor()\n",
    "  return (context, targ_in), targ_out\n",
    "\n",
    "\n",
    "train_ds = train_raw.map(process_text, tf.data.AUTOTUNE)\n",
    "val_ds = val_raw.map(process_text, tf.data.AUTOTUNE)"
   ]
  },
  {
   "cell_type": "code",
   "execution_count": 13,
   "id": "4c7154dd",
   "metadata": {
    "execution": {
     "iopub.execute_input": "2023-05-12T08:03:34.523945Z",
     "iopub.status.busy": "2023-05-12T08:03:34.523546Z",
     "iopub.status.idle": "2023-05-12T08:03:34.659359Z",
     "shell.execute_reply": "2023-05-12T08:03:34.658028Z"
    },
    "papermill": {
     "duration": 0.154297,
     "end_time": "2023-05-12T08:03:34.662197",
     "exception": false,
     "start_time": "2023-05-12T08:03:34.507900",
     "status": "completed"
    },
    "tags": []
   },
   "outputs": [
    {
     "name": "stdout",
     "output_type": "stream",
     "text": [
      "[  5  35 110 979  70   2  17   3 242   9]\n",
      "\n",
      "[  5  23  88  24 174   3   2 173  43  11]\n",
      "[ 23  88  24 174   3   2 173  43  11 364]\n"
     ]
    }
   ],
   "source": [
    "for (ex_context_tok, ex_tar_in), ex_tar_out in train_ds.take(1):\n",
    "  print(ex_context_tok[0, :10].numpy()) \n",
    "  print()\n",
    "  print(ex_tar_in[0, :10].numpy()) \n",
    "  print(ex_tar_out[0, :10].numpy())"
   ]
  },
  {
   "cell_type": "code",
   "execution_count": 14,
   "id": "a7d35ffb",
   "metadata": {
    "execution": {
     "iopub.execute_input": "2023-05-12T08:03:34.692824Z",
     "iopub.status.busy": "2023-05-12T08:03:34.692405Z",
     "iopub.status.idle": "2023-05-12T08:03:34.697530Z",
     "shell.execute_reply": "2023-05-12T08:03:34.696177Z"
    },
    "papermill": {
     "duration": 0.023598,
     "end_time": "2023-05-12T08:03:34.700157",
     "exception": false,
     "start_time": "2023-05-12T08:03:34.676559",
     "status": "completed"
    },
    "tags": []
   },
   "outputs": [],
   "source": [
    "UNITS = 256"
   ]
  },
  {
   "cell_type": "code",
   "execution_count": 15,
   "id": "c401d8aa",
   "metadata": {
    "execution": {
     "iopub.execute_input": "2023-05-12T08:03:34.731293Z",
     "iopub.status.busy": "2023-05-12T08:03:34.730888Z",
     "iopub.status.idle": "2023-05-12T08:03:34.741946Z",
     "shell.execute_reply": "2023-05-12T08:03:34.740850Z"
    },
    "papermill": {
     "duration": 0.029809,
     "end_time": "2023-05-12T08:03:34.744270",
     "exception": false,
     "start_time": "2023-05-12T08:03:34.714461",
     "status": "completed"
    },
    "tags": []
   },
   "outputs": [],
   "source": [
    "class Encoder(tf.keras.layers.Layer):\n",
    "  def __init__(self, text_processor, units):\n",
    "    super(Encoder, self).__init__()\n",
    "    self.text_processor = text_processor\n",
    "    self.vocab_size = text_processor.vocabulary_size()\n",
    "    self.units = units\n",
    "\n",
    "    # The embedding layer converts tokens to vectors\n",
    "    self.embedding = tf.keras.layers.Embedding(self.vocab_size, units,\n",
    "                                               mask_zero=True)\n",
    "\n",
    "    # The RNN layer processes those vectors sequentially.\n",
    "    self.rnn = tf.keras.layers.Bidirectional(\n",
    "        merge_mode='sum',\n",
    "        layer=tf.keras.layers.GRU(units,\n",
    "                            # Return the sequence and state\n",
    "                            return_sequences=True,\n",
    "                            recurrent_initializer='glorot_uniform'))\n",
    "\n",
    "  def call(self, x):\n",
    "#     shape_checker = ShapeChecker()\n",
    "#     shape_checker(x, 'batch s')\n",
    "\n",
    "    # 2. The embedding layer looks up the embedding vector for each token.\n",
    "    x = self.embedding(x)\n",
    "    print(x.shape)\n",
    "#     shape_checker(x, 'batch s units')\n",
    "\n",
    "    # 3. The GRU processes the sequence of embeddings.\n",
    "    x = self.rnn(x)\n",
    "#     shape_checker(x, 'batch s units')\n",
    "\n",
    "    # 4. Returns the new sequence of embeddings.\n",
    "    return x\n",
    "\n",
    "  def convert_input(self, texts):\n",
    "    texts = tf.convert_to_tensor(texts)\n",
    "    if len(texts.shape) == 0:\n",
    "      texts = tf.convert_to_tensor(texts)[tf.newaxis]\n",
    "    context = self.text_processor(texts).to_tensor()\n",
    "    context = self(context)\n",
    "    return context"
   ]
  },
  {
   "cell_type": "code",
   "execution_count": 16,
   "id": "0d1ff672",
   "metadata": {
    "execution": {
     "iopub.execute_input": "2023-05-12T08:03:34.775967Z",
     "iopub.status.busy": "2023-05-12T08:03:34.775241Z",
     "iopub.status.idle": "2023-05-12T08:03:36.187723Z",
     "shell.execute_reply": "2023-05-12T08:03:36.186095Z"
    },
    "papermill": {
     "duration": 1.431857,
     "end_time": "2023-05-12T08:03:36.190464",
     "exception": false,
     "start_time": "2023-05-12T08:03:34.758607",
     "status": "completed"
    },
    "tags": []
   },
   "outputs": [
    {
     "name": "stdout",
     "output_type": "stream",
     "text": [
      "(64, 114, 256)\n",
      "Context tokens, shape (batch, s): (64, 114)\n",
      "Encoder output, shape (batch, s, units): (64, 114, 256)\n"
     ]
    }
   ],
   "source": [
    "# Encode the input sequence.\n",
    "encoder = Encoder(context_text_processor, UNITS)\n",
    "ex_context = encoder(ex_context_tok)\n",
    "\n",
    "print(f'Context tokens, shape (batch, s): {ex_context_tok.shape}')\n",
    "print(f'Encoder output, shape (batch, s, units): {ex_context.shape}')"
   ]
  },
  {
   "cell_type": "code",
   "execution_count": 17,
   "id": "ad30ac8d",
   "metadata": {
    "execution": {
     "iopub.execute_input": "2023-05-12T08:03:36.222189Z",
     "iopub.status.busy": "2023-05-12T08:03:36.221762Z",
     "iopub.status.idle": "2023-05-12T08:03:36.231606Z",
     "shell.execute_reply": "2023-05-12T08:03:36.230407Z"
    },
    "papermill": {
     "duration": 0.029135,
     "end_time": "2023-05-12T08:03:36.234091",
     "exception": false,
     "start_time": "2023-05-12T08:03:36.204956",
     "status": "completed"
    },
    "tags": []
   },
   "outputs": [],
   "source": [
    "class CrossAttention(tf.keras.layers.Layer):\n",
    "  def __init__(self, units, **kwargs):\n",
    "    super().__init__()\n",
    "    self.mha = tf.keras.layers.MultiHeadAttention(key_dim=units, num_heads=1, **kwargs)\n",
    "    self.layernorm = tf.keras.layers.LayerNormalization()\n",
    "    self.add = tf.keras.layers.Add()\n",
    "\n",
    "  def call(self, x, context):\n",
    "#     shape_checker = ShapeChecker()\n",
    "\n",
    "#     shape_checker(x, 'batch t units')\n",
    "#     shape_checker(context, 'batch s units')\n",
    "\n",
    "    attn_output, attn_scores = self.mha(\n",
    "        query=x,\n",
    "        value=context,\n",
    "        return_attention_scores=True)\n",
    "\n",
    "#     shape_checker(x, 'batch t units')\n",
    "#     shape_checker(attn_scores, 'batch heads t s')\n",
    "\n",
    "    # Cache the attention scores for plotting later.\n",
    "    attn_scores = tf.reduce_mean(attn_scores, axis=1)\n",
    "#     shape_checker(attn_scores, 'batch t s')\n",
    "    self.last_attention_weights = attn_scores\n",
    "\n",
    "    x = self.add([x, attn_output])\n",
    "    x = self.layernorm(x)\n",
    "\n",
    "    return x"
   ]
  },
  {
   "cell_type": "code",
   "execution_count": 18,
   "id": "8c8ee533",
   "metadata": {
    "execution": {
     "iopub.execute_input": "2023-05-12T08:03:36.267261Z",
     "iopub.status.busy": "2023-05-12T08:03:36.266296Z",
     "iopub.status.idle": "2023-05-12T08:03:36.530622Z",
     "shell.execute_reply": "2023-05-12T08:03:36.529098Z"
    },
    "papermill": {
     "duration": 0.283715,
     "end_time": "2023-05-12T08:03:36.533331",
     "exception": false,
     "start_time": "2023-05-12T08:03:36.249616",
     "status": "completed"
    },
    "tags": []
   },
   "outputs": [
    {
     "name": "stdout",
     "output_type": "stream",
     "text": [
      "Context sequence, shape (batch, s, units): (64, 114, 256)\n",
      "Target sequence, shape (batch, t, units): (64, 113, 256)\n",
      "Attention result, shape (batch, t, units): (64, 113, 256)\n",
      "Attention weights, shape (batch, t, s):    (64, 113, 114)\n"
     ]
    }
   ],
   "source": [
    "attention_layer = CrossAttention(UNITS)\n",
    "\n",
    "# Attend to the encoded tokens\n",
    "embed = tf.keras.layers.Embedding(target_text_processor.vocabulary_size(),\n",
    "                                  output_dim=UNITS, mask_zero=True)\n",
    "ex_tar_embed = embed(ex_tar_in)\n",
    "\n",
    "result = attention_layer(ex_tar_embed, ex_context)\n",
    "\n",
    "print(f'Context sequence, shape (batch, s, units): {ex_context.shape}')\n",
    "print(f'Target sequence, shape (batch, t, units): {ex_tar_embed.shape}')\n",
    "print(f'Attention result, shape (batch, t, units): {result.shape}')\n",
    "print(f'Attention weights, shape (batch, t, s):    {attention_layer.last_attention_weights.shape}')"
   ]
  },
  {
   "cell_type": "code",
   "execution_count": 19,
   "id": "34859f16",
   "metadata": {
    "execution": {
     "iopub.execute_input": "2023-05-12T08:03:36.567195Z",
     "iopub.status.busy": "2023-05-12T08:03:36.564819Z",
     "iopub.status.idle": "2023-05-12T08:03:37.393429Z",
     "shell.execute_reply": "2023-05-12T08:03:37.392157Z"
    },
    "papermill": {
     "duration": 0.847594,
     "end_time": "2023-05-12T08:03:37.396116",
     "exception": false,
     "start_time": "2023-05-12T08:03:36.548522",
     "status": "completed"
    },
    "tags": []
   },
   "outputs": [
    {
     "data": {
      "image/png": "[encoded data removed]",
      "text/plain": [
       "<Figure size 640x480 with 2 Axes>"
      ]
     },
     "metadata": {},
     "output_type": "display_data"
    }
   ],
   "source": [
    "attention_weights = attention_layer.last_attention_weights\n",
    "mask=(ex_context_tok != 0).numpy()\n",
    "\n",
    "plt.subplot(1, 2, 1)\n",
    "plt.pcolormesh(mask*attention_weights[:, 0, :])\n",
    "plt.title('Attention weights')\n",
    "\n",
    "plt.subplot(1, 2, 2)\n",
    "plt.pcolormesh(mask)\n",
    "plt.title('Mask');"
   ]
  },
  {
   "cell_type": "code",
   "execution_count": 20,
   "id": "5a0f2035",
   "metadata": {
    "execution": {
     "iopub.execute_input": "2023-05-12T08:03:37.428077Z",
     "iopub.status.busy": "2023-05-12T08:03:37.427680Z",
     "iopub.status.idle": "2023-05-12T08:03:37.440852Z",
     "shell.execute_reply": "2023-05-12T08:03:37.439676Z"
    },
    "papermill": {
     "duration": 0.032341,
     "end_time": "2023-05-12T08:03:37.443507",
     "exception": false,
     "start_time": "2023-05-12T08:03:37.411166",
     "status": "completed"
    },
    "tags": []
   },
   "outputs": [],
   "source": [
    "class Decoder(tf.keras.layers.Layer):\n",
    "  @classmethod\n",
    "  def add_method(cls, fun):\n",
    "    setattr(cls, fun.__name__, fun)\n",
    "    return fun\n",
    "\n",
    "  def __init__(self, text_processor, units):\n",
    "    super(Decoder, self).__init__()\n",
    "    self.text_processor = text_processor\n",
    "    self.vocab_size = text_processor.vocabulary_size()\n",
    "    self.word_to_id = tf.keras.layers.StringLookup(\n",
    "        vocabulary=text_processor.get_vocabulary(),\n",
    "        mask_token='', oov_token='[UNK]')\n",
    "    self.id_to_word = tf.keras.layers.StringLookup(\n",
    "        vocabulary=text_processor.get_vocabulary(),\n",
    "        mask_token='', oov_token='[UNK]',\n",
    "        invert=True)\n",
    "    self.start_token = self.word_to_id('[START]')\n",
    "    self.end_token = self.word_to_id('[END]')\n",
    "\n",
    "    self.units = units\n",
    "\n",
    "\n",
    "    # 1. The embedding layer converts token IDs to vectors\n",
    "    self.embedding = tf.keras.layers.Embedding(self.vocab_size,\n",
    "                                               units, mask_zero=True)\n",
    "\n",
    "    # 2. The RNN keeps track of what's been generated so far.\n",
    "    self.rnn = tf.keras.layers.GRU(units,\n",
    "                                   return_sequences=True,\n",
    "                                   return_state=True,\n",
    "                                   recurrent_initializer='glorot_uniform')\n",
    "\n",
    "    # 3. The RNN output will be the query for the attention layer.\n",
    "    self.attention = CrossAttention(units)\n",
    "\n",
    "    # 4. This fully connected layer produces the logits for each\n",
    "    # output token.\n",
    "    self.output_layer = tf.keras.layers.Dense(self.vocab_size)"
   ]
  },
  {
   "cell_type": "code",
   "execution_count": 21,
   "id": "7de13cfc",
   "metadata": {
    "execution": {
     "iopub.execute_input": "2023-05-12T08:03:37.475453Z",
     "iopub.status.busy": "2023-05-12T08:03:37.475035Z",
     "iopub.status.idle": "2023-05-12T08:03:37.482923Z",
     "shell.execute_reply": "2023-05-12T08:03:37.481669Z"
    },
    "papermill": {
     "duration": 0.026569,
     "end_time": "2023-05-12T08:03:37.485302",
     "exception": false,
     "start_time": "2023-05-12T08:03:37.458733",
     "status": "completed"
    },
    "tags": []
   },
   "outputs": [],
   "source": [
    "@Decoder.add_method\n",
    "def call(self,\n",
    "         context, x,\n",
    "         state=None,\n",
    "         return_state=False):  \n",
    "#   shape_checker = ShapeChecker()\n",
    "#   shape_checker(x, 'batch t')\n",
    "#   shape_checker(context, 'batch s units')\n",
    "\n",
    "  # 1. Lookup the embeddings\n",
    "  x = self.embedding(x)\n",
    "#   shape_checker(x, 'batch t units')\n",
    "\n",
    "  # 2. Process the target sequence.\n",
    "  x, state = self.rnn(x, initial_state=state)\n",
    "#   shape_checker(x, 'batch t units')\n",
    "\n",
    "  # 3. Use the RNN output as the query for the attention over the context.\n",
    "  x = self.attention(x, context)\n",
    "  self.last_attention_weights = self.attention.last_attention_weights\n",
    "#   shape_checker(x, 'batch t units')\n",
    "#   shape_checker(self.last_attention_weights, 'batch t s')\n",
    "\n",
    "  # Step 4. Generate logit predictions for the next token.\n",
    "  logits = self.output_layer(x)\n",
    "#   shape_checker(logits, 'batch t target_vocab_size')\n",
    "\n",
    "  if return_state:\n",
    "    return logits, state\n",
    "  else:\n",
    "    return logits"
   ]
  },
  {
   "cell_type": "code",
   "execution_count": 22,
   "id": "4b590b65",
   "metadata": {
    "execution": {
     "iopub.execute_input": "2023-05-12T08:03:37.521776Z",
     "iopub.status.busy": "2023-05-12T08:03:37.519983Z",
     "iopub.status.idle": "2023-05-12T08:03:37.734818Z",
     "shell.execute_reply": "2023-05-12T08:03:37.733522Z"
    },
    "papermill": {
     "duration": 0.235308,
     "end_time": "2023-05-12T08:03:37.737510",
     "exception": false,
     "start_time": "2023-05-12T08:03:37.502202",
     "status": "completed"
    },
    "tags": []
   },
   "outputs": [],
   "source": [
    "decoder = Decoder(target_text_processor, UNITS)"
   ]
  },
  {
   "cell_type": "code",
   "execution_count": 23,
   "id": "d6968018",
   "metadata": {
    "execution": {
     "iopub.execute_input": "2023-05-12T08:03:37.769256Z",
     "iopub.status.busy": "2023-05-12T08:03:37.768831Z",
     "iopub.status.idle": "2023-05-12T08:03:38.857751Z",
     "shell.execute_reply": "2023-05-12T08:03:38.856289Z"
    },
    "papermill": {
     "duration": 1.108234,
     "end_time": "2023-05-12T08:03:38.860705",
     "exception": false,
     "start_time": "2023-05-12T08:03:37.752471",
     "status": "completed"
    },
    "tags": []
   },
   "outputs": [
    {
     "name": "stdout",
     "output_type": "stream",
     "text": [
      "encoder output shape: (batch, s, units) (64, 114, 256)\n",
      "input target tokens shape: (batch, t) (64, 113)\n",
      "logits shape shape: (batch, target_vocabulary_size) (64, 113, 5000)\n"
     ]
    }
   ],
   "source": [
    "logits = decoder(ex_context, ex_tar_in)\n",
    "\n",
    "print(f'encoder output shape: (batch, s, units) {ex_context.shape}')\n",
    "print(f'input target tokens shape: (batch, t) {ex_tar_in.shape}')\n",
    "print(f'logits shape shape: (batch, target_vocabulary_size) {logits.shape}')"
   ]
  },
  {
   "cell_type": "code",
   "execution_count": 24,
   "id": "6e92ef2e",
   "metadata": {
    "execution": {
     "iopub.execute_input": "2023-05-12T08:03:38.894365Z",
     "iopub.status.busy": "2023-05-12T08:03:38.893273Z",
     "iopub.status.idle": "2023-05-12T08:03:38.900040Z",
     "shell.execute_reply": "2023-05-12T08:03:38.899062Z"
    },
    "papermill": {
     "duration": 0.026467,
     "end_time": "2023-05-12T08:03:38.902588",
     "exception": false,
     "start_time": "2023-05-12T08:03:38.876121",
     "status": "completed"
    },
    "tags": []
   },
   "outputs": [],
   "source": [
    "@Decoder.add_method\n",
    "def get_initial_state(self, context):\n",
    "  batch_size = tf.shape(context)[0]\n",
    "  start_tokens = tf.fill([batch_size, 1], self.start_token)\n",
    "  done = tf.zeros([batch_size, 1], dtype=tf.bool)\n",
    "  embedded = self.embedding(start_tokens)\n",
    "  return start_tokens, done, self.rnn.get_initial_state(embedded)[0]"
   ]
  },
  {
   "cell_type": "code",
   "execution_count": 25,
   "id": "cc897845",
   "metadata": {
    "execution": {
     "iopub.execute_input": "2023-05-12T08:03:38.935343Z",
     "iopub.status.busy": "2023-05-12T08:03:38.934225Z",
     "iopub.status.idle": "2023-05-12T08:03:38.941026Z",
     "shell.execute_reply": "2023-05-12T08:03:38.940061Z"
    },
    "papermill": {
     "duration": 0.025588,
     "end_time": "2023-05-12T08:03:38.943541",
     "exception": false,
     "start_time": "2023-05-12T08:03:38.917953",
     "status": "completed"
    },
    "tags": []
   },
   "outputs": [],
   "source": [
    "@Decoder.add_method\n",
    "def tokens_to_text(self, tokens):\n",
    "  words = self.id_to_word(tokens)\n",
    "  result = tf.strings.reduce_join(words, axis=-1, separator=' ')\n",
    "  result = tf.strings.regex_replace(result, '^ *\\[START\\] *', '')\n",
    "  result = tf.strings.regex_replace(result, ' *\\[END\\] *$', '')\n",
    "  return result"
   ]
  },
  {
   "cell_type": "code",
   "execution_count": 26,
   "id": "c7cd6b3e",
   "metadata": {
    "execution": {
     "iopub.execute_input": "2023-05-12T08:03:38.976544Z",
     "iopub.status.busy": "2023-05-12T08:03:38.975788Z",
     "iopub.status.idle": "2023-05-12T08:03:38.984487Z",
     "shell.execute_reply": "2023-05-12T08:03:38.983367Z"
    },
    "papermill": {
     "duration": 0.028049,
     "end_time": "2023-05-12T08:03:38.986957",
     "exception": false,
     "start_time": "2023-05-12T08:03:38.958908",
     "status": "completed"
    },
    "tags": []
   },
   "outputs": [],
   "source": [
    "@Decoder.add_method\n",
    "def get_next_token(self, context, next_token, done, state, temperature = 0.0):\n",
    "  logits, state = self(\n",
    "    context, next_token,\n",
    "    state = state,\n",
    "    return_state=True) \n",
    "\n",
    "  if temperature == 0.0:\n",
    "    next_token = tf.argmax(logits, axis=-1)\n",
    "  else:\n",
    "    logits = logits[:, -1, :]/temperature\n",
    "    next_token = tf.random.categorical(logits, num_samples=1)\n",
    "\n",
    "  # If a sequence produces an `end_token`, set it `done`\n",
    "  done = done | (next_token == self.end_token)\n",
    "  # Once a sequence is done it only produces 0-padding.\n",
    "  next_token = tf.where(done, tf.constant(0, dtype=tf.int64), next_token)\n",
    "\n",
    "  return next_token, done, state"
   ]
  },
  {
   "cell_type": "code",
   "execution_count": 27,
   "id": "4a34d35c",
   "metadata": {
    "execution": {
     "iopub.execute_input": "2023-05-12T08:03:39.018682Z",
     "iopub.status.busy": "2023-05-12T08:03:39.018227Z",
     "iopub.status.idle": "2023-05-12T08:03:39.839699Z",
     "shell.execute_reply": "2023-05-12T08:03:39.838157Z"
    },
    "papermill": {
     "duration": 0.840571,
     "end_time": "2023-05-12T08:03:39.842438",
     "exception": false,
     "start_time": "2023-05-12T08:03:39.001867",
     "status": "completed"
    },
    "tags": []
   },
   "outputs": [
    {
     "data": {
      "text/plain": [
       "array([b'institution entitled started changing missed protected elections natura warning continuation',\n",
       "       b'right go method door cannot necessary surprised formally training causing',\n",
       "       b'according figures concur replaced organisms vallelersundi laws granted harbour fat'],\n",
       "      dtype=object)"
      ]
     },
     "execution_count": 27,
     "metadata": {},
     "output_type": "execute_result"
    }
   ],
   "source": [
    "# Setup the loop variables.\n",
    "next_token, done, state = decoder.get_initial_state(ex_context)\n",
    "tokens = []\n",
    "\n",
    "for n in range(10):\n",
    "  # Run one step.\n",
    "  next_token, done, state = decoder.get_next_token(\n",
    "      ex_context, next_token, done, state, temperature=1.0)\n",
    "  # Add the token to the output.\n",
    "  tokens.append(next_token)\n",
    "\n",
    "# Stack all the tokens together.\n",
    "tokens = tf.concat(tokens, axis=-1) # (batch, t)\n",
    "\n",
    "# Convert the tokens back to a a string\n",
    "result = decoder.tokens_to_text(tokens)\n",
    "result[:3].numpy()"
   ]
  },
  {
   "cell_type": "code",
   "execution_count": 28,
   "id": "e9827713",
   "metadata": {
    "execution": {
     "iopub.execute_input": "2023-05-12T08:03:39.876951Z",
     "iopub.status.busy": "2023-05-12T08:03:39.876551Z",
     "iopub.status.idle": "2023-05-12T08:03:39.885659Z",
     "shell.execute_reply": "2023-05-12T08:03:39.884243Z"
    },
    "papermill": {
     "duration": 0.030491,
     "end_time": "2023-05-12T08:03:39.888522",
     "exception": false,
     "start_time": "2023-05-12T08:03:39.858031",
     "status": "completed"
    },
    "tags": []
   },
   "outputs": [],
   "source": [
    "class Translator(tf.keras.Model):\n",
    "  @classmethod\n",
    "  def add_method(cls, fun):\n",
    "    setattr(cls, fun.__name__, fun)\n",
    "    return fun\n",
    "\n",
    "  def __init__(self, units,\n",
    "               context_text_processor,\n",
    "               target_text_processor):\n",
    "    super().__init__()\n",
    "    # Build the encoder and decoder\n",
    "    encoder = Encoder(context_text_processor, units)\n",
    "    decoder = Decoder(target_text_processor, units)\n",
    "\n",
    "    self.encoder = encoder\n",
    "    self.decoder = decoder\n",
    "\n",
    "  def call(self, inputs):\n",
    "    context, x = inputs\n",
    "    context = self.encoder(context)\n",
    "    logits = self.decoder(context, x)\n",
    "\n",
    "    #TODO(b/250038731): remove this\n",
    "    try:\n",
    "      # Delete the keras mask, so keras doesn't scale the loss+accuracy. \n",
    "      del logits._keras_mask\n",
    "    except AttributeError:\n",
    "      pass\n",
    "\n",
    "    return logits"
   ]
  },
  {
   "cell_type": "code",
   "execution_count": 29,
   "id": "6a2deea5",
   "metadata": {
    "execution": {
     "iopub.execute_input": "2023-05-12T08:03:39.920976Z",
     "iopub.status.busy": "2023-05-12T08:03:39.920507Z",
     "iopub.status.idle": "2023-05-12T08:03:42.284402Z",
     "shell.execute_reply": "2023-05-12T08:03:42.282755Z"
    },
    "papermill": {
     "duration": 2.383075,
     "end_time": "2023-05-12T08:03:42.286943",
     "exception": false,
     "start_time": "2023-05-12T08:03:39.903868",
     "status": "completed"
    },
    "tags": []
   },
   "outputs": [
    {
     "name": "stdout",
     "output_type": "stream",
     "text": [
      "(64, 114, 256)\n",
      "Context tokens, shape: (batch, s, units) (64, 114)\n",
      "Target tokens, shape: (batch, t) (64, 113)\n",
      "logits, shape: (batch, t, target_vocabulary_size) (64, 113, 5000)\n"
     ]
    }
   ],
   "source": [
    "model = Translator(UNITS, context_text_processor, target_text_processor)\n",
    "\n",
    "logits = model((ex_context_tok, ex_tar_in))\n",
    "\n",
    "print(f'Context tokens, shape: (batch, s, units) {ex_context_tok.shape}')\n",
    "print(f'Target tokens, shape: (batch, t) {ex_tar_in.shape}')\n",
    "print(f'logits, shape: (batch, t, target_vocabulary_size) {logits.shape}')"
   ]
  },
  {
   "cell_type": "code",
   "execution_count": 30,
   "id": "29b6c765",
   "metadata": {
    "execution": {
     "iopub.execute_input": "2023-05-12T08:03:42.320157Z",
     "iopub.status.busy": "2023-05-12T08:03:42.319755Z",
     "iopub.status.idle": "2023-05-12T08:03:42.326584Z",
     "shell.execute_reply": "2023-05-12T08:03:42.325392Z"
    },
    "papermill": {
     "duration": 0.026194,
     "end_time": "2023-05-12T08:03:42.329120",
     "exception": false,
     "start_time": "2023-05-12T08:03:42.302926",
     "status": "completed"
    },
    "tags": []
   },
   "outputs": [],
   "source": [
    "def masked_loss(y_true, y_pred):\n",
    "    # Calculate the loss for each item in the batch.\n",
    "    loss_fn = tf.keras.losses.SparseCategoricalCrossentropy(\n",
    "        from_logits=True, reduction='none')\n",
    "    loss = loss_fn(y_true, y_pred)\n",
    "\n",
    "    # Mask off the losses on padding.\n",
    "    mask = tf.cast(y_true != 0, loss.dtype)\n",
    "    loss *= mask\n",
    "\n",
    "    # Return the total.\n",
    "    return tf.reduce_sum(loss)/tf.reduce_sum(mask)"
   ]
  },
  {
   "cell_type": "code",
   "execution_count": 31,
   "id": "c9cb3399",
   "metadata": {
    "execution": {
     "iopub.execute_input": "2023-05-12T08:03:42.362263Z",
     "iopub.status.busy": "2023-05-12T08:03:42.361880Z",
     "iopub.status.idle": "2023-05-12T08:03:42.368993Z",
     "shell.execute_reply": "2023-05-12T08:03:42.367653Z"
    },
    "papermill": {
     "duration": 0.026721,
     "end_time": "2023-05-12T08:03:42.371488",
     "exception": false,
     "start_time": "2023-05-12T08:03:42.344767",
     "status": "completed"
    },
    "tags": []
   },
   "outputs": [],
   "source": [
    "def masked_acc(y_true, y_pred):\n",
    "    # Calculate the loss for each item in the batch.\n",
    "    y_pred = tf.argmax(y_pred, axis=-1)\n",
    "    y_pred = tf.cast(y_pred, y_true.dtype)\n",
    "\n",
    "    match = tf.cast(y_true == y_pred, tf.float32)\n",
    "    mask = tf.cast(y_true != 0, tf.float32)\n",
    "\n",
    "    return tf.reduce_sum(match)/tf.reduce_sum(mask)"
   ]
  },
  {
   "cell_type": "code",
   "execution_count": 32,
   "id": "74efd3e2",
   "metadata": {
    "execution": {
     "iopub.execute_input": "2023-05-12T08:03:42.405256Z",
     "iopub.status.busy": "2023-05-12T08:03:42.404860Z",
     "iopub.status.idle": "2023-05-12T08:03:42.459337Z",
     "shell.execute_reply": "2023-05-12T08:03:42.458076Z"
    },
    "papermill": {
     "duration": 0.074971,
     "end_time": "2023-05-12T08:03:42.462262",
     "exception": false,
     "start_time": "2023-05-12T08:03:42.387291",
     "status": "completed"
    },
    "tags": []
   },
   "outputs": [],
   "source": [
    "model.compile(optimizer='adam',\n",
    "              loss=masked_loss, \n",
    "              metrics=[masked_acc, masked_loss])"
   ]
  },
  {
   "cell_type": "code",
   "execution_count": 33,
   "id": "03d0eca4",
   "metadata": {
    "execution": {
     "iopub.execute_input": "2023-05-12T08:03:42.496383Z",
     "iopub.status.busy": "2023-05-12T08:03:42.495954Z",
     "iopub.status.idle": "2023-05-12T08:03:42.507783Z",
     "shell.execute_reply": "2023-05-12T08:03:42.506509Z"
    },
    "papermill": {
     "duration": 0.031359,
     "end_time": "2023-05-12T08:03:42.510372",
     "exception": false,
     "start_time": "2023-05-12T08:03:42.479013",
     "status": "completed"
    },
    "tags": []
   },
   "outputs": [
    {
     "data": {
      "text/plain": [
       "{'expected_loss': 8.517193, 'expected_acc': 0.0002}"
      ]
     },
     "execution_count": 33,
     "metadata": {},
     "output_type": "execute_result"
    }
   ],
   "source": [
    "vocab_size = 1.0 * target_text_processor.vocabulary_size()\n",
    "\n",
    "{\"expected_loss\": tf.math.log(vocab_size).numpy(),\n",
    " \"expected_acc\": 1/vocab_size}"
   ]
  },
  {
   "cell_type": "code",
   "execution_count": 34,
   "id": "fd5c718c",
   "metadata": {
    "execution": {
     "iopub.execute_input": "2023-05-12T08:03:42.545245Z",
     "iopub.status.busy": "2023-05-12T08:03:42.544843Z",
     "iopub.status.idle": "2023-05-12T08:04:06.921291Z",
     "shell.execute_reply": "2023-05-12T08:04:06.920308Z"
    },
    "papermill": {
     "duration": 24.396981,
     "end_time": "2023-05-12T08:04:06.923719",
     "exception": false,
     "start_time": "2023-05-12T08:03:42.526738",
     "status": "completed"
    },
    "tags": []
   },
   "outputs": [
    {
     "name": "stdout",
     "output_type": "stream",
     "text": [
      "(None, None, 256)\n",
      "(None, None, 256)\n",
      "20/20 [==============================] - 24s 793ms/step - loss: 8.5168 - masked_acc: 2.4852e-04 - masked_loss: 8.5168\n"
     ]
    },
    {
     "data": {
      "text/plain": [
       "{'loss': 8.516790390014648,\n",
       " 'masked_acc': 0.0002485222357790917,\n",
       " 'masked_loss': 8.516790390014648}"
      ]
     },
     "execution_count": 34,
     "metadata": {},
     "output_type": "execute_result"
    }
   ],
   "source": [
    "model.evaluate(val_ds, steps=20, return_dict=True)"
   ]
  },
  {
   "cell_type": "code",
   "execution_count": 35,
   "id": "bfb48b69",
   "metadata": {
    "execution": {
     "iopub.execute_input": "2023-05-12T08:04:06.961768Z",
     "iopub.status.busy": "2023-05-12T08:04:06.961005Z",
     "iopub.status.idle": "2023-05-12T08:57:00.689551Z",
     "shell.execute_reply": "2023-05-12T08:57:00.688475Z"
    },
    "papermill": {
     "duration": 3173.750585,
     "end_time": "2023-05-12T08:57:00.692281",
     "exception": false,
     "start_time": "2023-05-12T08:04:06.941696",
     "status": "completed"
    },
    "tags": []
   },
   "outputs": [
    {
     "name": "stdout",
     "output_type": "stream",
     "text": [
      "Epoch 1/100\n",
      "(None, None, 256)\n",
      "(None, None, 256)\n",
      "100/100 [==============================] - 200s 2s/step - loss: 5.7780 - masked_acc: 0.1297 - masked_loss: 5.7780 - val_loss: 4.8910 - val_masked_acc: 0.2265 - val_masked_loss: 4.8910\n",
      "Epoch 2/100\n",
      "100/100 [==============================] - 184s 2s/step - loss: 4.6560 - masked_acc: 0.2450 - masked_loss: 4.6560 - val_loss: 4.4383 - val_masked_acc: 0.2621 - val_masked_loss: 4.4383\n",
      "Epoch 3/100\n",
      "100/100 [==============================] - 190s 2s/step - loss: 4.3527 - masked_acc: 0.2750 - masked_loss: 4.3527 - val_loss: 4.1936 - val_masked_acc: 0.2876 - val_masked_loss: 4.1936\n",
      "Epoch 4/100\n",
      "100/100 [==============================] - 182s 2s/step - loss: 3.9956 - masked_acc: 0.3070 - masked_loss: 3.9957 - val_loss: 4.0370 - val_masked_acc: 0.3037 - val_masked_loss: 4.0370\n",
      "Epoch 5/100\n",
      "100/100 [==============================] - 185s 2s/step - loss: 3.8610 - masked_acc: 0.3240 - masked_loss: 3.8610 - val_loss: 3.8680 - val_masked_acc: 0.3244 - val_masked_loss: 3.8680\n",
      "Epoch 6/100\n",
      "100/100 [==============================] - 189s 2s/step - loss: 3.7232 - masked_acc: 0.3397 - masked_loss: 3.7232 - val_loss: 3.6962 - val_masked_acc: 0.3439 - val_masked_loss: 3.6962\n",
      "Epoch 7/100\n",
      "100/100 [==============================] - 192s 2s/step - loss: 3.4295 - masked_acc: 0.3671 - masked_loss: 3.4295 - val_loss: 3.6282 - val_masked_acc: 0.3530 - val_masked_loss: 3.6282\n",
      "Epoch 8/100\n",
      "100/100 [==============================] - 186s 2s/step - loss: 3.3116 - masked_acc: 0.3803 - masked_loss: 3.3116 - val_loss: 3.5535 - val_masked_acc: 0.3652 - val_masked_loss: 3.5535\n",
      "Epoch 9/100\n",
      "100/100 [==============================] - 180s 2s/step - loss: 3.2605 - masked_acc: 0.3884 - masked_loss: 3.2605 - val_loss: 3.4575 - val_masked_acc: 0.3760 - val_masked_loss: 3.4575\n",
      "Epoch 10/100\n",
      "100/100 [==============================] - 183s 2s/step - loss: 2.9716 - masked_acc: 0.4210 - masked_loss: 2.9717 - val_loss: 3.4570 - val_masked_acc: 0.3802 - val_masked_loss: 3.4570\n",
      "Epoch 11/100\n",
      "100/100 [==============================] - 188s 2s/step - loss: 2.8744 - masked_acc: 0.4308 - masked_loss: 2.8744 - val_loss: 3.3340 - val_masked_acc: 0.3941 - val_masked_loss: 3.3340\n",
      "Epoch 12/100\n",
      "100/100 [==============================] - 183s 2s/step - loss: 2.8876 - masked_acc: 0.4325 - masked_loss: 2.8876 - val_loss: 3.3477 - val_masked_acc: 0.3925 - val_masked_loss: 3.3477\n",
      "Epoch 13/100\n",
      "100/100 [==============================] - 184s 2s/step - loss: 2.6750 - masked_acc: 0.4594 - masked_loss: 2.6751 - val_loss: 3.3365 - val_masked_acc: 0.4003 - val_masked_loss: 3.3365\n",
      "Epoch 14/100\n",
      "100/100 [==============================] - 192s 2s/step - loss: 2.5583 - masked_acc: 0.4686 - masked_loss: 2.5583 - val_loss: 3.2842 - val_masked_acc: 0.4043 - val_masked_loss: 3.2842\n",
      "Epoch 15/100\n",
      "100/100 [==============================] - 184s 2s/step - loss: 2.6232 - masked_acc: 0.4619 - masked_loss: 2.6232 - val_loss: 3.3069 - val_masked_acc: 0.4013 - val_masked_loss: 3.3069\n",
      "Epoch 16/100\n",
      "100/100 [==============================] - 189s 2s/step - loss: 2.4709 - masked_acc: 0.4821 - masked_loss: 2.4710 - val_loss: 3.3015 - val_masked_acc: 0.4063 - val_masked_loss: 3.3015\n",
      "Epoch 17/100\n",
      "100/100 [==============================] - 182s 2s/step - loss: 2.2939 - masked_acc: 0.5042 - masked_loss: 2.2939 - val_loss: 3.3306 - val_masked_acc: 0.4029 - val_masked_loss: 3.3306\n"
     ]
    }
   ],
   "source": [
    "history = model.fit(\n",
    "    train_ds.repeat(), \n",
    "    epochs=100,\n",
    "    steps_per_epoch = 100,\n",
    "    validation_data=val_ds,\n",
    "    validation_steps = 20,\n",
    "    callbacks=[\n",
    "        tf.keras.callbacks.EarlyStopping(patience=3)])"
   ]
  },
  {
   "cell_type": "code",
   "execution_count": 36,
   "id": "aba19609",
   "metadata": {
    "execution": {
     "iopub.execute_input": "2023-05-12T08:57:01.038055Z",
     "iopub.status.busy": "2023-05-12T08:57:01.037667Z",
     "iopub.status.idle": "2023-05-12T08:57:01.335993Z",
     "shell.execute_reply": "2023-05-12T08:57:01.334850Z"
    },
    "papermill": {
     "duration": 0.47373,
     "end_time": "2023-05-12T08:57:01.338228",
     "exception": false,
     "start_time": "2023-05-12T08:57:00.864498",
     "status": "completed"
    },
    "tags": []
   },
   "outputs": [
    {
     "data": {
      "text/plain": [
       "<matplotlib.legend.Legend at 0x790fed850790>"
      ]
     },
     "execution_count": 36,
     "metadata": {},
     "output_type": "execute_result"
    },
    {
     "data": {
      "image/png": "[encoded data removed]",
      "text/plain": [
       "<Figure size 640x480 with 1 Axes>"
      ]
     },
     "metadata": {},
     "output_type": "display_data"
    }
   ],
   "source": [
    "plt.plot(history.history['loss'], label='loss')\n",
    "plt.plot(history.history['val_loss'], label='val_loss')\n",
    "plt.ylim([0, max(plt.ylim())])\n",
    "plt.xlabel('Epoch #')\n",
    "plt.ylabel('CE/token')\n",
    "plt.legend()"
   ]
  },
  {
   "cell_type": "code",
   "execution_count": 37,
   "id": "22df6b9c",
   "metadata": {
    "execution": {
     "iopub.execute_input": "2023-05-12T08:57:01.687139Z",
     "iopub.status.busy": "2023-05-12T08:57:01.686736Z",
     "iopub.status.idle": "2023-05-12T08:57:01.988603Z",
     "shell.execute_reply": "2023-05-12T08:57:01.987408Z"
    },
    "papermill": {
     "duration": 0.479373,
     "end_time": "2023-05-12T08:57:01.991413",
     "exception": false,
     "start_time": "2023-05-12T08:57:01.512040",
     "status": "completed"
    },
    "tags": []
   },
   "outputs": [
    {
     "data": {
      "text/plain": [
       "<matplotlib.legend.Legend at 0x790fed853e50>"
      ]
     },
     "execution_count": 37,
     "metadata": {},
     "output_type": "execute_result"
    },
    {
     "data": {
      "image/png": "[encoded data removed]",
      "text/plain": [
       "<Figure size 640x480 with 1 Axes>"
      ]
     },
     "metadata": {},
     "output_type": "display_data"
    }
   ],
   "source": [
    "plt.plot(history.history['masked_acc'], label='accuracy')\n",
    "plt.plot(history.history['val_masked_acc'], label='val_accuracy')\n",
    "plt.ylim([0, max(plt.ylim())])\n",
    "plt.xlabel('Epoch #')\n",
    "plt.ylabel('CE/token')\n",
    "plt.legend()"
   ]
  },
  {
   "cell_type": "code",
   "execution_count": 38,
   "id": "2576d365",
   "metadata": {
    "execution": {
     "iopub.execute_input": "2023-05-12T08:57:02.345210Z",
     "iopub.status.busy": "2023-05-12T08:57:02.344519Z",
     "iopub.status.idle": "2023-05-12T08:57:02.354133Z",
     "shell.execute_reply": "2023-05-12T08:57:02.353241Z"
    },
    "papermill": {
     "duration": 0.189248,
     "end_time": "2023-05-12T08:57:02.356473",
     "exception": false,
     "start_time": "2023-05-12T08:57:02.167225",
     "status": "completed"
    },
    "tags": []
   },
   "outputs": [],
   "source": [
    "@Translator.add_method\n",
    "def translate(self,\n",
    "              texts, *,\n",
    "              max_length=50,\n",
    "              temperature=0.0):\n",
    "  # Process the input texts\n",
    "  context = self.encoder.convert_input(texts)\n",
    "  batch_size = tf.shape(texts)[0]\n",
    "\n",
    "  # Setup the loop inputs\n",
    "  tokens = []\n",
    "  attention_weights = []\n",
    "  next_token, done, state = self.decoder.get_initial_state(context)\n",
    "\n",
    "  for _ in range(max_length):\n",
    "    # Generate the next token\n",
    "    next_token, done, state = self.decoder.get_next_token(\n",
    "        context, next_token, done,  state, temperature)\n",
    "\n",
    "    # Collect the generated tokens\n",
    "    tokens.append(next_token)\n",
    "    attention_weights.append(self.decoder.last_attention_weights)\n",
    "\n",
    "    if tf.executing_eagerly() and tf.reduce_all(done):\n",
    "      break\n",
    "\n",
    "  # Stack the lists of tokens and attention weights.\n",
    "  tokens = tf.concat(tokens, axis=-1)   # t*[(batch 1)] -> (batch, t)\n",
    "  self.last_attention_weights = tf.concat(attention_weights, axis=1)  # t*[(batch 1 s)] -> (batch, t s)\n",
    "\n",
    "  result = self.decoder.tokens_to_text(tokens)\n",
    "  return result"
   ]
  },
  {
   "cell_type": "code",
   "execution_count": 39,
   "id": "6484797b",
   "metadata": {
    "execution": {
     "iopub.execute_input": "2023-05-12T08:57:02.713808Z",
     "iopub.status.busy": "2023-05-12T08:57:02.712836Z",
     "iopub.status.idle": "2023-05-12T08:57:03.121841Z",
     "shell.execute_reply": "2023-05-12T08:57:03.120396Z"
    },
    "papermill": {
     "duration": 0.590656,
     "end_time": "2023-05-12T08:57:03.124263",
     "exception": false,
     "start_time": "2023-05-12T08:57:02.533607",
     "status": "completed"
    },
    "tags": []
   },
   "outputs": [
    {
     "name": "stdout",
     "output_type": "stream",
     "text": [
      "(1, 8, 256)\n"
     ]
    },
    {
     "data": {
      "text/plain": [
       "'the european union [UNK] [UNK] [UNK] . '"
      ]
     },
     "execution_count": 39,
     "metadata": {},
     "output_type": "execute_result"
    }
   ],
   "source": [
    "result = model.translate(['The commission has rejected the proposal']) \n",
    "result[0].numpy().decode()"
   ]
  },
  {
   "cell_type": "code",
   "execution_count": 40,
   "id": "923a1e37",
   "metadata": {
    "execution": {
     "iopub.execute_input": "2023-05-12T08:57:03.483367Z",
     "iopub.status.busy": "2023-05-12T08:57:03.482416Z",
     "iopub.status.idle": "2023-05-12T08:57:32.745053Z",
     "shell.execute_reply": "2023-05-12T08:57:32.743381Z"
    },
    "papermill": {
     "duration": 29.443115,
     "end_time": "2023-05-12T08:57:32.747645",
     "exception": false,
     "start_time": "2023-05-12T08:57:03.304530",
     "status": "completed"
    },
    "tags": []
   },
   "outputs": [
    {
     "name": "stdout",
     "output_type": "stream",
     "text": [
      "(1, 42, 256)\n",
      "Input Sentence Aus diesem Grund beobachten wir sehr aufmerksam alles, was eine Zuwiderhandlung gegen die Grundsätze darstellen könnte, die uns in diesem Bereich einen. Im Rahmen der Gemeinsamen Außen- und Sicherheitspolitik haben wir Verletzungen dieser Grundsätze stets angeprangert.\n",
      "Predicted Sentence this is why we are very well aware of the principles of the principles of the principles , which we have to find ourselves in this area , which has always been a very important , in this area , which has always been achieved . \n",
      "Actual Sentence We are therefore alert to any risk of weakening the principles that unite us in this area, and we have always denounced any violations through our common foreign and security policy.\n",
      "BLEU Score: 0.346966645494591 \n",
      "\n",
      "(1, 31, 256)\n"
     ]
    },
    {
     "name": "stderr",
     "output_type": "stream",
     "text": [
      "/opt/conda/lib/python3.10/site-packages/nltk/translate/bleu_score.py:490: UserWarning: \n",
      "Corpus/Sentence contains 0 counts of 3-gram overlaps.\n",
      "BLEU scores might be undesirable; use SmoothingFunction().\n",
      "  warnings.warn(_msg)\n"
     ]
    },
    {
     "name": "stdout",
     "output_type": "stream",
     "text": [
      "Input Sentence In solchen Fällen versuchen wir, mit Hilfe des uns zu Gebote stehenden Instrumentariums Druck auszuüben, der sowohl zeitlich als auch in seinen Folgen wirkungsvoll sein kann.\n",
      "Predicted Sentence in such cases , we are trying to provide with the assistance to the partners , which is to be welcomed and also to create a [UNK] relationship between both parties and both sides . \n",
      "Actual Sentence In such cases we seek to use the instruments available to us to exert pressure in a timely and effective way.\n",
      "BLEU Score: 0.30277029197532096 \n",
      "\n",
      "(1, 30, 256)\n",
      "Input Sentence Häufig haben wir - und dessen sind wir uns bewußt - das Gewünschte nicht erreicht. Wir sind jedoch fest entschlossen, auch künftig mit der gleichen Entschiedenheit vorzugehen.\n",
      "Predicted Sentence we have not heard that we are aware of the fact that we are not able to achieve a genuine [UNK] in the same . \n",
      "Actual Sentence We are aware that in many cases we have not achieved everything we might wish, but we firmly intend to continue in future with the same determination.\n",
      "BLEU Score: 0.2241800590332905 \n",
      "\n",
      "(1, 46, 256)\n"
     ]
    },
    {
     "name": "stderr",
     "output_type": "stream",
     "text": [
      "/opt/conda/lib/python3.10/site-packages/nltk/translate/bleu_score.py:490: UserWarning: \n",
      "Corpus/Sentence contains 0 counts of 4-gram overlaps.\n",
      "BLEU scores might be undesirable; use SmoothingFunction().\n",
      "  warnings.warn(_msg)\n"
     ]
    },
    {
     "name": "stdout",
     "output_type": "stream",
     "text": [
      "Input Sentence Herr Präsident! Ungeachtet der Schwere und der Häufigkeit der Verletzung der Menschenrechte, die die Genfer Abkommen und ihre Protokolle zu schützen suchen, bin ich der Meinung, daß das neue Jahrtausend sehr wohl einige Elemente der Hoffnung in sich birgt.\n",
      "Predicted Sentence mr president , regardless of the serious problems of the [UNK] of human rights and the [UNK] of the geneva convention , and i am thinking of the geneva convention , and i am thinking of the fact that the geneva convention is also [UNK] and for the fact that\n",
      "Actual Sentence Mr President, despite the gravity and the frequency of human rights violations that the Geneva Conventions and their protocols attempt to prevent, I do believe that the new millennium gives us some cause for hope.\n",
      "BLEU Score: 0.14213743662752684 \n",
      "\n",
      "(1, 34, 256)\n",
      "Input Sentence Diese Hoffnung basiert im wesentlichen auf der fortschreitenden Stabilisierung einer internationalen Werteordnung, die sich schon jetzt nicht mehr hinter überholten Kriterien wie kulturellen Unterschieden und bestimmten nationalen Besonderheiten verstecken kann.\n",
      "Predicted Sentence that is essential in the very important process of stability , which is essential for the stability pact , which are now being [UNK] , are still no longer [UNK] , as a result of [UNK] , [UNK] national competition authorities and specific characteristics of a particular national characteristics .\n",
      "Actual Sentence This hope is primarily founded on gradually establishing an international set of values which means that it is already becoming difficult to take refuge behind spurious criteria such as cultural differences and national traits.\n",
      "BLEU Score: 0.6324555320336759 \n",
      "\n",
      "(1, 48, 256)\n"
     ]
    },
    {
     "name": "stderr",
     "output_type": "stream",
     "text": [
      "/opt/conda/lib/python3.10/site-packages/nltk/translate/bleu_score.py:490: UserWarning: \n",
      "Corpus/Sentence contains 0 counts of 2-gram overlaps.\n",
      "BLEU scores might be undesirable; use SmoothingFunction().\n",
      "  warnings.warn(_msg)\n"
     ]
    },
    {
     "name": "stdout",
     "output_type": "stream",
     "text": [
      "Input Sentence Wenn auch langsam, so schreiten wir heute ohne den geringsten Zweifel auf dem Weg dieser neuen, internationalen Werteordnung voran. Gefördert wird diese Entwicklung durch die Globalisierung der Information, die helfen wird, diese Werteordnung im kollektiven Bewußtsein unserer Gesellschaften zu verankern.\n",
      "Predicted Sentence if so , we are [UNK] , once again , we are discussing the fact that the new [UNK] , [UNK] [UNK] , [UNK] , [UNK] , [UNK] , [UNK] , [UNK] , [UNK] , [UNK] , [UNK] , [UNK] , [UNK] , [UNK] , [UNK] our society . \n",
      "Actual Sentence Although it is a slow process, there can be no doubt that we are already on the way to establishing this new international set of values and that the process of information globalisation is assisting in this and helping it to take root in our societies' collective consciousness.\n",
      "BLEU Score: 0.2777619034011791 \n",
      "\n",
      "(1, 44, 256)\n",
      "Input Sentence Dieses Vorgehen muß von unseren Bürgern in dem Sinne verinnerlicht werden, daß sich ein Automatismus der Reaktion auf Handlungen herausbildet, die eine Mißachtung der grundlegenden Prinzipien darstellen, die in der heutigen Zeit als gemeinsames Erbe zu verstehen sind.\n",
      "Predicted Sentence this approach must be taken in the spirit of our citizens , that is a [UNK] achievement of the political values which have a [UNK] [UNK] , which is the joint interest in today s common heritage . \n",
      "Actual Sentence Our citizens need to take this process on board in order to establish a mechanism for reacting to actions which show a lack of respect for the fundamental principles which should nowadays be regarded as our common heritage.\n",
      "BLEU Score: 0.749634235443537 \n",
      "\n",
      "(1, 46, 256)\n",
      "Input Sentence Durch die Schaffung internationaler Gerichtshöfe wie die, die es bereits im Zusammenhang mit dem ehemaligen Jugoslawien oder Ruanda gibt, sind wir einen Schritt vorangekommen, um denjenigen das Leben zu erschweren, die Zuwiderhandlungen gegen die Werte der Genfer Abkommen unterstützen.\n",
      "Predicted Sentence the creation of a framework of the partnership agreement with the cooperation between the former and [UNK] , we are one step forward , in terms of the [UNK] of the geneva convention . \n",
      "Actual Sentence In creating international tribunals like those now dealing with the former Yugoslavia and Rwanda, we have taken a step forward in making life more difficult for people who encourage acts which infringe the values of the Geneva Conventions.\n",
      "BLEU Score: 0.4043138575060458 \n",
      "\n",
      "(1, 24, 256)\n",
      "Input Sentence Diese Personen müssen langsam begreifen, daß die Welt ein Raum geworden ist, in dem Straffreiheit nicht die Regel ist.\n",
      "Predicted Sentence these people need to be [UNK] that the world should be a [UNK] of the [UNK] . \n",
      "Actual Sentence These people must start to realise that the world is no longer a place where impunity is the rule.\n",
      "BLEU Score: 0.21516592737555662 \n",
      "\n",
      "(1, 37, 256)\n",
      "Input Sentence Wenn sich diese Botschaft durchsetzt, werden wir mit Sicherheit zur Stärkung des humanitären Rechts und zur notwendigen Glaubwürdigkeit und Wirksamkeit der Grundsätze beitragen, deren Schutz die Genfer Abkommen und ihre Protokolle galten.\n",
      "Predicted Sentence if these message is to be [UNK] , we shall be making sure that the protection of humanitarian law and the effectiveness of the conventions are able to contribute to the geneva convention and its protocol . \n",
      "Actual Sentence If we can get this message across, we will certainly be helping to strengthen human rights and to give the principles which the Geneva Conventions and their protocols aim to protect the credibility and effectiveness that they need.\n",
      "BLEU Score: 0.7493724426704971 \n",
      "\n",
      "(1, 39, 256)\n",
      "Input Sentence Ich möchte den Herrn Präsidenten persönlich beglückwünschen und nunmehr das Wort im Namen der Sozialistischen Fraktion in dieser Debatte ergreifen, die sich an die - für uns - zufriedenstellende Erklärung des Rates zu den Genfer Abkommen anschließt.\n",
      "Predicted Sentence i would like to congratulate the commissioner and now , on behalf of the socialist group , on behalf of the socialist group , which is to say the importance of the geneva convention . \n",
      "Actual Sentence I congratulate the President for domestic reasons. I would now like to speak, on behalf of the Socialist Group, in this debate which follows what we consider to be a satisfactory statement from the Council on the Geneva Convention.\n",
      "BLEU Score: 0.09323660253242873 \n",
      "\n",
      "(1, 35, 256)\n",
      "Input Sentence Ich möchte zunächst kurz darauf eingehen, warum meine Fraktion zu demselben Thema in der letzten Plenartagung des Parlaments von 1999 eine Entschließung vorlegte, die dann aus anderweitigen Gründen nicht diskutiert wurde.\n",
      "Predicted Sentence i should like to begin by thanking my group , why my group [UNK] on the subject of the last plenary partsession of parliament , the [UNK] group of the resolution that has been [UNK] rejected . \n",
      "Actual Sentence I will begin with an initial comment explaining the reasons why my Group tabled a resolution on this same subject during the last session of Parliament in 1999. This resolution was never debated for reasons which we will not go into here.\n",
      "BLEU Score: 0.3058038855089204 \n",
      "\n",
      "(1, 60, 256)\n",
      "Input Sentence Wir halten es für völlig legitim, daß wir im Europäischen Parlament zu Normen Stellung nehmen, die den juristischen Besitzstand der Menschheit bereichert haben, und wir müssen jede Gelegenheit nutzen, um die Wirkung dieser Instrumente angesichts des durch sie gebotenen Schutzes und der durch sie garantierten Rechte in Erinnerung zu rufen und zu verstärken.\n",
      "Predicted Sentence we believe that we are right to [UNK] that in the european parliament , we have to adopt standards in favour of the legal base , and we must be able to use the [UNK] of the [UNK] of the [UNK] of the [UNK] , and we must be able\n",
      "Actual Sentence It seems to us highly appropriate to speak in the European Parliament of regulations which have enriched humanity' s legal heritage and we should take every opportunity to recall and strengthen the validity of those instruments given the protection they offer and the rights they safeguard.\n",
      "BLEU Score: 0.33265096878635064 \n",
      "\n",
      "(1, 55, 256)\n",
      "Input Sentence Ein weiteres Argument für die Annahme einer Entschließung, wie wir sie vorgelegt hatten, geht davon aus, daß vielem von dem, was die europäischen Institutionen realisieren, das Streben nach Gleichgewicht und Gerechtigkeit zugrunde liegt. Das sind Begriffe, die mit bewaffneten Konfliktsituationen nicht oder kaum vereinbar sind.\n",
      "Predicted Sentence another argument for adoption of a resolution which we had to be seen in the resolution that the european institutions , which is based on the relationship between the european institutions , which is , in fact , and not the [UNK] , which are [UNK] , or not the\n",
      "Actual Sentence Another reason for adopting a resolution such as the one we are tabling is the fact that much of the work of the European institutions is aimed at finding balance and equality, and these are concepts which are almost completely incompatible with armed conflict.\n",
      "BLEU Score: 0.34322444242039396 \n",
      "\n",
      "(1, 42, 256)\n",
      "Input Sentence Die Hauptopfer der Konflikte - die Kinder, die Frauen, die Bevölkerung insgesamt - sind die ersten, die in Gefahr sind und denen Leid zugefügt wird, und wir müssen ihren Schutz in die vorrangigen Ziele unserer Aktion einzubeziehen.\n",
      "Predicted Sentence the [UNK] of the [UNK] population , women are [UNK] the whole , of the population which are the most [UNK] , which are the most [UNK] , and we must have a protection in favour of the headline goals for our actions . \n",
      "Actual Sentence The main victims of conflicts - children, women and the population in general - are the first to be threatened and to suffer and we must make their protection one of the priority objectives of our action.\n",
      "BLEU Score: 0.17527610358734902 \n",
      "\n",
      "(1, 48, 256)\n",
      "Input Sentence Je mehr wir gegen die Verletzungen des humanitären Völkerrechts tun, je mehr wir die übrigen Staaten - unter Nutzung aller Möglichkeiten unserer außenpolitischen Beziehungen - an die Notwendigkeit der Ratifizierung und Respektierung der Genfer Abkommen erinnern, um so mehr tun wir für diese schwächste Gruppe.\n",
      "Predicted Sentence the more we are more against the background of certain violations of humanitarian intervention , the rest of the european union is more concerned , more clearly , in order to ensure that all of our own countries , the european convention is to be regretted , and that the\n",
      "Actual Sentence The more we do to prevent violations of international humanitarian law, the more we remind other states - by means of all the opportunities which our foreign relations offer us - of the need to ratify and respect the Geneva Convention and the more we will be doing to protect these weakest groups.\n",
      "BLEU Score: 0.15209432065761352 \n",
      "\n"
     ]
    }
   ],
   "source": [
    "from nltk.translate.bleu_score import sentence_bleu\n",
    "\n",
    "for i in range(25001,25017): # evaluating 15 unseen sentences which were not a part of training data\n",
    "    try:\n",
    "        result = model.translate([europarl_lines_bp['German_Text'].values[i]]) \n",
    "        hypothesis = result[0].numpy().decode()\n",
    "        print('Input Sentence', europarl_lines_bp['German_Text'].values[i])\n",
    "        print('Predicted Sentence', hypothesis)\n",
    "        print('Actual Sentence', europarl_lines_bp['English_Text'].values[i])\n",
    "        hypothesis = str(hypothesis).split()\n",
    "        reference = str(europarl_lines_bp['English_Text'].values[i]).split()\n",
    "        #the maximum is bigram, so assign the weight into 2 half.\n",
    "        BLEUscore = sentence_bleu([reference], hypothesis)\n",
    "        print('BLEU Score:',BLEUscore, '\\n')\n",
    "    except:\n",
    "        continue"
   ]
  },
  {
   "cell_type": "code",
   "execution_count": null,
   "id": "767ae9aa",
   "metadata": {
    "papermill": {
     "duration": 0.175532,
     "end_time": "2023-05-12T08:57:33.102283",
     "exception": false,
     "start_time": "2023-05-12T08:57:32.926751",
     "status": "completed"
    },
    "tags": []
   },
   "outputs": [],
   "source": []
  }
 ],
 "metadata": {
  "kernelspec": {
   "display_name": "Python 3",
   "language": "python",
   "name": "python3"
  },
  "language_info": {
   "codemirror_mode": {
    "name": "ipython",
    "version": 3
   },
   "file_extension": ".py",
   "mimetype": "text/x-python",
   "name": "python",
   "nbconvert_exporter": "python",
   "pygments_lexer": "ipython3",
   "version": "3.10.10"
  },
  "papermill": {
   "default_parameters": {},
   "duration": 3270.952757,
   "end_time": "2023-05-12T08:57:36.720178",
   "environment_variables": {},
   "exception": null,
   "input_path": "__notebook__.ipynb",
   "output_path": "__notebook__.ipynb",
   "parameters": {},
   "start_time": "2023-05-12T08:03:05.767421",
   "version": "2.4.0"
  }
 },
 "nbformat": 4,
 "nbformat_minor": 5
}
