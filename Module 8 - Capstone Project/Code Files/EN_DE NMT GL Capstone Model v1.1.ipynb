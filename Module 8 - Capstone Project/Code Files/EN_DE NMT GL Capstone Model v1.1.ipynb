{
 "cells": [
  {
   "cell_type": "code",
   "execution_count": 1,
   "id": "a3850ecb",
   "metadata": {
    "execution": {
     "iopub.execute_input": "2023-05-12T08:02:37.120961Z",
     "iopub.status.busy": "2023-05-12T08:02:37.120524Z",
     "iopub.status.idle": "2023-05-12T08:02:45.899753Z",
     "shell.execute_reply": "2023-05-12T08:02:45.898503Z"
    },
    "papermill": {
     "duration": 8.79331,
     "end_time": "2023-05-12T08:02:45.902364",
     "exception": false,
     "start_time": "2023-05-12T08:02:37.109054",
     "status": "completed"
    },
    "tags": []
   },
   "outputs": [
    {
     "name": "stderr",
     "output_type": "stream",
     "text": [
      "/opt/conda/lib/python3.10/site-packages/scipy/__init__.py:146: UserWarning: A NumPy version >=1.16.5 and <1.23.0 is required for this version of SciPy (detected version 1.23.5\n",
      "  warnings.warn(f\"A NumPy version >={np_minversion} and <{np_maxversion}\"\n"
     ]
    }
   ],
   "source": [
    "import pandas as pd\n",
    "import numpy as np\n",
    "import string\n",
    "from string import digits\n",
    "import matplotlib.pyplot as plt\n",
    "%matplotlib inline\n",
    "import tensorflow as tf\n",
    "import matplotlib.ticker as ticker\n",
    "from sklearn.model_selection import train_test_split\n",
    "import re\n",
    "import os\n",
    "import io\n",
    "import time\n",
    "\n",
    "import unicodedata\n",
    "import re\n",
    "import numpy as np\n",
    "import os\n",
    "import io\n",
    "import time\n",
    "import tensorflow_text as tf_text"
   ]
  },
  {
   "cell_type": "code",
   "execution_count": 2,
   "id": "c3a44cd0",
   "metadata": {
    "execution": {
     "iopub.execute_input": "2023-05-12T08:02:45.923492Z",
     "iopub.status.busy": "2023-05-12T08:02:45.922476Z",
     "iopub.status.idle": "2023-05-12T08:02:46.465003Z",
     "shell.execute_reply": "2023-05-12T08:02:46.462986Z"
    },
    "papermill": {
     "duration": 0.555131,
     "end_time": "2023-05-12T08:02:46.467267",
     "exception": false,
     "start_time": "2023-05-12T08:02:45.912136",
     "status": "completed"
    },
    "tags": []
   },
   "outputs": [
    {
     "data": {
      "text/html": [
       "<div>\n",
       "<style scoped>\n",
       "    .dataframe tbody tr th:only-of-type {\n",
       "        vertical-align: middle;\n",
       "    }\n",
       "\n",
       "    .dataframe tbody tr th {\n",
       "        vertical-align: top;\n",
       "    }\n",
       "\n",
       "    .dataframe thead th {\n",
       "        text-align: right;\n",
       "    }\n",
       "</style>\n",
       "<table border=\"1\" class=\"dataframe\">\n",
       "  <thead>\n",
       "    <tr style=\"text-align: right;\">\n",
       "      <th></th>\n",
       "      <th>index</th>\n",
       "      <th>German_Text</th>\n",
       "      <th>English_Text</th>\n",
       "      <th>all_text</th>\n",
       "    </tr>\n",
       "  </thead>\n",
       "  <tbody>\n",
       "    <tr>\n",
       "      <th>0</th>\n",
       "      <td>0</td>\n",
       "      <td>Wiederaufnahme der Sitzungsperiode</td>\n",
       "      <td>Resumption of the session</td>\n",
       "      <td>Resumption of the session;Wiederaufnahme der S...</td>\n",
       "    </tr>\n",
       "    <tr>\n",
       "      <th>1</th>\n",
       "      <td>1</td>\n",
       "      <td>Ich erkläre die am Freitag, dem 17. Dezember u...</td>\n",
       "      <td>I declare resumed the session of the European ...</td>\n",
       "      <td>I declare resumed the session of the European ...</td>\n",
       "    </tr>\n",
       "    <tr>\n",
       "      <th>2</th>\n",
       "      <td>2</td>\n",
       "      <td>Wie Sie feststellen konnten, ist der gefürchte...</td>\n",
       "      <td>Although, as you will have seen, the dreaded '...</td>\n",
       "      <td>Although, as you will have seen, the dreaded '...</td>\n",
       "    </tr>\n",
       "    <tr>\n",
       "      <th>3</th>\n",
       "      <td>3</td>\n",
       "      <td>Im Parlament besteht der Wunsch nach einer Aus...</td>\n",
       "      <td>You have requested a debate on this subject in...</td>\n",
       "      <td>You have requested a debate on this subject in...</td>\n",
       "    </tr>\n",
       "    <tr>\n",
       "      <th>4</th>\n",
       "      <td>4</td>\n",
       "      <td>Heute möchte ich Sie bitten - das ist auch der...</td>\n",
       "      <td>In the meantime, I should like to observe a mi...</td>\n",
       "      <td>In the meantime, I should like to observe a mi...</td>\n",
       "    </tr>\n",
       "  </tbody>\n",
       "</table>\n",
       "</div>"
      ],
      "text/plain": [
       "   index                                        German_Text  \\\n",
       "0      0                 Wiederaufnahme der Sitzungsperiode   \n",
       "1      1  Ich erkläre die am Freitag, dem 17. Dezember u...   \n",
       "2      2  Wie Sie feststellen konnten, ist der gefürchte...   \n",
       "3      3  Im Parlament besteht der Wunsch nach einer Aus...   \n",
       "4      4  Heute möchte ich Sie bitten - das ist auch der...   \n",
       "\n",
       "                                        English_Text  \\\n",
       "0                          Resumption of the session   \n",
       "1  I declare resumed the session of the European ...   \n",
       "2  Although, as you will have seen, the dreaded '...   \n",
       "3  You have requested a debate on this subject in...   \n",
       "4  In the meantime, I should like to observe a mi...   \n",
       "\n",
       "                                            all_text  \n",
       "0  Resumption of the session;Wiederaufnahme der S...  \n",
       "1  I declare resumed the session of the European ...  \n",
       "2  Although, as you will have seen, the dreaded '...  \n",
       "3  You have requested a debate on this subject in...  \n",
       "4  In the meantime, I should like to observe a mi...  "
      ]
     },
     "execution_count": 2,
     "metadata": {},
     "output_type": "execute_result"
    }
   ],
   "source": [
    "europarl_lines = pd.read_csv('/kaggle/input/nmt-capstone/europarl-v7.csv')\n",
    "europarl_lines_bp = europarl_lines.copy()\n",
    "europarl_lines = europarl_lines[:25000]\n",
    "europarl_lines.reset_index(drop=True, inplace=True)\n",
    "europarl_lines.head()"
   ]
  },
  {
   "cell_type": "code",
   "execution_count": 3,
   "id": "cb0e6229",
   "metadata": {
    "execution": {
     "iopub.execute_input": "2023-05-12T08:02:46.488638Z",
     "iopub.status.busy": "2023-05-12T08:02:46.487506Z",
     "iopub.status.idle": "2023-05-12T08:02:46.680554Z",
     "shell.execute_reply": "2023-05-12T08:02:46.679747Z"
    },
    "papermill": {
     "duration": 0.205636,
     "end_time": "2023-05-12T08:02:46.682524",
     "exception": false,
     "start_time": "2023-05-12T08:02:46.476888",
     "status": "completed"
    },
    "tags": []
   },
   "outputs": [
    {
     "name": "stdout",
     "output_type": "stream",
     "text": [
      "Mr President, the European Union, which advocates and practises a set of values which we are proud to say is at the forefront of the international community, has been emphasising the vital importance of observing the Geneva Conventions.\n"
     ]
    }
   ],
   "source": [
    "target_raw = np.array(list(europarl_lines['German_Text'].values))\n",
    "context_raw = np.array(list(europarl_lines['English_Text'].values))\n",
    "print(context_raw[-1])"
   ]
  },
  {
   "cell_type": "code",
   "execution_count": 4,
   "id": "cf88fa2f",
   "metadata": {
    "execution": {
     "iopub.execute_input": "2023-05-12T08:02:46.703387Z",
     "iopub.status.busy": "2023-05-12T08:02:46.702565Z",
     "iopub.status.idle": "2023-05-12T08:02:47.070188Z",
     "shell.execute_reply": "2023-05-12T08:02:47.069073Z"
    },
    "papermill": {
     "duration": 0.381156,
     "end_time": "2023-05-12T08:02:47.073140",
     "exception": false,
     "start_time": "2023-05-12T08:02:46.691984",
     "status": "completed"
    },
    "tags": []
   },
   "outputs": [],
   "source": [
    "BUFFER_SIZE = len(context_raw)\n",
    "BATCH_SIZE = 64\n",
    "\n",
    "is_train = np.random.uniform(size=(len(target_raw),)) < 0.8\n",
    "\n",
    "train_raw = (\n",
    "    tf.data.Dataset\n",
    "    .from_tensor_slices((context_raw[is_train], target_raw[is_train]))\n",
    "    .shuffle(BUFFER_SIZE)\n",
    "    .batch(BATCH_SIZE))\n",
    "val_raw = (\n",
    "    tf.data.Dataset\n",
    "    .from_tensor_slices((context_raw[~is_train], target_raw[~is_train]))\n",
    "    .shuffle(BUFFER_SIZE)\n",
    "    .batch(BATCH_SIZE))"
   ]
  },
  {
   "cell_type": "code",
   "execution_count": 5,
   "id": "aba3f2d1",
   "metadata": {
    "execution": {
     "iopub.execute_input": "2023-05-12T08:02:47.093978Z",
     "iopub.status.busy": "2023-05-12T08:02:47.093595Z",
     "iopub.status.idle": "2023-05-12T08:02:47.099877Z",
     "shell.execute_reply": "2023-05-12T08:02:47.098901Z"
    },
    "papermill": {
     "duration": 0.019126,
     "end_time": "2023-05-12T08:02:47.101917",
     "exception": false,
     "start_time": "2023-05-12T08:02:47.082791",
     "status": "completed"
    },
    "tags": []
   },
   "outputs": [],
   "source": [
    "def tf_lower_and_split_punct(text):\n",
    "  # Split accented characters.\n",
    "  text = tf_text.normalize_utf8(text, 'NFKD')\n",
    "  text = tf.strings.lower(text)\n",
    "  # Keep space, a to z, and select punctuation.\n",
    "  text = tf.strings.regex_replace(text, '[^ a-z.?!,¿]', '')\n",
    "  # Add spaces around punctuation.\n",
    "  text = tf.strings.regex_replace(text, '[.?!,¿]', r' \\0 ')\n",
    "  # Strip whitespace.\n",
    "  text = tf.strings.strip(text)\n",
    "\n",
    "  text = tf.strings.join(['[START]', text, '[END]'], separator=' ')\n",
    "  return text"
   ]
  },
  {
   "cell_type": "code",
   "execution_count": 6,
   "id": "c30e37e0",
   "metadata": {
    "execution": {
     "iopub.execute_input": "2023-05-12T08:02:47.123849Z",
     "iopub.status.busy": "2023-05-12T08:02:47.122908Z",
     "iopub.status.idle": "2023-05-12T08:02:47.150974Z",
     "shell.execute_reply": "2023-05-12T08:02:47.150034Z"
    },
    "papermill": {
     "duration": 0.041872,
     "end_time": "2023-05-12T08:02:47.153339",
     "exception": false,
     "start_time": "2023-05-12T08:02:47.111467",
     "status": "completed"
    },
    "tags": []
   },
   "outputs": [],
   "source": [
    "max_vocab_size = 5000\n",
    "\n",
    "context_text_processor = tf.keras.layers.TextVectorization(\n",
    "    standardize=tf_lower_and_split_punct,\n",
    "    max_tokens=max_vocab_size,\n",
    "    ragged=True)"
   ]
  },
  {
   "cell_type": "code",
   "execution_count": 7,
   "id": "cf8a90b0",
   "metadata": {
    "execution": {
     "iopub.execute_input": "2023-05-12T08:02:47.173935Z",
     "iopub.status.busy": "2023-05-12T08:02:47.172908Z",
     "iopub.status.idle": "2023-05-12T08:02:48.035179Z",
     "shell.execute_reply": "2023-05-12T08:02:48.034159Z"
    },
    "papermill": {
     "duration": 0.874943,
     "end_time": "2023-05-12T08:02:48.037536",
     "exception": false,
     "start_time": "2023-05-12T08:02:47.162593",
     "status": "completed"
    },
    "tags": []
   },
   "outputs": [
    {
     "data": {
      "text/plain": [
       "['', '[UNK]', 'the', ',', '.', '[START]', '[END]', 'of', 'to', 'and']"
      ]
     },
     "execution_count": 7,
     "metadata": {},
     "output_type": "execute_result"
    }
   ],
   "source": [
    "context_text_processor.adapt(train_raw.map(lambda context, target: context))\n",
    "\n",
    "# Here are the first 10 words from the vocabulary:\n",
    "context_text_processor.get_vocabulary()[:10]"
   ]
  },
  {
   "cell_type": "code",
   "execution_count": 8,
   "id": "0ae3a7cc",
   "metadata": {
    "execution": {
     "iopub.execute_input": "2023-05-12T08:02:48.058769Z",
     "iopub.status.busy": "2023-05-12T08:02:48.057755Z",
     "iopub.status.idle": "2023-05-12T08:02:48.771355Z",
     "shell.execute_reply": "2023-05-12T08:02:48.770465Z"
    },
    "papermill": {
     "duration": 0.726528,
     "end_time": "2023-05-12T08:02:48.773512",
     "exception": false,
     "start_time": "2023-05-12T08:02:48.046984",
     "status": "completed"
    },
    "tags": []
   },
   "outputs": [
    {
     "data": {
      "text/plain": [
       "['', '[UNK]', ',', 'die', '.', '[START]', '[END]', 'der', 'und', 'in']"
      ]
     },
     "execution_count": 8,
     "metadata": {},
     "output_type": "execute_result"
    }
   ],
   "source": [
    "target_text_processor = tf.keras.layers.TextVectorization(\n",
    "    standardize=tf_lower_and_split_punct,\n",
    "    max_tokens=max_vocab_size,\n",
    "    ragged=True)\n",
    "\n",
    "target_text_processor.adapt(train_raw.map(lambda context, target: target))\n",
    "target_text_processor.get_vocabulary()[:10]"
   ]
  },
  {
   "cell_type": "code",
   "execution_count": 9,
   "id": "986e0b63",
   "metadata": {
    "execution": {
     "iopub.execute_input": "2023-05-12T08:02:48.794565Z",
     "iopub.status.busy": "2023-05-12T08:02:48.794008Z",
     "iopub.status.idle": "2023-05-12T08:02:48.871345Z",
     "shell.execute_reply": "2023-05-12T08:02:48.870243Z"
    },
    "papermill": {
     "duration": 0.090509,
     "end_time": "2023-05-12T08:02:48.873585",
     "exception": false,
     "start_time": "2023-05-12T08:02:48.783076",
     "status": "completed"
    },
    "tags": []
   },
   "outputs": [
    {
     "name": "stdout",
     "output_type": "stream",
     "text": [
      "\n",
      "tf.Tensor(\n",
      "[b'Pr\\xc3\\xa4sident Wahid ben\\xc3\\xb6tigt unsere Unterst\\xc3\\xbctzung, um die schwierige Situation zu bew\\xc3\\xa4ltigen, vor der er steht.'\n",
      " b'Ein Ziel dieses Programms ist die Erarbeitung und Kontrolle von Methoden, Strategien und Ma\\xc3\\x9fnahmen zur F\\xc3\\xb6rderung einer gleichm\\xc3\\xa4\\xc3\\x9figen Verteilung der Geschlechter bei den Entscheidungsprozessen, u. a. in verantwortlichen Positionen.'\n",
      " b'Wir schlagen vor, diese Bestimmungen um die Festlegung von Rechten und Pflichten f\\xc3\\xbcr Beamte zu erg\\xc3\\xa4nzen, denen zufolge sie vermutetes Fehlverhalten \\xc3\\xbcber interne Kan\\xc3\\xa4le, jedoch nicht ausschlie\\xc3\\x9flich auf der gleichen Hierarchieebene anzeigen m\\xc3\\xbcssen.'\n",
      " b'In dieser Hinsicht \\xc3\\xbcbertr\\xc3\\xa4gt der andere Beschlu\\xc3\\x9f von Helsinki, ich meine die Anerkennung des Beitrittsgesuchs der T\\xc3\\xbcrkei, den 15 Mitgliedstaaten eine neue Verantwortung, w\\xc3\\xa4hrend er gleichzeitig auch neue M\\xc3\\xb6glichkeiten er\\xc3\\xb6ffnet. Meines Erachtens kann und mu\\xc3\\x9f der Dialog der Union mit Ankara den festen Willen zum Ausdruck bringen, da\\xc3\\x9f man von der T\\xc3\\xbcrkei hinsichtlich des Dialogs zwischen den beiden Volksgruppen auf Zypern eine konstruktive Haltung erwartet, die die internationalen Legalit\\xc3\\xa4t respektiert und die M\\xc3\\xb6glichkeit schafft, die Wiedervereinigung Zyperns und den Frieden im Mittelmeerraum herbeizuf\\xc3\\xbchren.'\n",
      " b'Ich halte es dennoch f\\xc3\\xbcr erforderlich, und das sagt er auch immer wieder, da\\xc3\\x9f es auf der bevorstehenden Regierungskonferenz zu einer \\xc3\\x84nderung des Mitentscheidungsverfahrens kommt, dann mu\\xc3\\x9f es kein Einstimmigkeitsprinzip geben.'], shape=(5,), dtype=string)\n"
     ]
    }
   ],
   "source": [
    "for example_context_strings, example_target_strings in train_raw.take(1):\n",
    "#   print(example_context_strings[:5])\n",
    "  print()\n",
    "  print(example_target_strings[:5])\n",
    "  break"
   ]
  },
  {
   "cell_type": "code",
   "execution_count": 10,
   "id": "1e620ae8",
   "metadata": {
    "execution": {
     "iopub.execute_input": "2023-05-12T08:02:48.894668Z",
     "iopub.status.busy": "2023-05-12T08:02:48.894289Z",
     "iopub.status.idle": "2023-05-12T08:02:49.001689Z",
     "shell.execute_reply": "2023-05-12T08:02:49.000804Z"
    },
    "papermill": {
     "duration": 0.120538,
     "end_time": "2023-05-12T08:02:49.003906",
     "exception": false,
     "start_time": "2023-05-12T08:02:48.883368",
     "status": "completed"
    },
    "tags": []
   },
   "outputs": [
    {
     "data": {
      "text/plain": [
       "<tf.RaggedTensor [[5, 46, 1, 399, 41, 121, 8, 4087, 26, 2, 394, 176, 209, 11, 1719, 26, 4, 6],\n",
       " [5, 59, 7, 2, 265, 1337, 11, 8, 765, 9, 3876, 1419, 3, 1778, 9, 178, 16,\n",
       "  1062, 1666, 918, 10, 2, 893, 173, 9, 10, 1094, 7, 323, 4, 6]           ,\n",
       " [5, 15, 750, 8, 3036, 114, 566, 28, 2605, 2, 81, 9, 1452, 16, 1035, 8, 72,\n",
       "  1, 1, 288, 364, 2436, 36, 25, 2186, 119, 2, 163, 1, 630, 4, 6]           ]>"
      ]
     },
     "execution_count": 10,
     "metadata": {},
     "output_type": "execute_result"
    }
   ],
   "source": [
    "example_tokens = context_text_processor(example_context_strings)\n",
    "example_tokens[:3, :]"
   ]
  },
  {
   "cell_type": "code",
   "execution_count": 11,
   "id": "6397e598",
   "metadata": {
    "execution": {
     "iopub.execute_input": "2023-05-12T08:02:49.025918Z",
     "iopub.status.busy": "2023-05-12T08:02:49.024870Z",
     "iopub.status.idle": "2023-05-12T08:02:49.047992Z",
     "shell.execute_reply": "2023-05-12T08:02:49.046878Z"
    },
    "papermill": {
     "duration": 0.03636,
     "end_time": "2023-05-12T08:02:49.050235",
     "exception": false,
     "start_time": "2023-05-12T08:02:49.013875",
     "status": "completed"
    },
    "tags": []
   },
   "outputs": [
    {
     "data": {
      "text/plain": [
       "'[START] president [UNK] needs our support to cope with the difficult situation he is faced with . [END]'"
      ]
     },
     "execution_count": 11,
     "metadata": {},
     "output_type": "execute_result"
    }
   ],
   "source": [
    "context_vocab = np.array(context_text_processor.get_vocabulary())\n",
    "tokens = context_vocab[example_tokens[0].numpy()]\n",
    "' '.join(tokens)"
   ]
  },
  {
   "cell_type": "code",
   "execution_count": 12,
   "id": "71c1050c",
   "metadata": {
    "execution": {
     "iopub.execute_input": "2023-05-12T08:02:49.072258Z",
     "iopub.status.busy": "2023-05-12T08:02:49.071367Z",
     "iopub.status.idle": "2023-05-12T08:02:49.345855Z",
     "shell.execute_reply": "2023-05-12T08:02:49.344771Z"
    },
    "papermill": {
     "duration": 0.288224,
     "end_time": "2023-05-12T08:02:49.348284",
     "exception": false,
     "start_time": "2023-05-12T08:02:49.060060",
     "status": "completed"
    },
    "tags": []
   },
   "outputs": [],
   "source": [
    "def process_text(context, target):\n",
    "  context = context_text_processor(context).to_tensor()\n",
    "  target = target_text_processor(target)\n",
    "  targ_in = target[:,:-1].to_tensor()\n",
    "  targ_out = target[:,1:].to_tensor()\n",
    "  return (context, targ_in), targ_out\n",
    "\n",
    "\n",
    "train_ds = train_raw.map(process_text, tf.data.AUTOTUNE)\n",
    "val_ds = val_raw.map(process_text, tf.data.AUTOTUNE)"
   ]
  },
  {
   "cell_type": "code",
   "execution_count": 13,
   "id": "9100759e",
   "metadata": {
    "execution": {
     "iopub.execute_input": "2023-05-12T08:02:49.372007Z",
     "iopub.status.busy": "2023-05-12T08:02:49.371499Z",
     "iopub.status.idle": "2023-05-12T08:02:49.514766Z",
     "shell.execute_reply": "2023-05-12T08:02:49.513421Z"
    },
    "papermill": {
     "duration": 0.158571,
     "end_time": "2023-05-12T08:02:49.517123",
     "exception": false,
     "start_time": "2023-05-12T08:02:49.358552",
     "status": "completed"
    },
    "tags": []
   },
   "outputs": [
    {
     "name": "stdout",
     "output_type": "stream",
     "text": [
      "[  5  12 877   7  87  22  37  10 330   7]\n",
      "\n",
      "[  5 167  34  28 127   2 170  19  26 168]\n",
      "[167  34  28 127   2 170  19  26 168 186]\n"
     ]
    }
   ],
   "source": [
    "for (ex_context_tok, ex_tar_in), ex_tar_out in train_ds.take(1):\n",
    "  print(ex_context_tok[0, :10].numpy()) \n",
    "  print()\n",
    "  print(ex_tar_in[0, :10].numpy()) \n",
    "  print(ex_tar_out[0, :10].numpy())"
   ]
  },
  {
   "cell_type": "code",
   "execution_count": 14,
   "id": "29941a72",
   "metadata": {
    "execution": {
     "iopub.execute_input": "2023-05-12T08:02:49.539114Z",
     "iopub.status.busy": "2023-05-12T08:02:49.538372Z",
     "iopub.status.idle": "2023-05-12T08:02:49.542958Z",
     "shell.execute_reply": "2023-05-12T08:02:49.541885Z"
    },
    "papermill": {
     "duration": 0.017766,
     "end_time": "2023-05-12T08:02:49.544861",
     "exception": false,
     "start_time": "2023-05-12T08:02:49.527095",
     "status": "completed"
    },
    "tags": []
   },
   "outputs": [],
   "source": [
    "UNITS = 256"
   ]
  },
  {
   "cell_type": "code",
   "execution_count": 15,
   "id": "d2e6b3c3",
   "metadata": {
    "execution": {
     "iopub.execute_input": "2023-05-12T08:02:49.566558Z",
     "iopub.status.busy": "2023-05-12T08:02:49.565945Z",
     "iopub.status.idle": "2023-05-12T08:02:49.574654Z",
     "shell.execute_reply": "2023-05-12T08:02:49.573668Z"
    },
    "papermill": {
     "duration": 0.021911,
     "end_time": "2023-05-12T08:02:49.576667",
     "exception": false,
     "start_time": "2023-05-12T08:02:49.554756",
     "status": "completed"
    },
    "tags": []
   },
   "outputs": [],
   "source": [
    "class Encoder(tf.keras.layers.Layer):\n",
    "  def __init__(self, text_processor, units):\n",
    "    super(Encoder, self).__init__()\n",
    "    self.text_processor = text_processor\n",
    "    self.vocab_size = text_processor.vocabulary_size()\n",
    "    self.units = units\n",
    "\n",
    "    # The embedding layer converts tokens to vectors\n",
    "    self.embedding = tf.keras.layers.Embedding(self.vocab_size, units,\n",
    "                                               mask_zero=True)\n",
    "\n",
    "    # The RNN layer processes those vectors sequentially.\n",
    "    self.rnn = tf.keras.layers.Bidirectional(\n",
    "        merge_mode='sum',\n",
    "        layer=tf.keras.layers.GRU(units,\n",
    "                            # Return the sequence and state\n",
    "                            return_sequences=True,\n",
    "                            recurrent_initializer='glorot_uniform'))\n",
    "\n",
    "  def call(self, x):\n",
    "#     shape_checker = ShapeChecker()\n",
    "#     shape_checker(x, 'batch s')\n",
    "\n",
    "    # 2. The embedding layer looks up the embedding vector for each token.\n",
    "    x = self.embedding(x)\n",
    "    print(x.shape)\n",
    "#     shape_checker(x, 'batch s units')\n",
    "\n",
    "    # 3. The GRU processes the sequence of embeddings.\n",
    "    x = self.rnn(x)\n",
    "#     shape_checker(x, 'batch s units')\n",
    "\n",
    "    # 4. Returns the new sequence of embeddings.\n",
    "    return x\n",
    "\n",
    "  def convert_input(self, texts):\n",
    "    texts = tf.convert_to_tensor(texts)\n",
    "    if len(texts.shape) == 0:\n",
    "      texts = tf.convert_to_tensor(texts)[tf.newaxis]\n",
    "    context = self.text_processor(texts).to_tensor()\n",
    "    context = self(context)\n",
    "    return context"
   ]
  },
  {
   "cell_type": "code",
   "execution_count": 16,
   "id": "3002690a",
   "metadata": {
    "execution": {
     "iopub.execute_input": "2023-05-12T08:02:49.598276Z",
     "iopub.status.busy": "2023-05-12T08:02:49.597931Z",
     "iopub.status.idle": "2023-05-12T08:02:50.366029Z",
     "shell.execute_reply": "2023-05-12T08:02:50.364852Z"
    },
    "papermill": {
     "duration": 0.781676,
     "end_time": "2023-05-12T08:02:50.368252",
     "exception": false,
     "start_time": "2023-05-12T08:02:49.586576",
     "status": "completed"
    },
    "tags": []
   },
   "outputs": [
    {
     "name": "stdout",
     "output_type": "stream",
     "text": [
      "(64, 73, 256)\n",
      "Context tokens, shape (batch, s): (64, 73)\n",
      "Encoder output, shape (batch, s, units): (64, 73, 256)\n"
     ]
    }
   ],
   "source": [
    "# Encode the input sequence.\n",
    "encoder = Encoder(context_text_processor, UNITS)\n",
    "ex_context = encoder(ex_context_tok)\n",
    "\n",
    "print(f'Context tokens, shape (batch, s): {ex_context_tok.shape}')\n",
    "print(f'Encoder output, shape (batch, s, units): {ex_context.shape}')"
   ]
  },
  {
   "cell_type": "code",
   "execution_count": 17,
   "id": "75f6bc41",
   "metadata": {
    "execution": {
     "iopub.execute_input": "2023-05-12T08:02:50.390603Z",
     "iopub.status.busy": "2023-05-12T08:02:50.390219Z",
     "iopub.status.idle": "2023-05-12T08:02:50.397608Z",
     "shell.execute_reply": "2023-05-12T08:02:50.396733Z"
    },
    "papermill": {
     "duration": 0.020756,
     "end_time": "2023-05-12T08:02:50.399640",
     "exception": false,
     "start_time": "2023-05-12T08:02:50.378884",
     "status": "completed"
    },
    "tags": []
   },
   "outputs": [],
   "source": [
    "class CrossAttention(tf.keras.layers.Layer):\n",
    "  def __init__(self, units, **kwargs):\n",
    "    super().__init__()\n",
    "    self.mha = tf.keras.layers.MultiHeadAttention(key_dim=units, num_heads=1, **kwargs)\n",
    "    self.layernorm = tf.keras.layers.LayerNormalization()\n",
    "    self.add = tf.keras.layers.Add()\n",
    "\n",
    "  def call(self, x, context):\n",
    "#     shape_checker = ShapeChecker()\n",
    "\n",
    "#     shape_checker(x, 'batch t units')\n",
    "#     shape_checker(context, 'batch s units')\n",
    "\n",
    "    attn_output, attn_scores = self.mha(\n",
    "        query=x,\n",
    "        value=context,\n",
    "        return_attention_scores=True)\n",
    "\n",
    "#     shape_checker(x, 'batch t units')\n",
    "#     shape_checker(attn_scores, 'batch heads t s')\n",
    "\n",
    "    # Cache the attention scores for plotting later.\n",
    "    attn_scores = tf.reduce_mean(attn_scores, axis=1)\n",
    "#     shape_checker(attn_scores, 'batch t s')\n",
    "    self.last_attention_weights = attn_scores\n",
    "\n",
    "    x = self.add([x, attn_output])\n",
    "    x = self.layernorm(x)\n",
    "\n",
    "    return x"
   ]
  },
  {
   "cell_type": "code",
   "execution_count": 18,
   "id": "f39ed1ef",
   "metadata": {
    "execution": {
     "iopub.execute_input": "2023-05-12T08:02:50.421176Z",
     "iopub.status.busy": "2023-05-12T08:02:50.420814Z",
     "iopub.status.idle": "2023-05-12T08:02:50.591127Z",
     "shell.execute_reply": "2023-05-12T08:02:50.589932Z"
    },
    "papermill": {
     "duration": 0.183805,
     "end_time": "2023-05-12T08:02:50.593290",
     "exception": false,
     "start_time": "2023-05-12T08:02:50.409485",
     "status": "completed"
    },
    "tags": []
   },
   "outputs": [
    {
     "name": "stdout",
     "output_type": "stream",
     "text": [
      "Context sequence, shape (batch, s, units): (64, 73, 256)\n",
      "Target sequence, shape (batch, t, units): (64, 67, 256)\n",
      "Attention result, shape (batch, t, units): (64, 67, 256)\n",
      "Attention weights, shape (batch, t, s):    (64, 67, 73)\n"
     ]
    }
   ],
   "source": [
    "attention_layer = CrossAttention(UNITS)\n",
    "\n",
    "# Attend to the encoded tokens\n",
    "embed = tf.keras.layers.Embedding(target_text_processor.vocabulary_size(),\n",
    "                                  output_dim=UNITS, mask_zero=True)\n",
    "ex_tar_embed = embed(ex_tar_in)\n",
    "\n",
    "result = attention_layer(ex_tar_embed, ex_context)\n",
    "\n",
    "print(f'Context sequence, shape (batch, s, units): {ex_context.shape}')\n",
    "print(f'Target sequence, shape (batch, t, units): {ex_tar_embed.shape}')\n",
    "print(f'Attention result, shape (batch, t, units): {result.shape}')\n",
    "print(f'Attention weights, shape (batch, t, s):    {attention_layer.last_attention_weights.shape}')"
   ]
  },
  {
   "cell_type": "code",
   "execution_count": 19,
   "id": "86a50970",
   "metadata": {
    "execution": {
     "iopub.execute_input": "2023-05-12T08:02:50.615082Z",
     "iopub.status.busy": "2023-05-12T08:02:50.614696Z",
     "iopub.status.idle": "2023-05-12T08:02:51.228485Z",
     "shell.execute_reply": "2023-05-12T08:02:51.226315Z"
    },
    "papermill": {
     "duration": 0.627288,
     "end_time": "2023-05-12T08:02:51.230566",
     "exception": false,
     "start_time": "2023-05-12T08:02:50.603278",
     "status": "completed"
    },
    "tags": []
   },
   "outputs": [
    {
     "data": {
      "image/png": "[encoded data removed]",
      "text/plain": [
       "<Figure size 640x480 with 2 Axes>"
      ]
     },
     "metadata": {},
     "output_type": "display_data"
    }
   ],
   "source": [
    "attention_weights = attention_layer.last_attention_weights\n",
    "mask=(ex_context_tok != 0).numpy()\n",
    "\n",
    "plt.subplot(1, 2, 1)\n",
    "plt.pcolormesh(mask*attention_weights[:, 0, :])\n",
    "plt.title('Attention weights')\n",
    "\n",
    "plt.subplot(1, 2, 2)\n",
    "plt.pcolormesh(mask)\n",
    "plt.title('Mask');"
   ]
  },
  {
   "cell_type": "code",
   "execution_count": 20,
   "id": "89b12d8e",
   "metadata": {
    "execution": {
     "iopub.execute_input": "2023-05-12T08:02:51.253807Z",
     "iopub.status.busy": "2023-05-12T08:02:51.253356Z",
     "iopub.status.idle": "2023-05-12T08:02:51.262228Z",
     "shell.execute_reply": "2023-05-12T08:02:51.261189Z"
    },
    "papermill": {
     "duration": 0.023092,
     "end_time": "2023-05-12T08:02:51.264191",
     "exception": false,
     "start_time": "2023-05-12T08:02:51.241099",
     "status": "completed"
    },
    "tags": []
   },
   "outputs": [],
   "source": [
    "class Decoder(tf.keras.layers.Layer):\n",
    "  @classmethod\n",
    "  def add_method(cls, fun):\n",
    "    setattr(cls, fun.__name__, fun)\n",
    "    return fun\n",
    "\n",
    "  def __init__(self, text_processor, units):\n",
    "    super(Decoder, self).__init__()\n",
    "    self.text_processor = text_processor\n",
    "    self.vocab_size = text_processor.vocabulary_size()\n",
    "    self.word_to_id = tf.keras.layers.StringLookup(\n",
    "        vocabulary=text_processor.get_vocabulary(),\n",
    "        mask_token='', oov_token='[UNK]')\n",
    "    self.id_to_word = tf.keras.layers.StringLookup(\n",
    "        vocabulary=text_processor.get_vocabulary(),\n",
    "        mask_token='', oov_token='[UNK]',\n",
    "        invert=True)\n",
    "    self.start_token = self.word_to_id('[START]')\n",
    "    self.end_token = self.word_to_id('[END]')\n",
    "\n",
    "    self.units = units\n",
    "\n",
    "\n",
    "    # 1. The embedding layer converts token IDs to vectors\n",
    "    self.embedding = tf.keras.layers.Embedding(self.vocab_size,\n",
    "                                               units, mask_zero=True)\n",
    "\n",
    "    # 2. The RNN keeps track of what's been generated so far.\n",
    "    self.rnn = tf.keras.layers.GRU(units,\n",
    "                                   return_sequences=True,\n",
    "                                   return_state=True,\n",
    "                                   recurrent_initializer='glorot_uniform')\n",
    "\n",
    "    # 3. The RNN output will be the query for the attention layer.\n",
    "    self.attention = CrossAttention(units)\n",
    "\n",
    "    # 4. This fully connected layer produces the logits for each\n",
    "    # output token.\n",
    "    self.output_layer = tf.keras.layers.Dense(self.vocab_size)"
   ]
  },
  {
   "cell_type": "code",
   "execution_count": 21,
   "id": "d5b36eeb",
   "metadata": {
    "execution": {
     "iopub.execute_input": "2023-05-12T08:02:51.287062Z",
     "iopub.status.busy": "2023-05-12T08:02:51.286311Z",
     "iopub.status.idle": "2023-05-12T08:02:51.292529Z",
     "shell.execute_reply": "2023-05-12T08:02:51.291805Z"
    },
    "papermill": {
     "duration": 0.019812,
     "end_time": "2023-05-12T08:02:51.294422",
     "exception": false,
     "start_time": "2023-05-12T08:02:51.274610",
     "status": "completed"
    },
    "tags": []
   },
   "outputs": [],
   "source": [
    "@Decoder.add_method\n",
    "def call(self,\n",
    "         context, x,\n",
    "         state=None,\n",
    "         return_state=False):  \n",
    "#   shape_checker = ShapeChecker()\n",
    "#   shape_checker(x, 'batch t')\n",
    "#   shape_checker(context, 'batch s units')\n",
    "\n",
    "  # 1. Lookup the embeddings\n",
    "  x = self.embedding(x)\n",
    "#   shape_checker(x, 'batch t units')\n",
    "\n",
    "  # 2. Process the target sequence.\n",
    "  x, state = self.rnn(x, initial_state=state)\n",
    "#   shape_checker(x, 'batch t units')\n",
    "\n",
    "  # 3. Use the RNN output as the query for the attention over the context.\n",
    "  x = self.attention(x, context)\n",
    "  self.last_attention_weights = self.attention.last_attention_weights\n",
    "#   shape_checker(x, 'batch t units')\n",
    "#   shape_checker(self.last_attention_weights, 'batch t s')\n",
    "\n",
    "  # Step 4. Generate logit predictions for the next token.\n",
    "  logits = self.output_layer(x)\n",
    "#   shape_checker(logits, 'batch t target_vocab_size')\n",
    "\n",
    "  if return_state:\n",
    "    return logits, state\n",
    "  else:\n",
    "    return logits"
   ]
  },
  {
   "cell_type": "code",
   "execution_count": 22,
   "id": "cda89554",
   "metadata": {
    "execution": {
     "iopub.execute_input": "2023-05-12T08:02:51.316547Z",
     "iopub.status.busy": "2023-05-12T08:02:51.316147Z",
     "iopub.status.idle": "2023-05-12T08:02:51.463552Z",
     "shell.execute_reply": "2023-05-12T08:02:51.462725Z"
    },
    "papermill": {
     "duration": 0.161068,
     "end_time": "2023-05-12T08:02:51.465699",
     "exception": false,
     "start_time": "2023-05-12T08:02:51.304631",
     "status": "completed"
    },
    "tags": []
   },
   "outputs": [],
   "source": [
    "decoder = Decoder(target_text_processor, UNITS)"
   ]
  },
  {
   "cell_type": "code",
   "execution_count": 23,
   "id": "5b435326",
   "metadata": {
    "execution": {
     "iopub.execute_input": "2023-05-12T08:02:51.488857Z",
     "iopub.status.busy": "2023-05-12T08:02:51.488274Z",
     "iopub.status.idle": "2023-05-12T08:02:52.046022Z",
     "shell.execute_reply": "2023-05-12T08:02:52.044610Z"
    },
    "papermill": {
     "duration": 0.571864,
     "end_time": "2023-05-12T08:02:52.048306",
     "exception": false,
     "start_time": "2023-05-12T08:02:51.476442",
     "status": "completed"
    },
    "tags": []
   },
   "outputs": [
    {
     "name": "stdout",
     "output_type": "stream",
     "text": [
      "encoder output shape: (batch, s, units) (64, 73, 256)\n",
      "input target tokens shape: (batch, t) (64, 67)\n",
      "logits shape shape: (batch, target_vocabulary_size) (64, 67, 5000)\n"
     ]
    }
   ],
   "source": [
    "logits = decoder(ex_context, ex_tar_in)\n",
    "\n",
    "print(f'encoder output shape: (batch, s, units) {ex_context.shape}')\n",
    "print(f'input target tokens shape: (batch, t) {ex_tar_in.shape}')\n",
    "print(f'logits shape shape: (batch, target_vocabulary_size) {logits.shape}')"
   ]
  },
  {
   "cell_type": "code",
   "execution_count": 24,
   "id": "2b749377",
   "metadata": {
    "execution": {
     "iopub.execute_input": "2023-05-12T08:02:52.071427Z",
     "iopub.status.busy": "2023-05-12T08:02:52.070392Z",
     "iopub.status.idle": "2023-05-12T08:02:52.076299Z",
     "shell.execute_reply": "2023-05-12T08:02:52.075408Z"
    },
    "papermill": {
     "duration": 0.019457,
     "end_time": "2023-05-12T08:02:52.078253",
     "exception": false,
     "start_time": "2023-05-12T08:02:52.058796",
     "status": "completed"
    },
    "tags": []
   },
   "outputs": [],
   "source": [
    "@Decoder.add_method\n",
    "def get_initial_state(self, context):\n",
    "  batch_size = tf.shape(context)[0]\n",
    "  start_tokens = tf.fill([batch_size, 1], self.start_token)\n",
    "  done = tf.zeros([batch_size, 1], dtype=tf.bool)\n",
    "  embedded = self.embedding(start_tokens)\n",
    "  return start_tokens, done, self.rnn.get_initial_state(embedded)[0]"
   ]
  },
  {
   "cell_type": "code",
   "execution_count": 25,
   "id": "48c77c4c",
   "metadata": {
    "execution": {
     "iopub.execute_input": "2023-05-12T08:02:52.101141Z",
     "iopub.status.busy": "2023-05-12T08:02:52.100788Z",
     "iopub.status.idle": "2023-05-12T08:02:52.106563Z",
     "shell.execute_reply": "2023-05-12T08:02:52.105640Z"
    },
    "papermill": {
     "duration": 0.019862,
     "end_time": "2023-05-12T08:02:52.108567",
     "exception": false,
     "start_time": "2023-05-12T08:02:52.088705",
     "status": "completed"
    },
    "tags": []
   },
   "outputs": [],
   "source": [
    "@Decoder.add_method\n",
    "def tokens_to_text(self, tokens):\n",
    "  words = self.id_to_word(tokens)\n",
    "  result = tf.strings.reduce_join(words, axis=-1, separator=' ')\n",
    "  result = tf.strings.regex_replace(result, '^ *\\[START\\] *', '')\n",
    "  result = tf.strings.regex_replace(result, ' *\\[END\\] *$', '')\n",
    "  return result"
   ]
  },
  {
   "cell_type": "code",
   "execution_count": 26,
   "id": "e29e127e",
   "metadata": {
    "execution": {
     "iopub.execute_input": "2023-05-12T08:02:52.131143Z",
     "iopub.status.busy": "2023-05-12T08:02:52.130797Z",
     "iopub.status.idle": "2023-05-12T08:02:52.138370Z",
     "shell.execute_reply": "2023-05-12T08:02:52.137511Z"
    },
    "papermill": {
     "duration": 0.021369,
     "end_time": "2023-05-12T08:02:52.140488",
     "exception": false,
     "start_time": "2023-05-12T08:02:52.119119",
     "status": "completed"
    },
    "tags": []
   },
   "outputs": [],
   "source": [
    "@Decoder.add_method\n",
    "def get_next_token(self, context, next_token, done, state, temperature = 0.0):\n",
    "  logits, state = self(\n",
    "    context, next_token,\n",
    "    state = state,\n",
    "    return_state=True) \n",
    "\n",
    "  if temperature == 0.0:\n",
    "    next_token = tf.argmax(logits, axis=-1)\n",
    "  else:\n",
    "    logits = logits[:, -1, :]/temperature\n",
    "    next_token = tf.random.categorical(logits, num_samples=1)\n",
    "\n",
    "  # If a sequence produces an `end_token`, set it `done`\n",
    "  done = done | (next_token == self.end_token)\n",
    "  # Once a sequence is done it only produces 0-padding.\n",
    "  next_token = tf.where(done, tf.constant(0, dtype=tf.int64), next_token)\n",
    "\n",
    "  return next_token, done, state"
   ]
  },
  {
   "cell_type": "code",
   "execution_count": 27,
   "id": "08e4c9b0",
   "metadata": {
    "execution": {
     "iopub.execute_input": "2023-05-12T08:02:52.162634Z",
     "iopub.status.busy": "2023-05-12T08:02:52.162294Z",
     "iopub.status.idle": "2023-05-12T08:02:52.731777Z",
     "shell.execute_reply": "2023-05-12T08:02:52.730611Z"
    },
    "papermill": {
     "duration": 0.583461,
     "end_time": "2023-05-12T08:02:52.734305",
     "exception": false,
     "start_time": "2023-05-12T08:02:52.150844",
     "status": "completed"
    },
    "tags": []
   },
   "outputs": [
    {
     "data": {
      "text/plain": [
       "array([b'schulden zur strenger wirtschaft kompromi insbesondere intensiv beruflichen zerstoren dokuments',\n",
       "       b'erscheint letzte urban generationen gestatten momentan wahlperiode teilnehmen chancengleichheit ware',\n",
       "       b'verhalten entschlossen extremen da komplizierten binnenmarktes samtliche ruland beratung befurchtungen'],\n",
       "      dtype=object)"
      ]
     },
     "execution_count": 27,
     "metadata": {},
     "output_type": "execute_result"
    }
   ],
   "source": [
    "# Setup the loop variables.\n",
    "next_token, done, state = decoder.get_initial_state(ex_context)\n",
    "tokens = []\n",
    "\n",
    "for n in range(10):\n",
    "  # Run one step.\n",
    "  next_token, done, state = decoder.get_next_token(\n",
    "      ex_context, next_token, done, state, temperature=1.0)\n",
    "  # Add the token to the output.\n",
    "  tokens.append(next_token)\n",
    "\n",
    "# Stack all the tokens together.\n",
    "tokens = tf.concat(tokens, axis=-1) # (batch, t)\n",
    "\n",
    "# Convert the tokens back to a a string\n",
    "result = decoder.tokens_to_text(tokens)\n",
    "result[:3].numpy()"
   ]
  },
  {
   "cell_type": "code",
   "execution_count": 28,
   "id": "3c38ea03",
   "metadata": {
    "execution": {
     "iopub.execute_input": "2023-05-12T08:02:52.757064Z",
     "iopub.status.busy": "2023-05-12T08:02:52.756675Z",
     "iopub.status.idle": "2023-05-12T08:02:52.763605Z",
     "shell.execute_reply": "2023-05-12T08:02:52.762610Z"
    },
    "papermill": {
     "duration": 0.020593,
     "end_time": "2023-05-12T08:02:52.765638",
     "exception": false,
     "start_time": "2023-05-12T08:02:52.745045",
     "status": "completed"
    },
    "tags": []
   },
   "outputs": [],
   "source": [
    "class Translator(tf.keras.Model):\n",
    "  @classmethod\n",
    "  def add_method(cls, fun):\n",
    "    setattr(cls, fun.__name__, fun)\n",
    "    return fun\n",
    "\n",
    "  def __init__(self, units,\n",
    "               context_text_processor,\n",
    "               target_text_processor):\n",
    "    super().__init__()\n",
    "    # Build the encoder and decoder\n",
    "    encoder = Encoder(context_text_processor, units)\n",
    "    decoder = Decoder(target_text_processor, units)\n",
    "\n",
    "    self.encoder = encoder\n",
    "    self.decoder = decoder\n",
    "\n",
    "  def call(self, inputs):\n",
    "    context, x = inputs\n",
    "    context = self.encoder(context)\n",
    "    logits = self.decoder(context, x)\n",
    "\n",
    "    #TODO(b/250038731): remove this\n",
    "    try:\n",
    "      # Delete the keras mask, so keras doesn't scale the loss+accuracy. \n",
    "      del logits._keras_mask\n",
    "    except AttributeError:\n",
    "      pass\n",
    "\n",
    "    return logits"
   ]
  },
  {
   "cell_type": "code",
   "execution_count": 29,
   "id": "8304ba4c",
   "metadata": {
    "execution": {
     "iopub.execute_input": "2023-05-12T08:02:52.788002Z",
     "iopub.status.busy": "2023-05-12T08:02:52.787629Z",
     "iopub.status.idle": "2023-05-12T08:02:54.039276Z",
     "shell.execute_reply": "2023-05-12T08:02:54.038083Z"
    },
    "papermill": {
     "duration": 1.265294,
     "end_time": "2023-05-12T08:02:54.041531",
     "exception": false,
     "start_time": "2023-05-12T08:02:52.776237",
     "status": "completed"
    },
    "tags": []
   },
   "outputs": [
    {
     "name": "stdout",
     "output_type": "stream",
     "text": [
      "(64, 73, 256)\n",
      "Context tokens, shape: (batch, s, units) (64, 73)\n",
      "Target tokens, shape: (batch, t) (64, 67)\n",
      "logits, shape: (batch, t, target_vocabulary_size) (64, 67, 5000)\n"
     ]
    }
   ],
   "source": [
    "model = Translator(UNITS, context_text_processor, target_text_processor)\n",
    "\n",
    "logits = model((ex_context_tok, ex_tar_in))\n",
    "\n",
    "print(f'Context tokens, shape: (batch, s, units) {ex_context_tok.shape}')\n",
    "print(f'Target tokens, shape: (batch, t) {ex_tar_in.shape}')\n",
    "print(f'logits, shape: (batch, t, target_vocabulary_size) {logits.shape}')"
   ]
  },
  {
   "cell_type": "code",
   "execution_count": 30,
   "id": "bd131289",
   "metadata": {
    "execution": {
     "iopub.execute_input": "2023-05-12T08:02:54.065176Z",
     "iopub.status.busy": "2023-05-12T08:02:54.064800Z",
     "iopub.status.idle": "2023-05-12T08:02:54.070528Z",
     "shell.execute_reply": "2023-05-12T08:02:54.069520Z"
    },
    "papermill": {
     "duration": 0.020155,
     "end_time": "2023-05-12T08:02:54.072669",
     "exception": false,
     "start_time": "2023-05-12T08:02:54.052514",
     "status": "completed"
    },
    "tags": []
   },
   "outputs": [],
   "source": [
    "def masked_loss(y_true, y_pred):\n",
    "    # Calculate the loss for each item in the batch.\n",
    "    loss_fn = tf.keras.losses.SparseCategoricalCrossentropy(\n",
    "        from_logits=True, reduction='none')\n",
    "    loss = loss_fn(y_true, y_pred)\n",
    "\n",
    "    # Mask off the losses on padding.\n",
    "    mask = tf.cast(y_true != 0, loss.dtype)\n",
    "    loss *= mask\n",
    "\n",
    "    # Return the total.\n",
    "    return tf.reduce_sum(loss)/tf.reduce_sum(mask)"
   ]
  },
  {
   "cell_type": "code",
   "execution_count": 31,
   "id": "4c8fc50e",
   "metadata": {
    "execution": {
     "iopub.execute_input": "2023-05-12T08:02:54.097196Z",
     "iopub.status.busy": "2023-05-12T08:02:54.096586Z",
     "iopub.status.idle": "2023-05-12T08:02:54.102532Z",
     "shell.execute_reply": "2023-05-12T08:02:54.101397Z"
    },
    "papermill": {
     "duration": 0.020359,
     "end_time": "2023-05-12T08:02:54.104589",
     "exception": false,
     "start_time": "2023-05-12T08:02:54.084230",
     "status": "completed"
    },
    "tags": []
   },
   "outputs": [],
   "source": [
    "def masked_acc(y_true, y_pred):\n",
    "    # Calculate the loss for each item in the batch.\n",
    "    y_pred = tf.argmax(y_pred, axis=-1)\n",
    "    y_pred = tf.cast(y_pred, y_true.dtype)\n",
    "\n",
    "    match = tf.cast(y_true == y_pred, tf.float32)\n",
    "    mask = tf.cast(y_true != 0, tf.float32)\n",
    "\n",
    "    return tf.reduce_sum(match)/tf.reduce_sum(mask)"
   ]
  },
  {
   "cell_type": "code",
   "execution_count": 32,
   "id": "aee55653",
   "metadata": {
    "execution": {
     "iopub.execute_input": "2023-05-12T08:02:54.128481Z",
     "iopub.status.busy": "2023-05-12T08:02:54.127783Z",
     "iopub.status.idle": "2023-05-12T08:02:54.166818Z",
     "shell.execute_reply": "2023-05-12T08:02:54.165708Z"
    },
    "papermill": {
     "duration": 0.053673,
     "end_time": "2023-05-12T08:02:54.169316",
     "exception": false,
     "start_time": "2023-05-12T08:02:54.115643",
     "status": "completed"
    },
    "tags": []
   },
   "outputs": [],
   "source": [
    "model.compile(optimizer='adam',\n",
    "              loss=masked_loss, \n",
    "              metrics=[masked_acc, masked_loss])"
   ]
  },
  {
   "cell_type": "code",
   "execution_count": 33,
   "id": "1ab0d26c",
   "metadata": {
    "execution": {
     "iopub.execute_input": "2023-05-12T08:02:54.192606Z",
     "iopub.status.busy": "2023-05-12T08:02:54.192220Z",
     "iopub.status.idle": "2023-05-12T08:02:54.202590Z",
     "shell.execute_reply": "2023-05-12T08:02:54.201594Z"
    },
    "papermill": {
     "duration": 0.02451,
     "end_time": "2023-05-12T08:02:54.204862",
     "exception": false,
     "start_time": "2023-05-12T08:02:54.180352",
     "status": "completed"
    },
    "tags": []
   },
   "outputs": [
    {
     "data": {
      "text/plain": [
       "{'expected_loss': 8.517193, 'expected_acc': 0.0002}"
      ]
     },
     "execution_count": 33,
     "metadata": {},
     "output_type": "execute_result"
    }
   ],
   "source": [
    "vocab_size = 1.0 * target_text_processor.vocabulary_size()\n",
    "\n",
    "{\"expected_loss\": tf.math.log(vocab_size).numpy(),\n",
    " \"expected_acc\": 1/vocab_size}"
   ]
  },
  {
   "cell_type": "code",
   "execution_count": 34,
   "id": "e96d7a21",
   "metadata": {
    "execution": {
     "iopub.execute_input": "2023-05-12T08:02:54.228915Z",
     "iopub.status.busy": "2023-05-12T08:02:54.228497Z",
     "iopub.status.idle": "2023-05-12T08:03:15.346694Z",
     "shell.execute_reply": "2023-05-12T08:03:15.345594Z"
    },
    "papermill": {
     "duration": 21.132645,
     "end_time": "2023-05-12T08:03:15.348952",
     "exception": false,
     "start_time": "2023-05-12T08:02:54.216307",
     "status": "completed"
    },
    "tags": []
   },
   "outputs": [
    {
     "name": "stdout",
     "output_type": "stream",
     "text": [
      "(None, None, 256)\n",
      "(None, None, 256)\n",
      "20/20 [==============================] - 21s 693ms/step - loss: 8.5165 - masked_acc: 2.3119e-04 - masked_loss: 8.5165\n"
     ]
    },
    {
     "data": {
      "text/plain": [
       "{'loss': 8.516520500183105,\n",
       " 'masked_acc': 0.00023118554963730276,\n",
       " 'masked_loss': 8.516520500183105}"
      ]
     },
     "execution_count": 34,
     "metadata": {},
     "output_type": "execute_result"
    }
   ],
   "source": [
    "model.evaluate(val_ds, steps=20, return_dict=True)"
   ]
  },
  {
   "cell_type": "code",
   "execution_count": 35,
   "id": "eb3506ca",
   "metadata": {
    "execution": {
     "iopub.execute_input": "2023-05-12T08:03:15.376118Z",
     "iopub.status.busy": "2023-05-12T08:03:15.375381Z",
     "iopub.status.idle": "2023-05-12T08:53:43.322273Z",
     "shell.execute_reply": "2023-05-12T08:53:43.321064Z"
    },
    "papermill": {
     "duration": 3028.052205,
     "end_time": "2023-05-12T08:53:43.413646",
     "exception": false,
     "start_time": "2023-05-12T08:03:15.361441",
     "status": "completed"
    },
    "tags": []
   },
   "outputs": [
    {
     "name": "stdout",
     "output_type": "stream",
     "text": [
      "Epoch 1/100\n",
      "(None, None, 256)\n",
      "(None, None, 256)\n",
      "100/100 [==============================] - 177s 2s/step - loss: 5.7603 - masked_acc: 0.1420 - masked_loss: 5.7603 - val_loss: 4.9759 - val_masked_acc: 0.2185 - val_masked_loss: 4.9759\n",
      "Epoch 2/100\n",
      "100/100 [==============================] - 166s 2s/step - loss: 4.7385 - masked_acc: 0.2377 - masked_loss: 4.7385 - val_loss: 4.4990 - val_masked_acc: 0.2537 - val_masked_loss: 4.4990\n",
      "Epoch 3/100\n",
      "100/100 [==============================] - 168s 2s/step - loss: 4.4015 - masked_acc: 0.2642 - masked_loss: 4.4015 - val_loss: 4.2178 - val_masked_acc: 0.2830 - val_masked_loss: 4.2178\n",
      "Epoch 4/100\n",
      "100/100 [==============================] - 169s 2s/step - loss: 4.0511 - masked_acc: 0.2945 - masked_loss: 4.0515 - val_loss: 4.0620 - val_masked_acc: 0.2942 - val_masked_loss: 4.0620\n",
      "Epoch 5/100\n",
      "100/100 [==============================] - 167s 2s/step - loss: 3.8996 - masked_acc: 0.3100 - masked_loss: 3.8996 - val_loss: 3.8956 - val_masked_acc: 0.3133 - val_masked_loss: 3.8956\n",
      "Epoch 6/100\n",
      "100/100 [==============================] - 171s 2s/step - loss: 3.7418 - masked_acc: 0.3278 - masked_loss: 3.7418 - val_loss: 3.7227 - val_masked_acc: 0.3289 - val_masked_loss: 3.7227\n",
      "Epoch 7/100\n",
      "100/100 [==============================] - 166s 2s/step - loss: 3.4271 - masked_acc: 0.3553 - masked_loss: 3.4277 - val_loss: 3.6351 - val_masked_acc: 0.3383 - val_masked_loss: 3.6351\n",
      "Epoch 8/100\n",
      "100/100 [==============================] - 167s 2s/step - loss: 3.3041 - masked_acc: 0.3695 - masked_loss: 3.3041 - val_loss: 3.5910 - val_masked_acc: 0.3421 - val_masked_loss: 3.5910\n",
      "Epoch 9/100\n",
      "100/100 [==============================] - 169s 2s/step - loss: 3.2509 - masked_acc: 0.3756 - masked_loss: 3.2509 - val_loss: 3.4214 - val_masked_acc: 0.3647 - val_masked_loss: 3.4214\n",
      "Epoch 10/100\n",
      "100/100 [==============================] - 167s 2s/step - loss: 2.9515 - masked_acc: 0.4101 - masked_loss: 2.9521 - val_loss: 3.3834 - val_masked_acc: 0.3699 - val_masked_loss: 3.3834\n",
      "Epoch 11/100\n",
      "100/100 [==============================] - 165s 2s/step - loss: 2.8653 - masked_acc: 0.4182 - masked_loss: 2.8653 - val_loss: 3.3933 - val_masked_acc: 0.3663 - val_masked_loss: 3.3933\n",
      "Epoch 12/100\n",
      "100/100 [==============================] - 167s 2s/step - loss: 2.8630 - masked_acc: 0.4189 - masked_loss: 2.8630 - val_loss: 3.2735 - val_masked_acc: 0.3867 - val_masked_loss: 3.2735\n",
      "Epoch 13/100\n",
      "100/100 [==============================] - 168s 2s/step - loss: 2.6549 - masked_acc: 0.4473 - masked_loss: 2.6561 - val_loss: 3.2893 - val_masked_acc: 0.3852 - val_masked_loss: 3.2893\n",
      "Epoch 14/100\n",
      "100/100 [==============================] - 168s 2s/step - loss: 2.5191 - masked_acc: 0.4618 - masked_loss: 2.5191 - val_loss: 3.2621 - val_masked_acc: 0.3865 - val_masked_loss: 3.2621\n",
      "Epoch 15/100\n",
      "100/100 [==============================] - 171s 2s/step - loss: 2.5791 - masked_acc: 0.4541 - masked_loss: 2.5791 - val_loss: 3.2164 - val_masked_acc: 0.3915 - val_masked_loss: 3.2164\n",
      "Epoch 16/100\n",
      "100/100 [==============================] - 162s 2s/step - loss: 2.4233 - masked_acc: 0.4789 - masked_loss: 2.4238 - val_loss: 3.2408 - val_masked_acc: 0.3950 - val_masked_loss: 3.2408\n",
      "Epoch 17/100\n",
      "100/100 [==============================] - 171s 2s/step - loss: 2.2668 - masked_acc: 0.4984 - masked_loss: 2.2668 - val_loss: 3.2515 - val_masked_acc: 0.3922 - val_masked_loss: 3.2515\n",
      "Epoch 18/100\n",
      "100/100 [==============================] - 170s 2s/step - loss: 2.3253 - masked_acc: 0.4888 - masked_loss: 2.3253 - val_loss: 3.2406 - val_masked_acc: 0.3958 - val_masked_loss: 3.2406\n"
     ]
    }
   ],
   "source": [
    "history = model.fit(\n",
    "    train_ds.repeat(), \n",
    "    epochs=100,\n",
    "    steps_per_epoch = 100,\n",
    "    validation_data=val_ds,\n",
    "    validation_steps = 20,\n",
    "    callbacks=[\n",
    "        tf.keras.callbacks.EarlyStopping(patience=3)])"
   ]
  },
  {
   "cell_type": "code",
   "execution_count": 36,
   "id": "73dac420",
   "metadata": {
    "execution": {
     "iopub.execute_input": "2023-05-12T08:53:43.670665Z",
     "iopub.status.busy": "2023-05-12T08:53:43.670254Z",
     "iopub.status.idle": "2023-05-12T08:53:50.016009Z",
     "shell.execute_reply": "2023-05-12T08:53:50.015038Z"
    },
    "papermill": {
     "duration": 6.478436,
     "end_time": "2023-05-12T08:53:50.018577",
     "exception": false,
     "start_time": "2023-05-12T08:53:43.540141",
     "status": "completed"
    },
    "tags": []
   },
   "outputs": [
    {
     "data": {
      "text/plain": [
       "<matplotlib.legend.Legend at 0x7af69a10c6a0>"
      ]
     },
     "execution_count": 36,
     "metadata": {},
     "output_type": "execute_result"
    },
    {
     "data": {
      "image/png": "[encoded data removed]",
      "text/plain": [
       "<Figure size 640x480 with 1 Axes>"
      ]
     },
     "metadata": {},
     "output_type": "display_data"
    }
   ],
   "source": [
    "plt.plot(history.history['loss'], label='loss')\n",
    "plt.plot(history.history['val_loss'], label='val_loss')\n",
    "plt.ylim([0, max(plt.ylim())])\n",
    "plt.xlabel('Epoch #')\n",
    "plt.ylabel('CE/token')\n",
    "plt.legend()"
   ]
  },
  {
   "cell_type": "code",
   "execution_count": 37,
   "id": "ef216e77",
   "metadata": {
    "execution": {
     "iopub.execute_input": "2023-05-12T08:53:50.276447Z",
     "iopub.status.busy": "2023-05-12T08:53:50.275423Z",
     "iopub.status.idle": "2023-05-12T08:53:50.529954Z",
     "shell.execute_reply": "2023-05-12T08:53:50.528796Z"
    },
    "papermill": {
     "duration": 0.385603,
     "end_time": "2023-05-12T08:53:50.532239",
     "exception": false,
     "start_time": "2023-05-12T08:53:50.146636",
     "status": "completed"
    },
    "tags": []
   },
   "outputs": [
    {
     "data": {
      "text/plain": [
       "<matplotlib.legend.Legend at 0x7af69a10e260>"
      ]
     },
     "execution_count": 37,
     "metadata": {},
     "output_type": "execute_result"
    },
    {
     "data": {
      "image/png": "[encoded data removed]",
      "text/plain": [
       "<Figure size 640x480 with 1 Axes>"
      ]
     },
     "metadata": {},
     "output_type": "display_data"
    }
   ],
   "source": [
    "plt.plot(history.history['masked_acc'], label='accuracy')\n",
    "plt.plot(history.history['val_masked_acc'], label='val_accuracy')\n",
    "plt.ylim([0, max(plt.ylim())])\n",
    "plt.xlabel('Epoch #')\n",
    "plt.ylabel('CE/token')\n",
    "plt.legend()"
   ]
  },
  {
   "cell_type": "code",
   "execution_count": 38,
   "id": "1867ab44",
   "metadata": {
    "execution": {
     "iopub.execute_input": "2023-05-12T08:53:50.789189Z",
     "iopub.status.busy": "2023-05-12T08:53:50.788134Z",
     "iopub.status.idle": "2023-05-12T08:53:50.796696Z",
     "shell.execute_reply": "2023-05-12T08:53:50.795828Z"
    },
    "papermill": {
     "duration": 0.140268,
     "end_time": "2023-05-12T08:53:50.798882",
     "exception": false,
     "start_time": "2023-05-12T08:53:50.658614",
     "status": "completed"
    },
    "tags": []
   },
   "outputs": [],
   "source": [
    "@Translator.add_method\n",
    "def translate(self,\n",
    "              texts, *,\n",
    "              max_length=50,\n",
    "              temperature=0.0):\n",
    "  # Process the input texts\n",
    "  context = self.encoder.convert_input(texts)\n",
    "  batch_size = tf.shape(texts)[0]\n",
    "\n",
    "  # Setup the loop inputs\n",
    "  tokens = []\n",
    "  attention_weights = []\n",
    "  next_token, done, state = self.decoder.get_initial_state(context)\n",
    "\n",
    "  for _ in range(max_length):\n",
    "    # Generate the next token\n",
    "    next_token, done, state = self.decoder.get_next_token(\n",
    "        context, next_token, done,  state, temperature)\n",
    "\n",
    "    # Collect the generated tokens\n",
    "    tokens.append(next_token)\n",
    "    attention_weights.append(self.decoder.last_attention_weights)\n",
    "\n",
    "    if tf.executing_eagerly() and tf.reduce_all(done):\n",
    "      break\n",
    "\n",
    "  # Stack the lists of tokens and attention weights.\n",
    "  tokens = tf.concat(tokens, axis=-1)   # t*[(batch 1)] -> (batch, t)\n",
    "  self.last_attention_weights = tf.concat(attention_weights, axis=1)  # t*[(batch 1 s)] -> (batch, t s)\n",
    "\n",
    "  result = self.decoder.tokens_to_text(tokens)\n",
    "  return result"
   ]
  },
  {
   "cell_type": "code",
   "execution_count": 39,
   "id": "abf41117",
   "metadata": {
    "execution": {
     "iopub.execute_input": "2023-05-12T08:53:51.055468Z",
     "iopub.status.busy": "2023-05-12T08:53:51.054765Z",
     "iopub.status.idle": "2023-05-12T08:53:51.455280Z",
     "shell.execute_reply": "2023-05-12T08:53:51.454461Z"
    },
    "papermill": {
     "duration": 0.530757,
     "end_time": "2023-05-12T08:53:51.457530",
     "exception": false,
     "start_time": "2023-05-12T08:53:50.926773",
     "status": "completed"
    },
    "tags": []
   },
   "outputs": [
    {
     "name": "stdout",
     "output_type": "stream",
     "text": [
      "(1, 8, 256)\n"
     ]
    },
    {
     "data": {
      "text/plain": [
       "'die kommission hat den vorschlag des rates [UNK] . '"
      ]
     },
     "execution_count": 39,
     "metadata": {},
     "output_type": "execute_result"
    }
   ],
   "source": [
    "result = model.translate(['The commission has rejected the proposal']) \n",
    "result[0].numpy().decode()"
   ]
  },
  {
   "cell_type": "code",
   "execution_count": 40,
   "id": "60013f52",
   "metadata": {
    "execution": {
     "iopub.execute_input": "2023-05-12T08:53:51.714842Z",
     "iopub.status.busy": "2023-05-12T08:53:51.714093Z",
     "iopub.status.idle": "2023-05-12T08:54:15.729976Z",
     "shell.execute_reply": "2023-05-12T08:54:15.728577Z"
    },
    "papermill": {
     "duration": 24.147024,
     "end_time": "2023-05-12T08:54:15.732336",
     "exception": false,
     "start_time": "2023-05-12T08:53:51.585312",
     "status": "completed"
    },
    "tags": []
   },
   "outputs": [
    {
     "name": "stdout",
     "output_type": "stream",
     "text": [
      "(1, 35, 256)\n",
      "Input Sentence We are therefore alert to any risk of weakening the principles that unite us in this area, and we have always denounced any violations through our common foreign and security policy.\n",
      "Predicted Sentence wir sind also [UNK] , da die grundsatze in diesem bereich [UNK] , und wir haben immer wieder auf die achtung der gemeinsamen auen und sicherheitspolitik gesetzt . \n",
      "Actual Sentence Aus diesem Grund beobachten wir sehr aufmerksam alles, was eine Zuwiderhandlung gegen die Grundsätze darstellen könnte, die uns in diesem Bereich einen. Im Rahmen der Gemeinsamen Außen- und Sicherheitspolitik haben wir Verletzungen dieser Grundsätze stets angeprangert.\n",
      "BLEU Score: 0.24822529802838886 \n",
      "\n",
      "(1, 24, 256)\n"
     ]
    },
    {
     "name": "stderr",
     "output_type": "stream",
     "text": [
      "/opt/conda/lib/python3.10/site-packages/nltk/translate/bleu_score.py:490: UserWarning: \n",
      "Corpus/Sentence contains 0 counts of 3-gram overlaps.\n",
      "BLEU scores might be undesirable; use SmoothingFunction().\n",
      "  warnings.warn(_msg)\n"
     ]
    },
    {
     "name": "stdout",
     "output_type": "stream",
     "text": [
      "Input Sentence In such cases we seek to use the instruments available to us to exert pressure in a timely and effective way.\n",
      "Predicted Sentence in derartigen fallen sind wir instrumente , die instrumente zu [UNK] , um [UNK] und effizienter zu gestalten . \n",
      "Actual Sentence In solchen Fällen versuchen wir, mit Hilfe des uns zu Gebote stehenden Instrumentariums Druck auszuüben, der sowohl zeitlich als auch in seinen Folgen wirkungsvoll sein kann.\n",
      "BLEU Score: 0.3940631898226525 \n",
      "\n",
      "(1, 31, 256)\n"
     ]
    },
    {
     "name": "stderr",
     "output_type": "stream",
     "text": [
      "/opt/conda/lib/python3.10/site-packages/nltk/translate/bleu_score.py:490: UserWarning: \n",
      "Corpus/Sentence contains 0 counts of 2-gram overlaps.\n",
      "BLEU scores might be undesirable; use SmoothingFunction().\n",
      "  warnings.warn(_msg)\n"
     ]
    },
    {
     "name": "stdout",
     "output_type": "stream",
     "text": [
      "Input Sentence We are aware that in many cases we have not achieved everything we might wish, but we firmly intend to continue in future with the same determination.\n",
      "Predicted Sentence wir sind uns bewut , da wir in vielen fallen nicht erreicht haben , wir wollen , da wir in zukunft nicht erreichen wollen , aber wir mussen auch kunftig mit den gleichen entschlossenheit [UNK] . \n",
      "Actual Sentence Häufig haben wir - und dessen sind wir uns bewußt - das Gewünschte nicht erreicht. Wir sind jedoch fest entschlossen, auch künftig mit der gleichen Entschiedenheit vorzugehen.\n",
      "BLEU Score: 0.7071067811865476 \n",
      "\n",
      "(1, 40, 256)\n",
      "Input Sentence Mr President, despite the gravity and the frequency of human rights violations that the Geneva Conventions and their protocols attempt to prevent, I do believe that the new millennium gives us some cause for hope.\n",
      "Predicted Sentence herr prasident , trotz der [UNK] und [UNK] menschenrechtsverletzungen , die in new ubereinkommen und ihre protokolle uber die einhaltung dieses abkommen [UNK] , um [UNK] , [UNK] und [UNK] [UNK] zu wollen . \n",
      "Actual Sentence Herr Präsident! Ungeachtet der Schwere und der Häufigkeit der Verletzung der Menschenrechte, die die Genfer Abkommen und ihre Protokolle zu schützen suchen, bin ich der Meinung, daß das neue Jahrtausend sehr wohl einige Elemente der Hoffnung in sich birgt.\n",
      "BLEU Score: 0.2508461541030809 \n",
      "\n",
      "(1, 37, 256)\n",
      "Input Sentence This hope is primarily founded on gradually establishing an international set of values which means that it is already becoming difficult to take refuge behind spurious criteria such as cultural differences and national traits.\n",
      "Predicted Sentence dies ist in erster linie auf die notwendigkeit einer [UNK] [UNK] , die es ja schon schwierig ist , da es schwierig ist , wie auch die kulturellen [UNK] kriterien und nationaler [UNK] wie auch die nationalen [UNK] [UNK] . \n",
      "Actual Sentence Diese Hoffnung basiert im wesentlichen auf der fortschreitenden Stabilisierung einer internationalen Werteordnung, die sich schon jetzt nicht mehr hinter überholten Kriterien wie kulturellen Unterschieden und bestimmten nationalen Besonderheiten verstecken kann.\n",
      "BLEU Score: 0.668740304976422 \n",
      "\n",
      "(1, 52, 256)\n",
      "Input Sentence Although it is a slow process, there can be no doubt that we are already on the way to establishing this new international set of values and that the process of information globalisation is assisting in this and helping it to take root in our societies' collective consciousness.\n",
      "Predicted Sentence obwohl es sich um eine [UNK] geben kann , da wir uns uber die moglichkeiten der neuen internationalen [UNK] einfuhren , und da die [UNK] der [UNK] von [UNK] [UNK] und [UNK] [UNK] in unseren [UNK] [UNK] . \n",
      "Actual Sentence Wenn auch langsam, so schreiten wir heute ohne den geringsten Zweifel auf dem Weg dieser neuen, internationalen Werteordnung voran. Gefördert wird diese Entwicklung durch die Globalisierung der Information, die helfen wird, diese Werteordnung im kollektiven Bewußtsein unserer Gesellschaften zu verankern.\n",
      "BLEU Score: 0.5713983706066682 \n",
      "\n",
      "(1, 41, 256)\n",
      "Input Sentence Our citizens need to take this process on board in order to establish a mechanism for reacting to actions which show a lack of respect for the fundamental principles which should nowadays be regarded as our common heritage.\n",
      "Predicted Sentence unsere burger mussen diese [UNK] auf [UNK] [UNK] , um eine [UNK] wegen des [UNK] [UNK] , die heute das risiko [UNK] , das heute als [UNK] angesehen werden , die heute wie wir als [UNK] [UNK] angesehen werden . \n",
      "Actual Sentence Dieses Vorgehen muß von unseren Bürgern in dem Sinne verinnerlicht werden, daß sich ein Automatismus der Reaktion auf Handlungen herausbildet, die eine Mißachtung der grundlegenden Prinzipien darstellen, die in der heutigen Zeit als gemeinsames Erbe zu verstehen sind.\n",
      "BLEU Score: 0.5946035575013605 \n",
      "\n",
      "(1, 42, 256)\n",
      "Input Sentence In creating international tribunals like those now dealing with the former Yugoslavia and Rwanda, we have taken a step forward in making life more difficult for people who encourage acts which infringe the values of the Geneva Conventions.\n",
      "Predicted Sentence in der [UNK] [UNK] [UNK] kontakte zum [UNK] jugoslawien , und wir haben einen schritt in richtung auf , die [UNK] [UNK] , die [UNK] , die [UNK] , die [UNK] , die werte der [UNK] der genfer abkommen [UNK] , [UNK] , [UNK] [UNK] . \n",
      "Actual Sentence Durch die Schaffung internationaler Gerichtshöfe wie die, die es bereits im Zusammenhang mit dem ehemaligen Jugoslawien oder Ruanda gibt, sind wir einen Schritt vorangekommen, um denjenigen das Leben zu erschweren, die Zuwiderhandlungen gegen die Werte der Genfer Abkommen unterstützen.\n",
      "BLEU Score: 0.6245756549872458 \n",
      "\n",
      "(1, 22, 256)\n",
      "Input Sentence These people must start to realise that the world is no longer a place where impunity is the rule.\n",
      "Predicted Sentence diese menschen mussen wir zu erkennen , da die welt nicht mehr als [UNK] ist , sondern auch die rechtsstaatlichkeit , in der [UNK] . \n",
      "Actual Sentence Diese Personen müssen langsam begreifen, daß die Welt ein Raum geworden ist, in dem Straffreiheit nicht die Regel ist.\n",
      "BLEU Score: 0.6324555320336759 \n",
      "\n",
      "(1, 42, 256)\n",
      "Input Sentence If we can get this message across, we will certainly be helping to strengthen human rights and to give the principles which the Geneva Conventions and their protocols aim to protect the credibility and effectiveness that they need.\n",
      "Predicted Sentence wenn wir diese botschaft [UNK] konnen , werden wir naturlich die grundsatze und die grundsatze der genfer ubereinkommen einhalten , und sie wollen die grundsatze und die grundsatze des genfer ubereinkommen und deren einhaltung der glaubwurdigkeit und ihre [UNK] [UNK] konvent gewahrleisten , um die glaubwurdigkeit des konvents zu schutzen\n",
      "Actual Sentence Wenn sich diese Botschaft durchsetzt, werden wir mit Sicherheit zur Stärkung des humanitären Rechts und zur notwendigen Glaubwürdigkeit und Wirksamkeit der Grundsätze beitragen, deren Schutz die Genfer Abkommen und ihre Protokolle galten.\n",
      "BLEU Score: 0.3078322729927266 \n",
      "\n",
      "(1, 45, 256)\n",
      "Input Sentence I congratulate the President for domestic reasons. I would now like to speak, on behalf of the Socialist Group, in this debate which follows what we consider to be a satisfactory statement from the Council on the Geneva Convention.\n",
      "Predicted Sentence ich begluckwunsche die [UNK] zu den [UNK] , mochte ich im namen der sozialistischen fraktion zu sprechen , denn wir mussen in dieser debatte uber die folgenden erklarung des rates in dieser aussprache uber die folgenden funf jahre [UNK] . \n",
      "Actual Sentence Ich möchte den Herrn Präsidenten persönlich beglückwünschen und nunmehr das Wort im Namen der Sozialistischen Fraktion in dieser Debatte ergreifen, die sich an die - für uns - zufriedenstellende Erklärung des Rates zu den Genfer Abkommen anschließt.\n",
      "BLEU Score: 0.3277456805297591 \n",
      "\n",
      "(1, 45, 256)\n",
      "Input Sentence I will begin with an initial comment explaining the reasons why my Group tabled a resolution on this same subject during the last session of Parliament in 1999. This resolution was never debated for reasons which we will not go into here.\n",
      "Predicted Sentence ich mochte zunachst einmal zu sagen , da meine fraktion eine entschlieung zu dieser debatte gefuhrt hat , wahrend der letzten sitzung in der letzten sitzung des parlaments in dieser entschlieung gefuhrt wurde , nie uber grund reden , denn wir reden nicht uber die grunde , die wir nicht\n",
      "Actual Sentence Ich möchte zunächst kurz darauf eingehen, warum meine Fraktion zu demselben Thema in der letzten Plenartagung des Parlaments von 1999 eine Entschließung vorlegte, die dann aus anderweitigen Gründen nicht diskutiert wurde.\n",
      "BLEU Score: 0.1112285551584432 \n",
      "\n",
      "(1, 49, 256)\n"
     ]
    },
    {
     "name": "stderr",
     "output_type": "stream",
     "text": [
      "/opt/conda/lib/python3.10/site-packages/nltk/translate/bleu_score.py:490: UserWarning: \n",
      "Corpus/Sentence contains 0 counts of 4-gram overlaps.\n",
      "BLEU scores might be undesirable; use SmoothingFunction().\n",
      "  warnings.warn(_msg)\n"
     ]
    },
    {
     "name": "stdout",
     "output_type": "stream",
     "text": [
      "Input Sentence It seems to us highly appropriate to speak in the European Parliament of regulations which have enriched humanity' s legal heritage and we should take every opportunity to recall and strengthen the validity of those instruments given the protection they offer and the rights they safeguard.\n",
      "Predicted Sentence es erscheint uns wichtig , da wir in den europaischen parlament [UNK] , die [UNK] [UNK] [UNK] und [UNK] [UNK] und fordern wir alle organe und fordern und die [UNK] von denjenigen , die sie ermoglichen , und die rechte des burgers , die sie ermoglichen , und rechte des\n",
      "Actual Sentence Wir halten es für völlig legitim, daß wir im Europäischen Parlament zu Normen Stellung nehmen, die den juristischen Besitzstand der Menschheit bereichert haben, und wir müssen jede Gelegenheit nutzen, um die Wirkung dieser Instrumente angesichts des durch sie gebotenen Schutzes und der durch sie garantierten Rechte in Erinnerung zu rufen und zu verstärken.\n",
      "BLEU Score: 0.672489748161637 \n",
      "\n",
      "(1, 48, 256)\n",
      "Input Sentence Another reason for adopting a resolution such as the one we are tabling is the fact that much of the work of the European institutions is aimed at finding balance and equality, and these are concepts which are almost completely incompatible with armed conflict.\n",
      "Predicted Sentence ein weiterer grund fur eine entschlieung , die wir uns heute nicht [UNK] , so da die arbeit der europaischen institutionen ist , und zwar [UNK] , was [UNK] und [UNK] , was fast fast [UNK] gibt . \n",
      "Actual Sentence Ein weiteres Argument für die Annahme einer Entschließung, wie wir sie vorgelegt hatten, geht davon aus, daß vielem von dem, was die europäischen Institutionen realisieren, das Streben nach Gleichgewicht und Gerechtigkeit zugrunde liegt. Das sind Begriffe, die mit bewaffneten Konfliktsituationen nicht oder kaum vereinbar sind.\n",
      "BLEU Score: 0.5243126045664057 \n",
      "\n",
      "(1, 39, 256)\n",
      "Input Sentence The main victims of conflicts - children, women and the population in general - are the first to be threatened and to suffer and we must make their protection one of the priority objectives of our action.\n",
      "Predicted Sentence die opfer von [UNK] sind frauen und die bevolkerung im allgemeinen rahmen des [UNK] und der bevolkerung im allgemeinen rahmen der prioritaten gesetzt werden und mussen wir uns dessen bewut sein , da die [UNK] der ziele unseres erachtens eine der [UNK] des [UNK] dienen . \n",
      "Actual Sentence Die Hauptopfer der Konflikte - die Kinder, die Frauen, die Bevölkerung insgesamt - sind die ersten, die in Gefahr sind und denen Leid zugefügt wird, und wir müssen ihren Schutz in die vorrangigen Ziele unserer Aktion einzubeziehen.\n",
      "BLEU Score: 0.645777692487244 \n",
      "\n",
      "(1, 55, 256)\n",
      "Input Sentence The more we do to prevent violations of international humanitarian law, the more we remind other states - by means of all the opportunities which our foreign relations offer us - of the need to ratify and respect the Geneva Convention and the more we will be doing to protect these weakest groups.\n",
      "Predicted Sentence die [UNK] des [UNK] [UNK] [UNK] , desto starker auf die anderen [UNK] , die wir in den kommenden [UNK] [UNK] , die unsere beziehungen einhalten , die unser [UNK] beziehungen zu ermoglichen und die [UNK] [UNK] und die [UNK] [UNK] werden . \n",
      "Actual Sentence Je mehr wir gegen die Verletzungen des humanitären Völkerrechts tun, je mehr wir die übrigen Staaten - unter Nutzung aller Möglichkeiten unserer außenpolitischen Beziehungen - an die Notwendigkeit der Ratifizierung und Respektierung der Genfer Abkommen erinnern, um so mehr tun wir für diese schwächste Gruppe.\n",
      "BLEU Score: 0.5834060860752247 \n",
      "\n"
     ]
    }
   ],
   "source": [
    "from nltk.translate.bleu_score import sentence_bleu\n",
    "\n",
    "for i in range(25001,25017): # evaluating 15 unseen sentences which were not a part of training data\n",
    "    try:\n",
    "        result = model.translate([europarl_lines_bp['English_Text'].values[i]]) \n",
    "        hypothesis = result[0].numpy().decode()\n",
    "        print('Input Sentence', europarl_lines_bp['English_Text'].values[i])\n",
    "        print('Predicted Sentence', hypothesis)\n",
    "        print('Actual Sentence', europarl_lines_bp['German_Text'].values[i])\n",
    "        hypothesis = str(hypothesis).split()\n",
    "        reference = str(europarl_lines_bp['German_Text'].values[i]).split()\n",
    "        #the maximum is bigram, so assign the weight into 2 half.\n",
    "        BLEUscore = sentence_bleu([reference], hypothesis)\n",
    "        print('BLEU Score:',BLEUscore, '\\n')\n",
    "    except:\n",
    "        continue"
   ]
  },
  {
   "cell_type": "code",
   "execution_count": null,
   "id": "9f2b7fe0",
   "metadata": {
    "papermill": {
     "duration": 0.129055,
     "end_time": "2023-05-12T08:54:15.993127",
     "exception": false,
     "start_time": "2023-05-12T08:54:15.864072",
     "status": "completed"
    },
    "tags": []
   },
   "outputs": [],
   "source": []
  }
 ],
 "metadata": {
  "kernelspec": {
   "display_name": "Python 3",
   "language": "python",
   "name": "python3"
  },
  "language_info": {
   "codemirror_mode": {
    "name": "ipython",
    "version": 3
   },
   "file_extension": ".py",
   "mimetype": "text/x-python",
   "name": "python",
   "nbconvert_exporter": "python",
   "pygments_lexer": "ipython3",
   "version": "3.10.10"
  },
  "papermill": {
   "default_parameters": {},
   "duration": 3112.362019,
   "end_time": "2023-05-12T08:54:19.760269",
   "environment_variables": {},
   "exception": null,
   "input_path": "__notebook__.ipynb",
   "output_path": "__notebook__.ipynb",
   "parameters": {},
   "start_time": "2023-05-12T08:02:27.398250",
   "version": "2.4.0"
  }
 },
 "nbformat": 4,
 "nbformat_minor": 5
}
